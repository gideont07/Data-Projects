{
 "cells": [
  {
   "attachments": {},
   "cell_type": "markdown",
   "metadata": {},
   "source": [
    "## Perkenalan\n",
    "`Marchelly Gideon Tambunan`\\"
   ]
  },
  {
   "attachments": {},
   "cell_type": "markdown",
   "metadata": {},
   "source": [
    "## Description\n",
    "### Objective\n",
    "`analisa perkembangan covid-19 di negara ASEAN`\n",
    "\n",
    "### Problem Statement\n",
    "`perkembangan kasus covid-19 di Asean`\\\n",
    "`Pertambahan kasus dari waktu ke waktu`\\\n",
    "`perbandingan kasus covid-19 antara Indonesia dengan Malaysia` \\\n",
    "`Jumlah kasus kematian tertinggi di negara malaysia`\\\n",
    "`Hubungan antara jumlah kasus sembuh dan meniggal`"
   ]
  },
  {
   "attachments": {},
   "cell_type": "markdown",
   "metadata": {},
   "source": [
    "### i. SQL Queries\n",
    "SELECT *\n",
    "\n",
    "FROM '`bigquery-public-data.covid19_jhu_csse_eu.summary`'\n",
    "\n",
    "WHERE country_region IN ('Indonesia','Thailand','Vietnam','Brunei Darussalam','Malaysia', 'Singapura','Cambodia','Laos','Philippines','Myanmar')"
   ]
  },
  {
   "attachments": {},
   "cell_type": "markdown",
   "metadata": {},
   "source": [
    "### Import Pustaka yang dibutuhkan"
   ]
  },
  {
   "cell_type": "code",
   "execution_count": 2,
   "metadata": {},
   "outputs": [],
   "source": [
    "import pandas as pd #import pandas\n",
    "import numpy as np #import numpy"
   ]
  },
  {
   "attachments": {},
   "cell_type": "markdown",
   "metadata": {},
   "source": [
    "## ii. Data Loading"
   ]
  },
  {
   "cell_type": "code",
   "execution_count": 3,
   "metadata": {},
   "outputs": [],
   "source": [
    "df = pd.read_csv('C:\\H8_project\\Hacktiv8_GC\\h8dsft_P0GC1_Marchelly_Gideon.csv',na_values=[\" \", \"-\", \"?\" ,\"n/a\", \"na\", \"--\"]) #memuat library pada notebook"
   ]
  },
  {
   "attachments": {},
   "cell_type": "markdown",
   "metadata": {},
   "source": [
    "### Eksplorasi Data Sederhana"
   ]
  },
  {
   "cell_type": "code",
   "execution_count": 4,
   "metadata": {},
   "outputs": [
    {
     "data": {
      "text/html": [
       "<div>\n",
       "<style scoped>\n",
       "    .dataframe tbody tr th:only-of-type {\n",
       "        vertical-align: middle;\n",
       "    }\n",
       "\n",
       "    .dataframe tbody tr th {\n",
       "        vertical-align: top;\n",
       "    }\n",
       "\n",
       "    .dataframe thead th {\n",
       "        text-align: right;\n",
       "    }\n",
       "</style>\n",
       "<table border=\"1\" class=\"dataframe\">\n",
       "  <thead>\n",
       "    <tr style=\"text-align: right;\">\n",
       "      <th></th>\n",
       "      <th>province_state</th>\n",
       "      <th>country_region</th>\n",
       "      <th>date</th>\n",
       "      <th>latitude</th>\n",
       "      <th>longitude</th>\n",
       "      <th>location_geom</th>\n",
       "      <th>confirmed</th>\n",
       "      <th>deaths</th>\n",
       "      <th>recovered</th>\n",
       "      <th>active</th>\n",
       "      <th>fips</th>\n",
       "      <th>admin2</th>\n",
       "      <th>combined_key</th>\n",
       "    </tr>\n",
       "  </thead>\n",
       "  <tbody>\n",
       "    <tr>\n",
       "      <th>0</th>\n",
       "      <td>NaN</td>\n",
       "      <td>Thailand</td>\n",
       "      <td>2020-03-03</td>\n",
       "      <td>15.000000</td>\n",
       "      <td>101.000000</td>\n",
       "      <td>POINT(101 15)</td>\n",
       "      <td>43.0</td>\n",
       "      <td>1.0</td>\n",
       "      <td>31.0</td>\n",
       "      <td>NaN</td>\n",
       "      <td>NaN</td>\n",
       "      <td>NaN</td>\n",
       "      <td>NaN</td>\n",
       "    </tr>\n",
       "    <tr>\n",
       "      <th>1</th>\n",
       "      <td>NaN</td>\n",
       "      <td>Malaysia</td>\n",
       "      <td>2020-03-03</td>\n",
       "      <td>2.500000</td>\n",
       "      <td>112.500000</td>\n",
       "      <td>POINT(112.5 2.5)</td>\n",
       "      <td>36.0</td>\n",
       "      <td>0.0</td>\n",
       "      <td>22.0</td>\n",
       "      <td>NaN</td>\n",
       "      <td>NaN</td>\n",
       "      <td>NaN</td>\n",
       "      <td>NaN</td>\n",
       "    </tr>\n",
       "    <tr>\n",
       "      <th>2</th>\n",
       "      <td>NaN</td>\n",
       "      <td>Vietnam</td>\n",
       "      <td>2020-03-03</td>\n",
       "      <td>16.000000</td>\n",
       "      <td>108.000000</td>\n",
       "      <td>POINT(108 16)</td>\n",
       "      <td>16.0</td>\n",
       "      <td>0.0</td>\n",
       "      <td>16.0</td>\n",
       "      <td>NaN</td>\n",
       "      <td>NaN</td>\n",
       "      <td>NaN</td>\n",
       "      <td>NaN</td>\n",
       "    </tr>\n",
       "    <tr>\n",
       "      <th>3</th>\n",
       "      <td>NaN</td>\n",
       "      <td>Philippines</td>\n",
       "      <td>2020-03-03</td>\n",
       "      <td>13.000000</td>\n",
       "      <td>122.000000</td>\n",
       "      <td>POINT(122 13)</td>\n",
       "      <td>3.0</td>\n",
       "      <td>1.0</td>\n",
       "      <td>1.0</td>\n",
       "      <td>NaN</td>\n",
       "      <td>NaN</td>\n",
       "      <td>NaN</td>\n",
       "      <td>NaN</td>\n",
       "    </tr>\n",
       "    <tr>\n",
       "      <th>4</th>\n",
       "      <td>NaN</td>\n",
       "      <td>Malaysia</td>\n",
       "      <td>2020-04-18</td>\n",
       "      <td>4.210484</td>\n",
       "      <td>101.975766</td>\n",
       "      <td>POINT(101.975766 4.210484)</td>\n",
       "      <td>5305.0</td>\n",
       "      <td>88.0</td>\n",
       "      <td>3102.0</td>\n",
       "      <td>2115.0</td>\n",
       "      <td>NaN</td>\n",
       "      <td>NaN</td>\n",
       "      <td>Malaysia</td>\n",
       "    </tr>\n",
       "  </tbody>\n",
       "</table>\n",
       "</div>"
      ],
      "text/plain": [
       "  province_state country_region        date   latitude   longitude  \\\n",
       "0            NaN       Thailand  2020-03-03  15.000000  101.000000   \n",
       "1            NaN       Malaysia  2020-03-03   2.500000  112.500000   \n",
       "2            NaN        Vietnam  2020-03-03  16.000000  108.000000   \n",
       "3            NaN    Philippines  2020-03-03  13.000000  122.000000   \n",
       "4            NaN       Malaysia  2020-04-18   4.210484  101.975766   \n",
       "\n",
       "                location_geom  confirmed  deaths  recovered  active  fips  \\\n",
       "0               POINT(101 15)       43.0     1.0       31.0     NaN   NaN   \n",
       "1            POINT(112.5 2.5)       36.0     0.0       22.0     NaN   NaN   \n",
       "2               POINT(108 16)       16.0     0.0       16.0     NaN   NaN   \n",
       "3               POINT(122 13)        3.0     1.0        1.0     NaN   NaN   \n",
       "4  POINT(101.975766 4.210484)     5305.0    88.0     3102.0  2115.0   NaN   \n",
       "\n",
       "   admin2 combined_key  \n",
       "0     NaN          NaN  \n",
       "1     NaN          NaN  \n",
       "2     NaN          NaN  \n",
       "3     NaN          NaN  \n",
       "4     NaN     Malaysia  "
      ]
     },
     "execution_count": 4,
     "metadata": {},
     "output_type": "execute_result"
    }
   ],
   "source": [
    "df.head()"
   ]
  },
  {
   "cell_type": "code",
   "execution_count": 5,
   "metadata": {},
   "outputs": [
    {
     "data": {
      "text/html": [
       "<div>\n",
       "<style scoped>\n",
       "    .dataframe tbody tr th:only-of-type {\n",
       "        vertical-align: middle;\n",
       "    }\n",
       "\n",
       "    .dataframe tbody tr th {\n",
       "        vertical-align: top;\n",
       "    }\n",
       "\n",
       "    .dataframe thead th {\n",
       "        text-align: right;\n",
       "    }\n",
       "</style>\n",
       "<table border=\"1\" class=\"dataframe\">\n",
       "  <thead>\n",
       "    <tr style=\"text-align: right;\">\n",
       "      <th></th>\n",
       "      <th>province_state</th>\n",
       "      <th>country_region</th>\n",
       "      <th>date</th>\n",
       "      <th>latitude</th>\n",
       "      <th>longitude</th>\n",
       "      <th>location_geom</th>\n",
       "      <th>confirmed</th>\n",
       "      <th>deaths</th>\n",
       "      <th>recovered</th>\n",
       "      <th>active</th>\n",
       "      <th>fips</th>\n",
       "      <th>admin2</th>\n",
       "      <th>combined_key</th>\n",
       "    </tr>\n",
       "  </thead>\n",
       "  <tbody>\n",
       "    <tr>\n",
       "      <th>15686</th>\n",
       "      <td>NaN</td>\n",
       "      <td>Thailand</td>\n",
       "      <td>2020-04-08</td>\n",
       "      <td>15.870032</td>\n",
       "      <td>100.992541</td>\n",
       "      <td>POINT(100.992541 15.870032)</td>\n",
       "      <td>2369.0</td>\n",
       "      <td>30.0</td>\n",
       "      <td>888.0</td>\n",
       "      <td>1451.0</td>\n",
       "      <td>NaN</td>\n",
       "      <td>NaN</td>\n",
       "      <td>Thailand</td>\n",
       "    </tr>\n",
       "    <tr>\n",
       "      <th>15687</th>\n",
       "      <td>NaN</td>\n",
       "      <td>Thailand</td>\n",
       "      <td>2022-09-10</td>\n",
       "      <td>15.870032</td>\n",
       "      <td>100.992541</td>\n",
       "      <td>POINT(100.992541 15.870032)</td>\n",
       "      <td>4667546.0</td>\n",
       "      <td>32539.0</td>\n",
       "      <td>NaN</td>\n",
       "      <td>NaN</td>\n",
       "      <td>NaN</td>\n",
       "      <td>NaN</td>\n",
       "      <td>Thailand</td>\n",
       "    </tr>\n",
       "    <tr>\n",
       "      <th>15688</th>\n",
       "      <td>NaN</td>\n",
       "      <td>Thailand</td>\n",
       "      <td>2022-02-27</td>\n",
       "      <td>15.870032</td>\n",
       "      <td>100.992541</td>\n",
       "      <td>POINT(100.992541 15.870032)</td>\n",
       "      <td>2891927.0</td>\n",
       "      <td>22933.0</td>\n",
       "      <td>NaN</td>\n",
       "      <td>NaN</td>\n",
       "      <td>NaN</td>\n",
       "      <td>NaN</td>\n",
       "      <td>Thailand</td>\n",
       "    </tr>\n",
       "    <tr>\n",
       "      <th>15689</th>\n",
       "      <td>NaN</td>\n",
       "      <td>Thailand</td>\n",
       "      <td>2021-04-04</td>\n",
       "      <td>15.870032</td>\n",
       "      <td>100.992541</td>\n",
       "      <td>POINT(100.992541 15.870032)</td>\n",
       "      <td>29127.0</td>\n",
       "      <td>95.0</td>\n",
       "      <td>26873.0</td>\n",
       "      <td>2159.0</td>\n",
       "      <td>NaN</td>\n",
       "      <td>NaN</td>\n",
       "      <td>Thailand</td>\n",
       "    </tr>\n",
       "    <tr>\n",
       "      <th>15690</th>\n",
       "      <td>NaN</td>\n",
       "      <td>Thailand</td>\n",
       "      <td>2021-01-30</td>\n",
       "      <td>15.870032</td>\n",
       "      <td>100.992541</td>\n",
       "      <td>POINT(100.992541 15.870032)</td>\n",
       "      <td>18782.0</td>\n",
       "      <td>77.0</td>\n",
       "      <td>11615.0</td>\n",
       "      <td>7090.0</td>\n",
       "      <td>NaN</td>\n",
       "      <td>NaN</td>\n",
       "      <td>Thailand</td>\n",
       "    </tr>\n",
       "  </tbody>\n",
       "</table>\n",
       "</div>"
      ],
      "text/plain": [
       "      province_state country_region        date   latitude   longitude  \\\n",
       "15686            NaN       Thailand  2020-04-08  15.870032  100.992541   \n",
       "15687            NaN       Thailand  2022-09-10  15.870032  100.992541   \n",
       "15688            NaN       Thailand  2022-02-27  15.870032  100.992541   \n",
       "15689            NaN       Thailand  2021-04-04  15.870032  100.992541   \n",
       "15690            NaN       Thailand  2021-01-30  15.870032  100.992541   \n",
       "\n",
       "                     location_geom  confirmed   deaths  recovered  active  \\\n",
       "15686  POINT(100.992541 15.870032)     2369.0     30.0      888.0  1451.0   \n",
       "15687  POINT(100.992541 15.870032)  4667546.0  32539.0        NaN     NaN   \n",
       "15688  POINT(100.992541 15.870032)  2891927.0  22933.0        NaN     NaN   \n",
       "15689  POINT(100.992541 15.870032)    29127.0     95.0    26873.0  2159.0   \n",
       "15690  POINT(100.992541 15.870032)    18782.0     77.0    11615.0  7090.0   \n",
       "\n",
       "       fips  admin2 combined_key  \n",
       "15686   NaN     NaN     Thailand  \n",
       "15687   NaN     NaN     Thailand  \n",
       "15688   NaN     NaN     Thailand  \n",
       "15689   NaN     NaN     Thailand  \n",
       "15690   NaN     NaN     Thailand  "
      ]
     },
     "execution_count": 5,
     "metadata": {},
     "output_type": "execute_result"
    }
   ],
   "source": [
    "df.tail()"
   ]
  },
  {
   "cell_type": "code",
   "execution_count": 6,
   "metadata": {},
   "outputs": [
    {
     "name": "stdout",
     "output_type": "stream",
     "text": [
      "<class 'pandas.core.frame.DataFrame'>\n",
      "RangeIndex: 15691 entries, 0 to 15690\n",
      "Data columns (total 13 columns):\n",
      " #   Column          Non-Null Count  Dtype  \n",
      "---  ------          --------------  -----  \n",
      " 0   province_state  8534 non-null   object \n",
      " 1   country_region  15691 non-null  object \n",
      " 2   date            15691 non-null  object \n",
      " 3   latitude        15009 non-null  float64\n",
      " 4   longitude       15009 non-null  float64\n",
      " 5   location_geom   15009 non-null  object \n",
      " 6   confirmed       15689 non-null  float64\n",
      " 7   deaths          15656 non-null  float64\n",
      " 8   recovered       3797 non-null   float64\n",
      " 9   active          3522 non-null   float64\n",
      " 10  fips            0 non-null      float64\n",
      " 11  admin2          0 non-null      float64\n",
      " 12  combined_key    15387 non-null  object \n",
      "dtypes: float64(8), object(5)\n",
      "memory usage: 1.6+ MB\n"
     ]
    }
   ],
   "source": [
    "df.info()"
   ]
  },
  {
   "attachments": {},
   "cell_type": "markdown",
   "metadata": {},
   "source": [
    "## iii. Data Cleaning"
   ]
  },
  {
   "attachments": {},
   "cell_type": "markdown",
   "metadata": {},
   "source": [
    "Menangani missing values pada data yang didapat"
   ]
  },
  {
   "cell_type": "code",
   "execution_count": 7,
   "metadata": {},
   "outputs": [
    {
     "data": {
      "text/plain": [
       "province_state     7157\n",
       "country_region        0\n",
       "date                  0\n",
       "latitude            682\n",
       "longitude           682\n",
       "location_geom       682\n",
       "confirmed             2\n",
       "deaths               35\n",
       "recovered         11894\n",
       "active            12169\n",
       "fips              15691\n",
       "admin2            15691\n",
       "combined_key        304\n",
       "dtype: int64"
      ]
     },
     "execution_count": 7,
     "metadata": {},
     "output_type": "execute_result"
    }
   ],
   "source": [
    "df.isnull().sum()                                                                             #memeriksa apakah dataframe ada nilai null"
   ]
  },
  {
   "attachments": {},
   "cell_type": "markdown",
   "metadata": {},
   "source": [
    "Dalam mengatasi missing value dari data yang kita dapat. langkah pertama yang harus kita lakukan adalah menghapus kolom yang tidak diperlukan. Kolom yang kita akan hapus antara lain `Latitude, longitude, location_geom, fips, admin2` Karena saya rasa combined_key dan lokasi dari data tersebut tidak dapat dicari insight nya, serta kolom fips dan admin itu memiliki nilai null pada indeks nya."
   ]
  },
  {
   "cell_type": "code",
   "execution_count": 8,
   "metadata": {},
   "outputs": [],
   "source": [
    "df.drop(['latitude', 'longitude', 'location_geom', 'fips', 'admin2', 'combined_key'], inplace = True, axis=1)       #menghapus kolom yang tidak digunakan"
   ]
  },
  {
   "attachments": {},
   "cell_type": "markdown",
   "metadata": {},
   "source": [
    "mengubah nama kolom menjadi bahasa yang lebih mudah dipahami"
   ]
  },
  {
   "cell_type": "code",
   "execution_count": 9,
   "metadata": {},
   "outputs": [],
   "source": [
    "df.rename(                                    #mengubah nama pada kolom\n",
    "    columns = {\n",
    "        'province_state' : 'provinsi',\n",
    "        'country_region' : 'negara',\n",
    "        'date' : 'tanggal',\n",
    "        'deaths' : 'meninggal',\n",
    "        'recovered' : 'sembuh'},inplace = True)"
   ]
  },
  {
   "attachments": {},
   "cell_type": "markdown",
   "metadata": {},
   "source": [
    "Isi Missing Value pada kolom sembuh, active, confirmed, meninggal, provinsi menjadi `0` atau `none` Karena pada kolom provinsi kita mungkin akan membutuhkannya"
   ]
  },
  {
   "cell_type": "code",
   "execution_count": 10,
   "metadata": {},
   "outputs": [],
   "source": [
    "df[\"sembuh\"].fillna(\"0\", inplace = True)\n",
    "df[\"active\"].fillna(\"0\", inplace = True)\n",
    "df[\"provinsi\"].fillna(\"Unknown\", inplace = True)\n",
    "df[\"confirmed\"].fillna(\"0\", inplace = True)\n",
    "df[\"meninggal\"].fillna(\"0\", inplace = True)"
   ]
  },
  {
   "attachments": {},
   "cell_type": "markdown",
   "metadata": {},
   "source": [
    "cek apakah data sudah bersih"
   ]
  },
  {
   "cell_type": "code",
   "execution_count": 11,
   "metadata": {},
   "outputs": [
    {
     "data": {
      "text/plain": [
       "provinsi     0\n",
       "negara       0\n",
       "tanggal      0\n",
       "confirmed    0\n",
       "meninggal    0\n",
       "sembuh       0\n",
       "active       0\n",
       "dtype: int64"
      ]
     },
     "execution_count": 11,
     "metadata": {},
     "output_type": "execute_result"
    }
   ],
   "source": [
    "df.isnull().sum()                                                                             #memeriksa apakah dataframe ada nilai null"
   ]
  },
  {
   "attachments": {},
   "cell_type": "markdown",
   "metadata": {},
   "source": [
    "Mengubah Tipe Data Sesuai Kebutuhan"
   ]
  },
  {
   "cell_type": "code",
   "execution_count": 12,
   "metadata": {},
   "outputs": [
    {
     "name": "stdout",
     "output_type": "stream",
     "text": [
      "provinsi             object\n",
      "negara               object\n",
      "tanggal      datetime64[ns]\n",
      "confirmed             int32\n",
      "meninggal             int32\n",
      "sembuh                int32\n",
      "active                int32\n",
      "dtype: object\n"
     ]
    }
   ],
   "source": [
    "convert_dict = {'confirmed': int,\n",
    "                'meninggal': int,\n",
    "                'sembuh': int,\n",
    "                'active': int,\n",
    "                'tanggal': 'datetime64[ns]'\n",
    "                }\n",
    " \n",
    "df = df.astype(convert_dict)\n",
    "print(df.dtypes)"
   ]
  },
  {
   "attachments": {},
   "cell_type": "markdown",
   "metadata": {},
   "source": [
    "# iv. Data Query\n"
   ]
  },
  {
   "attachments": {},
   "cell_type": "markdown",
   "metadata": {},
   "source": [
    "pertama kita akan mengurutkan tanggal terlebih dahulu agar lebih mudah dipahami"
   ]
  },
  {
   "cell_type": "code",
   "execution_count": 14,
   "metadata": {},
   "outputs": [],
   "source": [
    "df.sort_values('tanggal', inplace=True, ignore_index = True)"
   ]
  },
  {
   "attachments": {},
   "cell_type": "markdown",
   "metadata": {},
   "source": [
    "##### pada langkah ini kita akan melakukan Beberapa data query untuk melihat kasus aktif dan sembuh dari covid-19 di `Indonesia`"
   ]
  },
  {
   "cell_type": "code",
   "execution_count": 16,
   "metadata": {},
   "outputs": [
    {
     "data": {
      "text/html": [
       "<div>\n",
       "<style scoped>\n",
       "    .dataframe tbody tr th:only-of-type {\n",
       "        vertical-align: middle;\n",
       "    }\n",
       "\n",
       "    .dataframe tbody tr th {\n",
       "        vertical-align: top;\n",
       "    }\n",
       "\n",
       "    .dataframe thead th {\n",
       "        text-align: right;\n",
       "    }\n",
       "</style>\n",
       "<table border=\"1\" class=\"dataframe\">\n",
       "  <thead>\n",
       "    <tr style=\"text-align: right;\">\n",
       "      <th></th>\n",
       "      <th>provinsi</th>\n",
       "      <th>negara</th>\n",
       "      <th>tanggal</th>\n",
       "      <th>confirmed</th>\n",
       "      <th>meninggal</th>\n",
       "      <th>sembuh</th>\n",
       "      <th>active</th>\n",
       "    </tr>\n",
       "  </thead>\n",
       "  <tbody>\n",
       "    <tr>\n",
       "      <th>845</th>\n",
       "      <td>Unknown</td>\n",
       "      <td>Indonesia</td>\n",
       "      <td>2020-06-07</td>\n",
       "      <td>31186</td>\n",
       "      <td>1851</td>\n",
       "      <td>10498</td>\n",
       "      <td>18837</td>\n",
       "    </tr>\n",
       "    <tr>\n",
       "      <th>848</th>\n",
       "      <td>Unknown</td>\n",
       "      <td>Indonesia</td>\n",
       "      <td>2020-06-08</td>\n",
       "      <td>32033</td>\n",
       "      <td>1883</td>\n",
       "      <td>10904</td>\n",
       "      <td>19246</td>\n",
       "    </tr>\n",
       "    <tr>\n",
       "      <th>856</th>\n",
       "      <td>Unknown</td>\n",
       "      <td>Indonesia</td>\n",
       "      <td>2020-06-09</td>\n",
       "      <td>33076</td>\n",
       "      <td>1923</td>\n",
       "      <td>11414</td>\n",
       "      <td>19739</td>\n",
       "    </tr>\n",
       "    <tr>\n",
       "      <th>867</th>\n",
       "      <td>Unknown</td>\n",
       "      <td>Indonesia</td>\n",
       "      <td>2020-06-10</td>\n",
       "      <td>34316</td>\n",
       "      <td>1959</td>\n",
       "      <td>12129</td>\n",
       "      <td>20228</td>\n",
       "    </tr>\n",
       "    <tr>\n",
       "      <th>869</th>\n",
       "      <td>Unknown</td>\n",
       "      <td>Indonesia</td>\n",
       "      <td>2020-06-11</td>\n",
       "      <td>35295</td>\n",
       "      <td>2000</td>\n",
       "      <td>12636</td>\n",
       "      <td>20659</td>\n",
       "    </tr>\n",
       "    <tr>\n",
       "      <th>...</th>\n",
       "      <td>...</td>\n",
       "      <td>...</td>\n",
       "      <td>...</td>\n",
       "      <td>...</td>\n",
       "      <td>...</td>\n",
       "      <td>...</td>\n",
       "      <td>...</td>\n",
       "    </tr>\n",
       "    <tr>\n",
       "      <th>3777</th>\n",
       "      <td>Unknown</td>\n",
       "      <td>Indonesia</td>\n",
       "      <td>2021-07-31</td>\n",
       "      <td>3409658</td>\n",
       "      <td>94119</td>\n",
       "      <td>2770092</td>\n",
       "      <td>545447</td>\n",
       "    </tr>\n",
       "    <tr>\n",
       "      <th>3784</th>\n",
       "      <td>Unknown</td>\n",
       "      <td>Indonesia</td>\n",
       "      <td>2021-08-01</td>\n",
       "      <td>3440396</td>\n",
       "      <td>95723</td>\n",
       "      <td>2809538</td>\n",
       "      <td>535135</td>\n",
       "    </tr>\n",
       "    <tr>\n",
       "      <th>3788</th>\n",
       "      <td>Unknown</td>\n",
       "      <td>Indonesia</td>\n",
       "      <td>2021-08-02</td>\n",
       "      <td>3462800</td>\n",
       "      <td>97291</td>\n",
       "      <td>2842345</td>\n",
       "      <td>523164</td>\n",
       "    </tr>\n",
       "    <tr>\n",
       "      <th>3798</th>\n",
       "      <td>Unknown</td>\n",
       "      <td>Indonesia</td>\n",
       "      <td>2021-08-03</td>\n",
       "      <td>3496700</td>\n",
       "      <td>98889</td>\n",
       "      <td>2873669</td>\n",
       "      <td>524142</td>\n",
       "    </tr>\n",
       "    <tr>\n",
       "      <th>3802</th>\n",
       "      <td>Unknown</td>\n",
       "      <td>Indonesia</td>\n",
       "      <td>2021-08-04</td>\n",
       "      <td>3532567</td>\n",
       "      <td>100636</td>\n",
       "      <td>2907920</td>\n",
       "      <td>524011</td>\n",
       "    </tr>\n",
       "  </tbody>\n",
       "</table>\n",
       "<p>424 rows × 7 columns</p>\n",
       "</div>"
      ],
      "text/plain": [
       "     provinsi     negara    tanggal  confirmed  meninggal   sembuh  active\n",
       "845   Unknown  Indonesia 2020-06-07      31186       1851    10498   18837\n",
       "848   Unknown  Indonesia 2020-06-08      32033       1883    10904   19246\n",
       "856   Unknown  Indonesia 2020-06-09      33076       1923    11414   19739\n",
       "867   Unknown  Indonesia 2020-06-10      34316       1959    12129   20228\n",
       "869   Unknown  Indonesia 2020-06-11      35295       2000    12636   20659\n",
       "...       ...        ...        ...        ...        ...      ...     ...\n",
       "3777  Unknown  Indonesia 2021-07-31    3409658      94119  2770092  545447\n",
       "3784  Unknown  Indonesia 2021-08-01    3440396      95723  2809538  535135\n",
       "3788  Unknown  Indonesia 2021-08-02    3462800      97291  2842345  523164\n",
       "3798  Unknown  Indonesia 2021-08-03    3496700      98889  2873669  524142\n",
       "3802  Unknown  Indonesia 2021-08-04    3532567     100636  2907920  524011\n",
       "\n",
       "[424 rows x 7 columns]"
      ]
     },
     "execution_count": 16,
     "metadata": {},
     "output_type": "execute_result"
    }
   ],
   "source": [
    "df_id = df[\n",
    "    # query data country untuk indonesia\n",
    "      (df['negara'].isin(['Indonesia']))\n",
    "    & (df['sembuh'] > 10000)\n",
    "    & (df['active'] > 10000)\n",
    "    ]\n",
    "df_id"
   ]
  },
  {
   "attachments": {},
   "cell_type": "markdown",
   "metadata": {},
   "source": [
    "dapat dilihat bahwa dari data tersebut terdapat peningkatan kasus aktif sebesar `505.174` dan yang sembuh sekitar `2.897.422` orang akibat covid-19 dari `7 juni 2020` hingga `4 agustus 2021`"
   ]
  },
  {
   "attachments": {},
   "cell_type": "markdown",
   "metadata": {},
   "source": [
    "##### selanjutnya, kita akan melihat orang yang terkonfirmasi covid-19 di `Philippines`"
   ]
  },
  {
   "cell_type": "code",
   "execution_count": 78,
   "metadata": {},
   "outputs": [
    {
     "data": {
      "text/html": [
       "<div>\n",
       "<style scoped>\n",
       "    .dataframe tbody tr th:only-of-type {\n",
       "        vertical-align: middle;\n",
       "    }\n",
       "\n",
       "    .dataframe tbody tr th {\n",
       "        vertical-align: top;\n",
       "    }\n",
       "\n",
       "    .dataframe thead th {\n",
       "        text-align: right;\n",
       "    }\n",
       "</style>\n",
       "<table border=\"1\" class=\"dataframe\">\n",
       "  <thead>\n",
       "    <tr style=\"text-align: right;\">\n",
       "      <th></th>\n",
       "      <th>provinsi</th>\n",
       "      <th>tanggal</th>\n",
       "      <th>confirmed</th>\n",
       "    </tr>\n",
       "  </thead>\n",
       "  <tbody>\n",
       "    <tr>\n",
       "      <th>378</th>\n",
       "      <td>Unknown</td>\n",
       "      <td>2020-04-01</td>\n",
       "      <td>2311</td>\n",
       "    </tr>\n",
       "    <tr>\n",
       "      <th>385</th>\n",
       "      <td>Unknown</td>\n",
       "      <td>2020-04-02</td>\n",
       "      <td>2633</td>\n",
       "    </tr>\n",
       "    <tr>\n",
       "      <th>389</th>\n",
       "      <td>Unknown</td>\n",
       "      <td>2020-04-03</td>\n",
       "      <td>3018</td>\n",
       "    </tr>\n",
       "    <tr>\n",
       "      <th>393</th>\n",
       "      <td>Unknown</td>\n",
       "      <td>2020-04-04</td>\n",
       "      <td>3094</td>\n",
       "    </tr>\n",
       "    <tr>\n",
       "      <th>403</th>\n",
       "      <td>Unknown</td>\n",
       "      <td>2020-04-05</td>\n",
       "      <td>3246</td>\n",
       "    </tr>\n",
       "    <tr>\n",
       "      <th>...</th>\n",
       "      <td>...</td>\n",
       "      <td>...</td>\n",
       "      <td>...</td>\n",
       "    </tr>\n",
       "    <tr>\n",
       "      <th>3534</th>\n",
       "      <td>Unknown</td>\n",
       "      <td>2021-06-26</td>\n",
       "      <td>1391911</td>\n",
       "    </tr>\n",
       "    <tr>\n",
       "      <th>3538</th>\n",
       "      <td>Unknown</td>\n",
       "      <td>2021-06-27</td>\n",
       "      <td>1397992</td>\n",
       "    </tr>\n",
       "    <tr>\n",
       "      <th>3543</th>\n",
       "      <td>Unknown</td>\n",
       "      <td>2021-06-28</td>\n",
       "      <td>1403588</td>\n",
       "    </tr>\n",
       "    <tr>\n",
       "      <th>3554</th>\n",
       "      <td>Unknown</td>\n",
       "      <td>2021-06-29</td>\n",
       "      <td>1408058</td>\n",
       "    </tr>\n",
       "    <tr>\n",
       "      <th>3563</th>\n",
       "      <td>Unknown</td>\n",
       "      <td>2021-06-30</td>\n",
       "      <td>1412559</td>\n",
       "    </tr>\n",
       "  </tbody>\n",
       "</table>\n",
       "<p>456 rows × 3 columns</p>\n",
       "</div>"
      ],
      "text/plain": [
       "     provinsi    tanggal  confirmed\n",
       "378   Unknown 2020-04-01       2311\n",
       "385   Unknown 2020-04-02       2633\n",
       "389   Unknown 2020-04-03       3018\n",
       "393   Unknown 2020-04-04       3094\n",
       "403   Unknown 2020-04-05       3246\n",
       "...       ...        ...        ...\n",
       "3534  Unknown 2021-06-26    1391911\n",
       "3538  Unknown 2021-06-27    1397992\n",
       "3543  Unknown 2021-06-28    1403588\n",
       "3554  Unknown 2021-06-29    1408058\n",
       "3563  Unknown 2021-06-30    1412559\n",
       "\n",
       "[456 rows x 3 columns]"
      ]
     },
     "execution_count": 78,
     "metadata": {},
     "output_type": "execute_result"
    }
   ],
   "source": [
    "df_ph = df.query(\n",
    "        \"negara == 'Philippines'& \\\n",
    "        tanggal <= '2021-06-30'&  \\\n",
    "        tanggal >= '2020-04-01'\"\n",
    ")[      \n",
    "        ['provinsi','tanggal','confirmed']\n",
    "]\n",
    "df_ph"
   ]
  },
  {
   "attachments": {},
   "cell_type": "markdown",
   "metadata": {},
   "source": [
    "Dari hasil diatas dapat dilihat bahwa selama kurang lebih 1 tahun orang yang terkonfirmasi covid-19 meningkat sangat jauh"
   ]
  },
  {
   "attachments": {},
   "cell_type": "markdown",
   "metadata": {},
   "source": [
    "##### Perbandingan Orang yang Sembuh dari covid-19 di `Malaysia` pada Kuartal 4 Tahun 2020 sd Kuartal 1 2021"
   ]
  },
  {
   "cell_type": "code",
   "execution_count": 43,
   "metadata": {},
   "outputs": [
    {
     "data": {
      "text/html": [
       "<div>\n",
       "<style scoped>\n",
       "    .dataframe tbody tr th:only-of-type {\n",
       "        vertical-align: middle;\n",
       "    }\n",
       "\n",
       "    .dataframe tbody tr th {\n",
       "        vertical-align: top;\n",
       "    }\n",
       "\n",
       "    .dataframe thead th {\n",
       "        text-align: right;\n",
       "    }\n",
       "</style>\n",
       "<table border=\"1\" class=\"dataframe\">\n",
       "  <thead>\n",
       "    <tr style=\"text-align: right;\">\n",
       "      <th></th>\n",
       "      <th>provinsi</th>\n",
       "      <th>negara</th>\n",
       "      <th>tanggal</th>\n",
       "      <th>sembuh</th>\n",
       "      <th>confirmed</th>\n",
       "    </tr>\n",
       "  </thead>\n",
       "  <tbody>\n",
       "    <tr>\n",
       "      <th>2081</th>\n",
       "      <td>Unknown</td>\n",
       "      <td>Malaysia</td>\n",
       "      <td>2020-12-01</td>\n",
       "      <td>56311</td>\n",
       "      <td>67169</td>\n",
       "    </tr>\n",
       "    <tr>\n",
       "      <th>2090</th>\n",
       "      <td>Unknown</td>\n",
       "      <td>Malaysia</td>\n",
       "      <td>2020-12-02</td>\n",
       "      <td>56969</td>\n",
       "      <td>68020</td>\n",
       "    </tr>\n",
       "    <tr>\n",
       "      <th>2099</th>\n",
       "      <td>Unknown</td>\n",
       "      <td>Malaysia</td>\n",
       "      <td>2020-12-03</td>\n",
       "      <td>57917</td>\n",
       "      <td>69095</td>\n",
       "    </tr>\n",
       "    <tr>\n",
       "      <th>2103</th>\n",
       "      <td>Unknown</td>\n",
       "      <td>Malaysia</td>\n",
       "      <td>2020-12-04</td>\n",
       "      <td>59061</td>\n",
       "      <td>70236</td>\n",
       "    </tr>\n",
       "    <tr>\n",
       "      <th>2114</th>\n",
       "      <td>Unknown</td>\n",
       "      <td>Malaysia</td>\n",
       "      <td>2020-12-05</td>\n",
       "      <td>60204</td>\n",
       "      <td>71359</td>\n",
       "    </tr>\n",
       "    <tr>\n",
       "      <th>...</th>\n",
       "      <td>...</td>\n",
       "      <td>...</td>\n",
       "      <td>...</td>\n",
       "      <td>...</td>\n",
       "      <td>...</td>\n",
       "    </tr>\n",
       "    <tr>\n",
       "      <th>2898</th>\n",
       "      <td>Unknown</td>\n",
       "      <td>Malaysia</td>\n",
       "      <td>2021-03-27</td>\n",
       "      <td>325182</td>\n",
       "      <td>340642</td>\n",
       "    </tr>\n",
       "    <tr>\n",
       "      <th>2902</th>\n",
       "      <td>Unknown</td>\n",
       "      <td>Malaysia</td>\n",
       "      <td>2021-03-28</td>\n",
       "      <td>326309</td>\n",
       "      <td>341944</td>\n",
       "    </tr>\n",
       "    <tr>\n",
       "      <th>2912</th>\n",
       "      <td>Unknown</td>\n",
       "      <td>Malaysia</td>\n",
       "      <td>2021-03-29</td>\n",
       "      <td>327406</td>\n",
       "      <td>342885</td>\n",
       "    </tr>\n",
       "    <tr>\n",
       "      <th>2913</th>\n",
       "      <td>Unknown</td>\n",
       "      <td>Malaysia</td>\n",
       "      <td>2021-03-30</td>\n",
       "      <td>328554</td>\n",
       "      <td>344018</td>\n",
       "    </tr>\n",
       "    <tr>\n",
       "      <th>2926</th>\n",
       "      <td>Unknown</td>\n",
       "      <td>Malaysia</td>\n",
       "      <td>2021-03-31</td>\n",
       "      <td>329624</td>\n",
       "      <td>345500</td>\n",
       "    </tr>\n",
       "  </tbody>\n",
       "</table>\n",
       "<p>121 rows × 5 columns</p>\n",
       "</div>"
      ],
      "text/plain": [
       "     provinsi    negara    tanggal  sembuh  confirmed\n",
       "2081  Unknown  Malaysia 2020-12-01   56311      67169\n",
       "2090  Unknown  Malaysia 2020-12-02   56969      68020\n",
       "2099  Unknown  Malaysia 2020-12-03   57917      69095\n",
       "2103  Unknown  Malaysia 2020-12-04   59061      70236\n",
       "2114  Unknown  Malaysia 2020-12-05   60204      71359\n",
       "...       ...       ...        ...     ...        ...\n",
       "2898  Unknown  Malaysia 2021-03-27  325182     340642\n",
       "2902  Unknown  Malaysia 2021-03-28  326309     341944\n",
       "2912  Unknown  Malaysia 2021-03-29  327406     342885\n",
       "2913  Unknown  Malaysia 2021-03-30  328554     344018\n",
       "2926  Unknown  Malaysia 2021-03-31  329624     345500\n",
       "\n",
       "[121 rows x 5 columns]"
      ]
     },
     "execution_count": 43,
     "metadata": {},
     "output_type": "execute_result"
    }
   ],
   "source": [
    "df_my = df[\n",
    "              df['negara'].isin(['Malaysia']) \n",
    "            &(df['tanggal'] >= '2020-12-01') \n",
    "            &(df['tanggal'] <= '2021-03-31')\n",
    "][  \n",
    "    ['provinsi','negara','tanggal','sembuh','confirmed']\n",
    "]\n",
    "df_my"
   ]
  },
  {
   "attachments": {},
   "cell_type": "markdown",
   "metadata": {},
   "source": [
    "terdapat peningkatan sekitar `300%` orang yang sembuh dari covid-19"
   ]
  },
  {
   "attachments": {},
   "cell_type": "markdown",
   "metadata": {},
   "source": [
    "### v. Data Groupping"
   ]
  },
  {
   "attachments": {},
   "cell_type": "markdown",
   "metadata": {},
   "source": [
    "##### Jumlah rata - rata kasus untuk setiap provinsi di `Malaysia`"
   ]
  },
  {
   "cell_type": "code",
   "execution_count": 60,
   "metadata": {},
   "outputs": [
    {
     "data": {
      "text/html": [
       "<div>\n",
       "<style scoped>\n",
       "    .dataframe tbody tr th:only-of-type {\n",
       "        vertical-align: middle;\n",
       "    }\n",
       "\n",
       "    .dataframe tbody tr th {\n",
       "        vertical-align: top;\n",
       "    }\n",
       "\n",
       "    .dataframe thead th {\n",
       "        text-align: right;\n",
       "    }\n",
       "</style>\n",
       "<table border=\"1\" class=\"dataframe\">\n",
       "  <thead>\n",
       "    <tr style=\"text-align: right;\">\n",
       "      <th></th>\n",
       "      <th>confirmed</th>\n",
       "      <th>meninggal</th>\n",
       "      <th>sembuh</th>\n",
       "      <th>active</th>\n",
       "    </tr>\n",
       "    <tr>\n",
       "      <th>provinsi</th>\n",
       "      <th></th>\n",
       "      <th></th>\n",
       "      <th></th>\n",
       "      <th></th>\n",
       "    </tr>\n",
       "  </thead>\n",
       "  <tbody>\n",
       "    <tr>\n",
       "      <th>Selangor</th>\n",
       "      <td>1.206321e+06</td>\n",
       "      <td>11677.432271</td>\n",
       "      <td>17.689243</td>\n",
       "      <td>0.000000</td>\n",
       "    </tr>\n",
       "    <tr>\n",
       "      <th>Johor</th>\n",
       "      <td>3.398186e+05</td>\n",
       "      <td>4603.326693</td>\n",
       "      <td>6.000000</td>\n",
       "      <td>0.000000</td>\n",
       "    </tr>\n",
       "    <tr>\n",
       "      <th>Sabah</th>\n",
       "      <td>3.385831e+05</td>\n",
       "      <td>3320.207171</td>\n",
       "      <td>4.057769</td>\n",
       "      <td>0.000000</td>\n",
       "    </tr>\n",
       "    <tr>\n",
       "      <th>W.P. Kuala Lumpur</th>\n",
       "      <td>3.407084e+05</td>\n",
       "      <td>3105.113546</td>\n",
       "      <td>4.764940</td>\n",
       "      <td>0.000000</td>\n",
       "    </tr>\n",
       "    <tr>\n",
       "      <th>Kedah</th>\n",
       "      <td>2.597380e+05</td>\n",
       "      <td>2700.511952</td>\n",
       "      <td>3.406375</td>\n",
       "      <td>0.000000</td>\n",
       "    </tr>\n",
       "    <tr>\n",
       "      <th>Pulau Pinang</th>\n",
       "      <td>2.466759e+05</td>\n",
       "      <td>2105.862550</td>\n",
       "      <td>2.384462</td>\n",
       "      <td>0.000000</td>\n",
       "    </tr>\n",
       "    <tr>\n",
       "      <th>Sarawak</th>\n",
       "      <td>2.894748e+05</td>\n",
       "      <td>1937.589641</td>\n",
       "      <td>1.414343</td>\n",
       "      <td>0.000000</td>\n",
       "    </tr>\n",
       "    <tr>\n",
       "      <th>Perak</th>\n",
       "      <td>1.867025e+05</td>\n",
       "      <td>1904.762948</td>\n",
       "      <td>1.543825</td>\n",
       "      <td>0.000000</td>\n",
       "    </tr>\n",
       "    <tr>\n",
       "      <th>Negeri Sembilan</th>\n",
       "      <td>1.805396e+05</td>\n",
       "      <td>1607.980080</td>\n",
       "      <td>2.364542</td>\n",
       "      <td>0.000000</td>\n",
       "    </tr>\n",
       "    <tr>\n",
       "      <th>Kelantan</th>\n",
       "      <td>2.215431e+05</td>\n",
       "      <td>1511.812749</td>\n",
       "      <td>1.444223</td>\n",
       "      <td>0.000000</td>\n",
       "    </tr>\n",
       "    <tr>\n",
       "      <th>Unknown</th>\n",
       "      <td>1.697467e+05</td>\n",
       "      <td>1258.263300</td>\n",
       "      <td>84973.198377</td>\n",
       "      <td>11401.222723</td>\n",
       "    </tr>\n",
       "    <tr>\n",
       "      <th>Melaka</th>\n",
       "      <td>1.122800e+05</td>\n",
       "      <td>1181.623506</td>\n",
       "      <td>1.641434</td>\n",
       "      <td>0.000000</td>\n",
       "    </tr>\n",
       "    <tr>\n",
       "      <th>Pahang</th>\n",
       "      <td>1.470468e+05</td>\n",
       "      <td>1000.105578</td>\n",
       "      <td>1.109562</td>\n",
       "      <td>0.000000</td>\n",
       "    </tr>\n",
       "    <tr>\n",
       "      <th>Terengganu</th>\n",
       "      <td>1.111453e+05</td>\n",
       "      <td>867.699203</td>\n",
       "      <td>0.663347</td>\n",
       "      <td>0.000000</td>\n",
       "    </tr>\n",
       "    <tr>\n",
       "      <th>W.P. Labuan</th>\n",
       "      <td>1.834782e+04</td>\n",
       "      <td>173.085657</td>\n",
       "      <td>0.294821</td>\n",
       "      <td>0.000000</td>\n",
       "    </tr>\n",
       "    <tr>\n",
       "      <th>Perlis</th>\n",
       "      <td>1.428623e+04</td>\n",
       "      <td>171.312749</td>\n",
       "      <td>0.111554</td>\n",
       "      <td>0.000000</td>\n",
       "    </tr>\n",
       "    <tr>\n",
       "      <th>W.P. Putrajaya</th>\n",
       "      <td>1.985702e+04</td>\n",
       "      <td>40.960159</td>\n",
       "      <td>0.043825</td>\n",
       "      <td>0.000000</td>\n",
       "    </tr>\n",
       "  </tbody>\n",
       "</table>\n",
       "</div>"
      ],
      "text/plain": [
       "                      confirmed     meninggal        sembuh        active\n",
       "provinsi                                                                 \n",
       "Selangor           1.206321e+06  11677.432271     17.689243      0.000000\n",
       "Johor              3.398186e+05   4603.326693      6.000000      0.000000\n",
       "Sabah              3.385831e+05   3320.207171      4.057769      0.000000\n",
       "W.P. Kuala Lumpur  3.407084e+05   3105.113546      4.764940      0.000000\n",
       "Kedah              2.597380e+05   2700.511952      3.406375      0.000000\n",
       "Pulau Pinang       2.466759e+05   2105.862550      2.384462      0.000000\n",
       "Sarawak            2.894748e+05   1937.589641      1.414343      0.000000\n",
       "Perak              1.867025e+05   1904.762948      1.543825      0.000000\n",
       "Negeri Sembilan    1.805396e+05   1607.980080      2.364542      0.000000\n",
       "Kelantan           2.215431e+05   1511.812749      1.444223      0.000000\n",
       "Unknown            1.697467e+05   1258.263300  84973.198377  11401.222723\n",
       "Melaka             1.122800e+05   1181.623506      1.641434      0.000000\n",
       "Pahang             1.470468e+05   1000.105578      1.109562      0.000000\n",
       "Terengganu         1.111453e+05    867.699203      0.663347      0.000000\n",
       "W.P. Labuan        1.834782e+04    173.085657      0.294821      0.000000\n",
       "Perlis             1.428623e+04    171.312749      0.111554      0.000000\n",
       "W.P. Putrajaya     1.985702e+04     40.960159      0.043825      0.000000"
      ]
     },
     "execution_count": 60,
     "metadata": {},
     "output_type": "execute_result"
    }
   ],
   "source": [
    "dfmy_mean = df[\n",
    "    (df['negara'] == 'Malaysia')\n",
    "    ]\n",
    "dfmy_mean.groupby('provinsi').mean().sort_values('meninggal', ascending=False)"
   ]
  },
  {
   "attachments": {},
   "cell_type": "markdown",
   "metadata": {},
   "source": [
    "Jumlah kematian rata rata terbanyak berada di propinsi `Selangor` dengan 11 ribu kasus "
   ]
  },
  {
   "attachments": {},
   "cell_type": "markdown",
   "metadata": {},
   "source": [
    "##### Jumlah kasus kematian terbanyak setiap negara pada januari sd juni 2021"
   ]
  },
  {
   "cell_type": "code",
   "execution_count": 62,
   "metadata": {},
   "outputs": [
    {
     "data": {
      "text/html": [
       "<div>\n",
       "<style scoped>\n",
       "    .dataframe tbody tr th:only-of-type {\n",
       "        vertical-align: middle;\n",
       "    }\n",
       "\n",
       "    .dataframe tbody tr th {\n",
       "        vertical-align: top;\n",
       "    }\n",
       "\n",
       "    .dataframe thead th {\n",
       "        text-align: right;\n",
       "    }\n",
       "</style>\n",
       "<table border=\"1\" class=\"dataframe\">\n",
       "  <thead>\n",
       "    <tr style=\"text-align: right;\">\n",
       "      <th></th>\n",
       "      <th>provinsi</th>\n",
       "      <th>tanggal</th>\n",
       "      <th>confirmed</th>\n",
       "      <th>meninggal</th>\n",
       "      <th>sembuh</th>\n",
       "      <th>active</th>\n",
       "    </tr>\n",
       "    <tr>\n",
       "      <th>negara</th>\n",
       "      <th></th>\n",
       "      <th></th>\n",
       "      <th></th>\n",
       "      <th></th>\n",
       "      <th></th>\n",
       "      <th></th>\n",
       "    </tr>\n",
       "  </thead>\n",
       "  <tbody>\n",
       "    <tr>\n",
       "      <th>Malaysia</th>\n",
       "      <td>W.P. Putrajaya</td>\n",
       "      <td>2023-02-05</td>\n",
       "      <td>2127934</td>\n",
       "      <td>624641</td>\n",
       "      <td>962733</td>\n",
       "      <td>210522</td>\n",
       "    </tr>\n",
       "    <tr>\n",
       "      <th>Indonesia</th>\n",
       "      <td>Unknown</td>\n",
       "      <td>2023-02-05</td>\n",
       "      <td>6731135</td>\n",
       "      <td>160832</td>\n",
       "      <td>2907920</td>\n",
       "      <td>574135</td>\n",
       "    </tr>\n",
       "    <tr>\n",
       "      <th>Philippines</th>\n",
       "      <td>Unknown</td>\n",
       "      <td>2023-02-05</td>\n",
       "      <td>4200225</td>\n",
       "      <td>65851</td>\n",
       "      <td>1528422</td>\n",
       "      <td>203710</td>\n",
       "    </tr>\n",
       "    <tr>\n",
       "      <th>Vietnam</th>\n",
       "      <td>Unknown</td>\n",
       "      <td>2023-02-05</td>\n",
       "      <td>11529639</td>\n",
       "      <td>43186</td>\n",
       "      <td>54332</td>\n",
       "      <td>125097</td>\n",
       "    </tr>\n",
       "    <tr>\n",
       "      <th>Thailand</th>\n",
       "      <td>Unknown</td>\n",
       "      <td>2023-02-05</td>\n",
       "      <td>4752782</td>\n",
       "      <td>34668</td>\n",
       "      <td>26873</td>\n",
       "      <td>640009</td>\n",
       "    </tr>\n",
       "    <tr>\n",
       "      <th>Cambodia</th>\n",
       "      <td>Unknown</td>\n",
       "      <td>2023-02-05</td>\n",
       "      <td>138698</td>\n",
       "      <td>3056</td>\n",
       "      <td>72803</td>\n",
       "      <td>12020</td>\n",
       "    </tr>\n",
       "    <tr>\n",
       "      <th>Laos</th>\n",
       "      <td>Unknown</td>\n",
       "      <td>2023-02-05</td>\n",
       "      <td>217990</td>\n",
       "      <td>758</td>\n",
       "      <td>3804</td>\n",
       "      <td>3616</td>\n",
       "    </tr>\n",
       "  </tbody>\n",
       "</table>\n",
       "</div>"
      ],
      "text/plain": [
       "                   provinsi    tanggal  confirmed  meninggal   sembuh  active\n",
       "negara                                                                       \n",
       "Malaysia     W.P. Putrajaya 2023-02-05    2127934     624641   962733  210522\n",
       "Indonesia           Unknown 2023-02-05    6731135     160832  2907920  574135\n",
       "Philippines         Unknown 2023-02-05    4200225      65851  1528422  203710\n",
       "Vietnam             Unknown 2023-02-05   11529639      43186    54332  125097\n",
       "Thailand            Unknown 2023-02-05    4752782      34668    26873  640009\n",
       "Cambodia            Unknown 2023-02-05     138698       3056    72803   12020\n",
       "Laos                Unknown 2023-02-05     217990        758     3804    3616"
      ]
     },
     "execution_count": 62,
     "metadata": {},
     "output_type": "execute_result"
    }
   ],
   "source": [
    "df.groupby('negara').max().sort_values('meninggal',ascending=False)"
   ]
  },
  {
   "attachments": {},
   "cell_type": "markdown",
   "metadata": {},
   "source": [
    "jumlah kematian terbanyak berada di Malaysia yang berada di provinsi `W.P. Putrajaya`"
   ]
  },
  {
   "cell_type": "code",
   "execution_count": 70,
   "metadata": {},
   "outputs": [
    {
     "data": {
      "text/html": [
       "<div>\n",
       "<style scoped>\n",
       "    .dataframe tbody tr th:only-of-type {\n",
       "        vertical-align: middle;\n",
       "    }\n",
       "\n",
       "    .dataframe tbody tr th {\n",
       "        vertical-align: top;\n",
       "    }\n",
       "\n",
       "    .dataframe thead th {\n",
       "        text-align: right;\n",
       "    }\n",
       "</style>\n",
       "<table border=\"1\" class=\"dataframe\">\n",
       "  <thead>\n",
       "    <tr style=\"text-align: right;\">\n",
       "      <th></th>\n",
       "      <th>negara</th>\n",
       "      <th>tanggal</th>\n",
       "      <th>confirmed</th>\n",
       "      <th>meninggal</th>\n",
       "      <th>sembuh</th>\n",
       "      <th>active</th>\n",
       "    </tr>\n",
       "    <tr>\n",
       "      <th>provinsi</th>\n",
       "      <th></th>\n",
       "      <th></th>\n",
       "      <th></th>\n",
       "      <th></th>\n",
       "      <th></th>\n",
       "      <th></th>\n",
       "    </tr>\n",
       "  </thead>\n",
       "  <tbody>\n",
       "    <tr>\n",
       "      <th>Unknown</th>\n",
       "      <td>Indonesia</td>\n",
       "      <td>2023-02-05</td>\n",
       "      <td>6731135</td>\n",
       "      <td>160832</td>\n",
       "      <td>2907920</td>\n",
       "      <td>574135</td>\n",
       "    </tr>\n",
       "  </tbody>\n",
       "</table>\n",
       "</div>"
      ],
      "text/plain": [
       "             negara    tanggal  confirmed  meninggal   sembuh  active\n",
       "provinsi                                                             \n",
       "Unknown   Indonesia 2023-02-05    6731135     160832  2907920  574135"
      ]
     },
     "execution_count": 70,
     "metadata": {},
     "output_type": "execute_result"
    }
   ],
   "source": [
    "dfid = df[\n",
    "    (df['negara'] == 'Indonesia')\n",
    "    ]\n",
    "dfid.groupby('provinsi').max().sort_values('meninggal', ascending=False)"
   ]
  },
  {
   "attachments": {},
   "cell_type": "markdown",
   "metadata": {},
   "source": [
    "dari data diatas dapat dilihat bahwa angka kematian tertinggi berada pada tanggal `5 februari 2023`"
   ]
  },
  {
   "attachments": {},
   "cell_type": "markdown",
   "metadata": {},
   "source": [
    "### vi. Data Visualization"
   ]
  },
  {
   "attachments": {},
   "cell_type": "markdown",
   "metadata": {},
   "source": [
    "#### Jumlah kasus Orang meninggal akibat covid-19"
   ]
  },
  {
   "cell_type": "code",
   "execution_count": 73,
   "metadata": {},
   "outputs": [
    {
     "data": {
      "image/png": "[encoded data removed]",
      "text/plain": [
       "<Figure size 640x480 with 1 Axes>"
      ]
     },
     "metadata": {},
     "output_type": "display_data"
    }
   ],
   "source": [
    "df[ \n",
    "    df['negara'].isin(['Indonesia','Malaysia']) \n",
    "    & (df['tanggal'] >= '2020-01-01')\n",
    "    & (df['tanggal'] <= '2020-12-31')\n",
    "][  \n",
    "    ['active','tanggal','negara']\n",
    "].set_index('tanggal').groupby('negara')['active'].plot(kind='line',title='Jumlah Kasus Aktif Covid-19 Indonesia dan Malaysia Tahun 2020',\n",
    "                                                        xlabel='Tanggal',ylabel='Jumlah Kasus', legend=True);"
   ]
  },
  {
   "attachments": {},
   "cell_type": "markdown",
   "metadata": {},
   "source": [
    "Terdapat jumlah kasus aktif yang setara pada bulan `Februari` hingga `April`. Namun Setelah bulan April indonesia mengalami kenaikan yang sangat signifikan hingga bulan Desember"
   ]
  },
  {
   "attachments": {},
   "cell_type": "markdown",
   "metadata": {},
   "source": [
    "##### Hubungan Antara Jumlah Kematian dan Sembuh di tahun 2020 di Malaysia"
   ]
  },
  {
   "cell_type": "code",
   "execution_count": 77,
   "metadata": {},
   "outputs": [
    {
     "data": {
      "image/png": "[encoded data removed]",
      "text/plain": [
       "<Figure size 1000x300 with 1 Axes>"
      ]
     },
     "metadata": {},
     "output_type": "display_data"
    }
   ],
   "source": [
    "df[ \n",
    "    df['negara'].isin(['Malaysia']) \n",
    "    & (df['tanggal'] >= '2020-01-01')\n",
    "    & (df['tanggal'] <= '2020-12-31')\n",
    "][  \n",
    "    ['negara','sembuh','meninggal']\n",
    "].groupby(['negara']).plot(title='Hubungan Antara Jumlah Kematian dan Sembuh tahun 2020 di Thailand',\n",
    "                            kind='scatter', x='meninggal', y='sembuh', xlabel= 'Meninggal', ylabel='Sembuh',\n",
    "                            legend=True, figsize=(10,3));"
   ]
  },
  {
   "attachments": {},
   "cell_type": "markdown",
   "metadata": {},
   "source": [
    "tenyata dari hasil grafik diatas, semakin tinggi orang yang `sembuh`, semakin tinggi pula orang yang `meninggal` akibat covid-19"
   ]
  },
  {
   "attachments": {},
   "cell_type": "markdown",
   "metadata": {},
   "source": [
    "#### Jumlah pasien covid-19 pada tiap Provinsi di Malaysia"
   ]
  },
  {
   "cell_type": "code",
   "execution_count": null,
   "metadata": {},
   "outputs": [
    {
     "data": {
      "image/png": "[encoded data removed]",
      "text/plain": [
       "<Figure size 1000x1000 with 1 Axes>"
      ]
     },
     "metadata": {},
     "output_type": "display_data"
    }
   ],
   "source": [
    "df_id = df['provinsi'].value_counts('confirmed').plot(kind='pie',figsize=(10,10),autopct='%.2f%%',fontsize=15,legend=True,labels=None);"
   ]
  },
  {
   "attachments": {},
   "cell_type": "markdown",
   "metadata": {},
   "source": [
    "ternyata di tiap provinsi di negara `Malaysia`memiliki presentase yang sama kecuali pada provinsi yang tidak diketahui"
   ]
  },
  {
   "attachments": {},
   "cell_type": "markdown",
   "metadata": {},
   "source": [
    "## vii Overall Analysis"
   ]
  },
  {
   "attachments": {},
   "cell_type": "markdown",
   "metadata": {},
   "source": [
    "#### Conclusions\n",
    "1. Jumlah kasus aktif di Indonesia dan Malaysia pada awalnya hampir setara. Namun Indonesia mengalami kenaikan yang signifikan setelah `april 2020`\n",
    "2. Jumlah kematian rata rata terbanyak berada di propinsi `Selangor` dengan 11 ribu kasus \n",
    "3. Semakin tinggi kesembuhan semakin tinggi pula angka kematian namun tidak sebanding\n",
    "4. Kematian tertinggi berada pada indoensia\n",
    "5. presentase covid-19 di berbagai provinsi di malaysia hampir sama"
   ]
  }
 ],
 "metadata": {
  "kernelspec": {
   "display_name": "Python 3.9.13 ('base')",
   "language": "python",
   "name": "python3"
  },
  "language_info": {
   "codemirror_mode": {
    "name": "ipython",
    "version": 3
   },
   "file_extension": ".py",
   "mimetype": "text/x-python",
   "name": "python",
   "nbconvert_exporter": "python",
   "pygments_lexer": "ipython3",
   "version": "3.9.13"
  },
  "orig_nbformat": 4,
  "vscode": {
   "interpreter": {
    "hash": "20a9e06a1eee47c4abbed4ec8225ad91d78d9800d202b71b6b0a6e47016c6abd"
   }
  }
 },
 "nbformat": 4,
 "nbformat_minor": 2
}
