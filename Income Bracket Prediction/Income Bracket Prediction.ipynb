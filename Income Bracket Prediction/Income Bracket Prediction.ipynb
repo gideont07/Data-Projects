{
 "cells": [
  {
   "attachments": {},
   "cell_type": "markdown",
   "metadata": {},
   "source": [
    "# i. Perkenalan\n",
    "Marchelly Gideon Tambunan\\"
   ]
  },
  {
   "attachments": {},
   "cell_type": "markdown",
   "metadata": {},
   "source": [
    "- Dataset: Census Adult Income\n",
    "- Objektif: Buatlah model Classification menggunakan Logistic Regression dan SVM untuk memprediksi income bracket menggunakan dataset yang sudah kalian simpan."
   ]
  },
  {
   "attachments": {},
   "cell_type": "markdown",
   "metadata": {},
   "source": [
    "# ii. SQL Query\n",
    "\n",
    "SELECT \n",
    "age, \n",
    "workclass, \n",
    "education, \n",
    "education_num, \n",
    "marital_status, \n",
    "occupation, \n",
    "relationship, \n",
    "race, \n",
    "sex, \n",
    "capital_gain, \n",
    "capital_loss, \n",
    "hours_per_week, \n",
    "native_country, \n",
    "income_bracket\n",
    "FROM `bigquery-public-data.ml_datasets.census_adult_income` \n",
    "WHERE workclass != ' ?' \n",
    "and hours_per_week < 100\n",
    "LIMIT 7996"
   ]
  },
  {
   "attachments": {},
   "cell_type": "markdown",
   "metadata": {},
   "source": [
    "# iii. Import Libraries"
   ]
  },
  {
   "cell_type": "code",
   "execution_count": 133,
   "metadata": {},
   "outputs": [],
   "source": [
    "# Data Loading\n",
    "import pandas as pd\n",
    "from pandas.api.types import CategoricalDtype\n",
    "\n",
    "#Importing Warning filtering\n",
    "import warnings\n",
    "warnings.filterwarnings('ignore')\n",
    "\n",
    "# Exploratory Data Analysis\n",
    "import matplotlib.pyplot as plt\n",
    "import seaborn as sns\n",
    "import phik\n",
    "from phik.report import plot_correlation_matrix\n",
    "\n",
    "# Data Preprocessing\n",
    "from sklearn.model_selection import train_test_split\n",
    "from sklearn.preprocessing import StandardScaler, OneHotEncoder, OrdinalEncoder\n",
    "from sklearn.compose import ColumnTransformer\n",
    "from feature_engine.outliers import Winsorizer\n",
    "\n",
    "# Feature Selection (manual)\n",
    "import numpy as np\n",
    "\n",
    "# Model Definition\n",
    "from sklearn.linear_model import LogisticRegression\n",
    "from sklearn.svm import SVC\n",
    "\n",
    "# Model Evaluation\n",
    "from sklearn.metrics import accuracy_score, classification_report, confusion_matrix, ConfusionMatrixDisplay\n",
    "\n",
    "# Model Inference\n",
    "import joblib\n",
    "import json\n",
    "\n",
    "# Calculate VIF\n",
    "from statsmodels.stats.outliers_influence import variance_inflation_factor"
   ]
  },
  {
   "attachments": {},
   "cell_type": "markdown",
   "metadata": {},
   "source": [
    "# iv. Data Loading"
   ]
  },
  {
   "attachments": {},
   "cell_type": "markdown",
   "metadata": {},
   "source": [
    "load data dengan menambah parameter missing value `\" ?\"` karena setelah melakukan pengecekan data singkat pada big query ada missing value berupa `\" ?\"`pada kolom workclass. jadi lebih baik saya mengecek kembali pada bagian data loading"
   ]
  },
  {
   "cell_type": "code",
   "execution_count": 134,
   "metadata": {},
   "outputs": [
    {
     "data": {
      "text/html": [
       "<div>\n",
       "<style scoped>\n",
       "    .dataframe tbody tr th:only-of-type {\n",
       "        vertical-align: middle;\n",
       "    }\n",
       "\n",
       "    .dataframe tbody tr th {\n",
       "        vertical-align: top;\n",
       "    }\n",
       "\n",
       "    .dataframe thead th {\n",
       "        text-align: right;\n",
       "    }\n",
       "</style>\n",
       "<table border=\"1\" class=\"dataframe\">\n",
       "  <thead>\n",
       "    <tr style=\"text-align: right;\">\n",
       "      <th></th>\n",
       "      <th>age</th>\n",
       "      <th>workclass</th>\n",
       "      <th>education</th>\n",
       "      <th>education_num</th>\n",
       "      <th>marital_status</th>\n",
       "      <th>occupation</th>\n",
       "      <th>relationship</th>\n",
       "      <th>race</th>\n",
       "      <th>sex</th>\n",
       "      <th>capital_gain</th>\n",
       "      <th>capital_loss</th>\n",
       "      <th>hours_per_week</th>\n",
       "      <th>native_country</th>\n",
       "      <th>income_bracket</th>\n",
       "    </tr>\n",
       "  </thead>\n",
       "  <tbody>\n",
       "    <tr>\n",
       "      <th>0</th>\n",
       "      <td>39</td>\n",
       "      <td>Private</td>\n",
       "      <td>9th</td>\n",
       "      <td>5</td>\n",
       "      <td>Married-civ-spouse</td>\n",
       "      <td>Other-service</td>\n",
       "      <td>Wife</td>\n",
       "      <td>Black</td>\n",
       "      <td>Female</td>\n",
       "      <td>3411</td>\n",
       "      <td>0</td>\n",
       "      <td>34</td>\n",
       "      <td>United-States</td>\n",
       "      <td>&lt;=50K</td>\n",
       "    </tr>\n",
       "    <tr>\n",
       "      <th>1</th>\n",
       "      <td>77</td>\n",
       "      <td>Private</td>\n",
       "      <td>9th</td>\n",
       "      <td>5</td>\n",
       "      <td>Married-civ-spouse</td>\n",
       "      <td>Priv-house-serv</td>\n",
       "      <td>Wife</td>\n",
       "      <td>Black</td>\n",
       "      <td>Female</td>\n",
       "      <td>0</td>\n",
       "      <td>0</td>\n",
       "      <td>10</td>\n",
       "      <td>United-States</td>\n",
       "      <td>&lt;=50K</td>\n",
       "    </tr>\n",
       "    <tr>\n",
       "      <th>2</th>\n",
       "      <td>38</td>\n",
       "      <td>Private</td>\n",
       "      <td>9th</td>\n",
       "      <td>5</td>\n",
       "      <td>Married-civ-spouse</td>\n",
       "      <td>Other-service</td>\n",
       "      <td>Wife</td>\n",
       "      <td>Black</td>\n",
       "      <td>Female</td>\n",
       "      <td>0</td>\n",
       "      <td>0</td>\n",
       "      <td>24</td>\n",
       "      <td>Haiti</td>\n",
       "      <td>&lt;=50K</td>\n",
       "    </tr>\n",
       "    <tr>\n",
       "      <th>3</th>\n",
       "      <td>28</td>\n",
       "      <td>Private</td>\n",
       "      <td>9th</td>\n",
       "      <td>5</td>\n",
       "      <td>Married-civ-spouse</td>\n",
       "      <td>Protective-serv</td>\n",
       "      <td>Wife</td>\n",
       "      <td>Black</td>\n",
       "      <td>Female</td>\n",
       "      <td>0</td>\n",
       "      <td>0</td>\n",
       "      <td>40</td>\n",
       "      <td>United-States</td>\n",
       "      <td>&lt;=50K</td>\n",
       "    </tr>\n",
       "    <tr>\n",
       "      <th>4</th>\n",
       "      <td>37</td>\n",
       "      <td>Private</td>\n",
       "      <td>9th</td>\n",
       "      <td>5</td>\n",
       "      <td>Married-civ-spouse</td>\n",
       "      <td>Machine-op-inspct</td>\n",
       "      <td>Wife</td>\n",
       "      <td>Black</td>\n",
       "      <td>Female</td>\n",
       "      <td>0</td>\n",
       "      <td>0</td>\n",
       "      <td>48</td>\n",
       "      <td>United-States</td>\n",
       "      <td>&lt;=50K</td>\n",
       "    </tr>\n",
       "  </tbody>\n",
       "</table>\n",
       "</div>"
      ],
      "text/plain": [
       "   age workclass education  education_num       marital_status  \\\n",
       "0   39   Private       9th              5   Married-civ-spouse   \n",
       "1   77   Private       9th              5   Married-civ-spouse   \n",
       "2   38   Private       9th              5   Married-civ-spouse   \n",
       "3   28   Private       9th              5   Married-civ-spouse   \n",
       "4   37   Private       9th              5   Married-civ-spouse   \n",
       "\n",
       "           occupation relationship    race      sex  capital_gain  \\\n",
       "0       Other-service         Wife   Black   Female          3411   \n",
       "1     Priv-house-serv         Wife   Black   Female             0   \n",
       "2       Other-service         Wife   Black   Female             0   \n",
       "3     Protective-serv         Wife   Black   Female             0   \n",
       "4   Machine-op-inspct         Wife   Black   Female             0   \n",
       "\n",
       "   capital_loss  hours_per_week  native_country income_bracket  \n",
       "0             0              34   United-States          <=50K  \n",
       "1             0              10   United-States          <=50K  \n",
       "2             0              24           Haiti          <=50K  \n",
       "3             0              40   United-States          <=50K  \n",
       "4             0              48   United-States          <=50K  "
      ]
     },
     "execution_count": 134,
     "metadata": {},
     "output_type": "execute_result"
    }
   ],
   "source": [
    "# Data Loading\n",
    "df = pd.read_csv('C:\\H8_project\\Hacktiv8_GC\\GC2\\h8dsft_P1G2_Marchelly_Gideon.csv',na_values=[\" \", \"-\", \"?\" ,\"n/a\", \"na\", \"--\",\" ?\"])\n",
    "df.head()"
   ]
  },
  {
   "cell_type": "code",
   "execution_count": 135,
   "metadata": {},
   "outputs": [
    {
     "name": "stdout",
     "output_type": "stream",
     "text": [
      "<class 'pandas.core.frame.DataFrame'>\n",
      "RangeIndex: 7988 entries, 0 to 7987\n",
      "Data columns (total 14 columns):\n",
      " #   Column          Non-Null Count  Dtype \n",
      "---  ------          --------------  ----- \n",
      " 0   age             7988 non-null   int64 \n",
      " 1   workclass       7988 non-null   object\n",
      " 2   education       7988 non-null   object\n",
      " 3   education_num   7988 non-null   int64 \n",
      " 4   marital_status  7988 non-null   object\n",
      " 5   occupation      7983 non-null   object\n",
      " 6   relationship    7988 non-null   object\n",
      " 7   race            7988 non-null   object\n",
      " 8   sex             7988 non-null   object\n",
      " 9   capital_gain    7988 non-null   int64 \n",
      " 10  capital_loss    7988 non-null   int64 \n",
      " 11  hours_per_week  7988 non-null   int64 \n",
      " 12  native_country  7867 non-null   object\n",
      " 13  income_bracket  7988 non-null   object\n",
      "dtypes: int64(5), object(9)\n",
      "memory usage: 873.8+ KB\n"
     ]
    }
   ],
   "source": [
    "df.info()"
   ]
  },
  {
   "cell_type": "code",
   "execution_count": 136,
   "metadata": {},
   "outputs": [
    {
     "data": {
      "text/plain": [
       "age                 0\n",
       "workclass           0\n",
       "education           0\n",
       "education_num       0\n",
       "marital_status      0\n",
       "occupation          5\n",
       "relationship        0\n",
       "race                0\n",
       "sex                 0\n",
       "capital_gain        0\n",
       "capital_loss        0\n",
       "hours_per_week      0\n",
       "native_country    121\n",
       "income_bracket      0\n",
       "dtype: int64"
      ]
     },
     "execution_count": 136,
     "metadata": {},
     "output_type": "execute_result"
    }
   ],
   "source": [
    "# Missing value\n",
    "df.isna().sum()"
   ]
  },
  {
   "cell_type": "code",
   "execution_count": 137,
   "metadata": {},
   "outputs": [
    {
     "data": {
      "text/html": [
       "<div>\n",
       "<style scoped>\n",
       "    .dataframe tbody tr th:only-of-type {\n",
       "        vertical-align: middle;\n",
       "    }\n",
       "\n",
       "    .dataframe tbody tr th {\n",
       "        vertical-align: top;\n",
       "    }\n",
       "\n",
       "    .dataframe thead th {\n",
       "        text-align: right;\n",
       "    }\n",
       "</style>\n",
       "<table border=\"1\" class=\"dataframe\">\n",
       "  <thead>\n",
       "    <tr style=\"text-align: right;\">\n",
       "      <th></th>\n",
       "      <th>percent_missing</th>\n",
       "    </tr>\n",
       "  </thead>\n",
       "  <tbody>\n",
       "    <tr>\n",
       "      <th>age</th>\n",
       "      <td>0.000000</td>\n",
       "    </tr>\n",
       "    <tr>\n",
       "      <th>workclass</th>\n",
       "      <td>0.000000</td>\n",
       "    </tr>\n",
       "    <tr>\n",
       "      <th>education</th>\n",
       "      <td>0.000000</td>\n",
       "    </tr>\n",
       "    <tr>\n",
       "      <th>education_num</th>\n",
       "      <td>0.000000</td>\n",
       "    </tr>\n",
       "    <tr>\n",
       "      <th>marital_status</th>\n",
       "      <td>0.000000</td>\n",
       "    </tr>\n",
       "    <tr>\n",
       "      <th>occupation</th>\n",
       "      <td>0.062594</td>\n",
       "    </tr>\n",
       "    <tr>\n",
       "      <th>relationship</th>\n",
       "      <td>0.000000</td>\n",
       "    </tr>\n",
       "    <tr>\n",
       "      <th>race</th>\n",
       "      <td>0.000000</td>\n",
       "    </tr>\n",
       "    <tr>\n",
       "      <th>sex</th>\n",
       "      <td>0.000000</td>\n",
       "    </tr>\n",
       "    <tr>\n",
       "      <th>capital_gain</th>\n",
       "      <td>0.000000</td>\n",
       "    </tr>\n",
       "    <tr>\n",
       "      <th>capital_loss</th>\n",
       "      <td>0.000000</td>\n",
       "    </tr>\n",
       "    <tr>\n",
       "      <th>hours_per_week</th>\n",
       "      <td>0.000000</td>\n",
       "    </tr>\n",
       "    <tr>\n",
       "      <th>native_country</th>\n",
       "      <td>1.514772</td>\n",
       "    </tr>\n",
       "    <tr>\n",
       "      <th>income_bracket</th>\n",
       "      <td>0.000000</td>\n",
       "    </tr>\n",
       "  </tbody>\n",
       "</table>\n",
       "</div>"
      ],
      "text/plain": [
       "                percent_missing\n",
       "age                    0.000000\n",
       "workclass              0.000000\n",
       "education              0.000000\n",
       "education_num          0.000000\n",
       "marital_status         0.000000\n",
       "occupation             0.062594\n",
       "relationship           0.000000\n",
       "race                   0.000000\n",
       "sex                    0.000000\n",
       "capital_gain           0.000000\n",
       "capital_loss           0.000000\n",
       "hours_per_week         0.000000\n",
       "native_country         1.514772\n",
       "income_bracket         0.000000"
      ]
     },
     "execution_count": 137,
     "metadata": {},
     "output_type": "execute_result"
    }
   ],
   "source": [
    "# melihat ada berapa persen missing value pada tiap kolom\n",
    "percent_missing = df.isnull().sum() * 100 / len(df)                     \n",
    "missing_value_df = pd.DataFrame({'percent_missing': percent_missing})\n",
    "missing_value_df"
   ]
  },
  {
   "attachments": {},
   "cell_type": "markdown",
   "metadata": {},
   "source": [
    "karena missing value yang ada pada data tergolong sedikit, jadi kita akan lansung membuangnya"
   ]
  },
  {
   "cell_type": "code",
   "execution_count": 138,
   "metadata": {},
   "outputs": [
    {
     "data": {
      "text/html": [
       "<div>\n",
       "<style scoped>\n",
       "    .dataframe tbody tr th:only-of-type {\n",
       "        vertical-align: middle;\n",
       "    }\n",
       "\n",
       "    .dataframe tbody tr th {\n",
       "        vertical-align: top;\n",
       "    }\n",
       "\n",
       "    .dataframe thead th {\n",
       "        text-align: right;\n",
       "    }\n",
       "</style>\n",
       "<table border=\"1\" class=\"dataframe\">\n",
       "  <thead>\n",
       "    <tr style=\"text-align: right;\">\n",
       "      <th></th>\n",
       "      <th>age</th>\n",
       "      <th>workclass</th>\n",
       "      <th>education</th>\n",
       "      <th>education_num</th>\n",
       "      <th>marital_status</th>\n",
       "      <th>occupation</th>\n",
       "      <th>relationship</th>\n",
       "      <th>race</th>\n",
       "      <th>sex</th>\n",
       "      <th>capital_gain</th>\n",
       "      <th>capital_loss</th>\n",
       "      <th>hours_per_week</th>\n",
       "      <th>native_country</th>\n",
       "      <th>income_bracket</th>\n",
       "    </tr>\n",
       "  </thead>\n",
       "  <tbody>\n",
       "    <tr>\n",
       "      <th>0</th>\n",
       "      <td>39</td>\n",
       "      <td>Private</td>\n",
       "      <td>9th</td>\n",
       "      <td>5</td>\n",
       "      <td>Married-civ-spouse</td>\n",
       "      <td>Other-service</td>\n",
       "      <td>Wife</td>\n",
       "      <td>Black</td>\n",
       "      <td>Female</td>\n",
       "      <td>3411</td>\n",
       "      <td>0</td>\n",
       "      <td>34</td>\n",
       "      <td>United-States</td>\n",
       "      <td>&lt;=50K</td>\n",
       "    </tr>\n",
       "    <tr>\n",
       "      <th>1</th>\n",
       "      <td>77</td>\n",
       "      <td>Private</td>\n",
       "      <td>9th</td>\n",
       "      <td>5</td>\n",
       "      <td>Married-civ-spouse</td>\n",
       "      <td>Priv-house-serv</td>\n",
       "      <td>Wife</td>\n",
       "      <td>Black</td>\n",
       "      <td>Female</td>\n",
       "      <td>0</td>\n",
       "      <td>0</td>\n",
       "      <td>10</td>\n",
       "      <td>United-States</td>\n",
       "      <td>&lt;=50K</td>\n",
       "    </tr>\n",
       "    <tr>\n",
       "      <th>2</th>\n",
       "      <td>38</td>\n",
       "      <td>Private</td>\n",
       "      <td>9th</td>\n",
       "      <td>5</td>\n",
       "      <td>Married-civ-spouse</td>\n",
       "      <td>Other-service</td>\n",
       "      <td>Wife</td>\n",
       "      <td>Black</td>\n",
       "      <td>Female</td>\n",
       "      <td>0</td>\n",
       "      <td>0</td>\n",
       "      <td>24</td>\n",
       "      <td>Haiti</td>\n",
       "      <td>&lt;=50K</td>\n",
       "    </tr>\n",
       "    <tr>\n",
       "      <th>3</th>\n",
       "      <td>28</td>\n",
       "      <td>Private</td>\n",
       "      <td>9th</td>\n",
       "      <td>5</td>\n",
       "      <td>Married-civ-spouse</td>\n",
       "      <td>Protective-serv</td>\n",
       "      <td>Wife</td>\n",
       "      <td>Black</td>\n",
       "      <td>Female</td>\n",
       "      <td>0</td>\n",
       "      <td>0</td>\n",
       "      <td>40</td>\n",
       "      <td>United-States</td>\n",
       "      <td>&lt;=50K</td>\n",
       "    </tr>\n",
       "    <tr>\n",
       "      <th>4</th>\n",
       "      <td>37</td>\n",
       "      <td>Private</td>\n",
       "      <td>9th</td>\n",
       "      <td>5</td>\n",
       "      <td>Married-civ-spouse</td>\n",
       "      <td>Machine-op-inspct</td>\n",
       "      <td>Wife</td>\n",
       "      <td>Black</td>\n",
       "      <td>Female</td>\n",
       "      <td>0</td>\n",
       "      <td>0</td>\n",
       "      <td>48</td>\n",
       "      <td>United-States</td>\n",
       "      <td>&lt;=50K</td>\n",
       "    </tr>\n",
       "    <tr>\n",
       "      <th>...</th>\n",
       "      <td>...</td>\n",
       "      <td>...</td>\n",
       "      <td>...</td>\n",
       "      <td>...</td>\n",
       "      <td>...</td>\n",
       "      <td>...</td>\n",
       "      <td>...</td>\n",
       "      <td>...</td>\n",
       "      <td>...</td>\n",
       "      <td>...</td>\n",
       "      <td>...</td>\n",
       "      <td>...</td>\n",
       "      <td>...</td>\n",
       "      <td>...</td>\n",
       "    </tr>\n",
       "    <tr>\n",
       "      <th>7983</th>\n",
       "      <td>33</td>\n",
       "      <td>Self-emp-not-inc</td>\n",
       "      <td>HS-grad</td>\n",
       "      <td>9</td>\n",
       "      <td>Married-civ-spouse</td>\n",
       "      <td>Craft-repair</td>\n",
       "      <td>Husband</td>\n",
       "      <td>White</td>\n",
       "      <td>Male</td>\n",
       "      <td>0</td>\n",
       "      <td>0</td>\n",
       "      <td>40</td>\n",
       "      <td>United-States</td>\n",
       "      <td>&lt;=50K</td>\n",
       "    </tr>\n",
       "    <tr>\n",
       "      <th>7984</th>\n",
       "      <td>36</td>\n",
       "      <td>Self-emp-not-inc</td>\n",
       "      <td>HS-grad</td>\n",
       "      <td>9</td>\n",
       "      <td>Married-civ-spouse</td>\n",
       "      <td>Craft-repair</td>\n",
       "      <td>Husband</td>\n",
       "      <td>White</td>\n",
       "      <td>Male</td>\n",
       "      <td>2885</td>\n",
       "      <td>0</td>\n",
       "      <td>40</td>\n",
       "      <td>United-States</td>\n",
       "      <td>&lt;=50K</td>\n",
       "    </tr>\n",
       "    <tr>\n",
       "      <th>7985</th>\n",
       "      <td>29</td>\n",
       "      <td>Self-emp-not-inc</td>\n",
       "      <td>HS-grad</td>\n",
       "      <td>9</td>\n",
       "      <td>Married-civ-spouse</td>\n",
       "      <td>Craft-repair</td>\n",
       "      <td>Husband</td>\n",
       "      <td>White</td>\n",
       "      <td>Male</td>\n",
       "      <td>0</td>\n",
       "      <td>0</td>\n",
       "      <td>40</td>\n",
       "      <td>United-States</td>\n",
       "      <td>&lt;=50K</td>\n",
       "    </tr>\n",
       "    <tr>\n",
       "      <th>7986</th>\n",
       "      <td>48</td>\n",
       "      <td>Self-emp-not-inc</td>\n",
       "      <td>HS-grad</td>\n",
       "      <td>9</td>\n",
       "      <td>Married-civ-spouse</td>\n",
       "      <td>Craft-repair</td>\n",
       "      <td>Husband</td>\n",
       "      <td>White</td>\n",
       "      <td>Male</td>\n",
       "      <td>0</td>\n",
       "      <td>0</td>\n",
       "      <td>40</td>\n",
       "      <td>United-States</td>\n",
       "      <td>&lt;=50K</td>\n",
       "    </tr>\n",
       "    <tr>\n",
       "      <th>7987</th>\n",
       "      <td>51</td>\n",
       "      <td>Self-emp-not-inc</td>\n",
       "      <td>HS-grad</td>\n",
       "      <td>9</td>\n",
       "      <td>Married-civ-spouse</td>\n",
       "      <td>Craft-repair</td>\n",
       "      <td>Husband</td>\n",
       "      <td>White</td>\n",
       "      <td>Male</td>\n",
       "      <td>0</td>\n",
       "      <td>0</td>\n",
       "      <td>40</td>\n",
       "      <td>United-States</td>\n",
       "      <td>&lt;=50K</td>\n",
       "    </tr>\n",
       "  </tbody>\n",
       "</table>\n",
       "<p>7862 rows × 14 columns</p>\n",
       "</div>"
      ],
      "text/plain": [
       "      age          workclass education  education_num       marital_status  \\\n",
       "0      39            Private       9th              5   Married-civ-spouse   \n",
       "1      77            Private       9th              5   Married-civ-spouse   \n",
       "2      38            Private       9th              5   Married-civ-spouse   \n",
       "3      28            Private       9th              5   Married-civ-spouse   \n",
       "4      37            Private       9th              5   Married-civ-spouse   \n",
       "...   ...                ...       ...            ...                  ...   \n",
       "7983   33   Self-emp-not-inc   HS-grad              9   Married-civ-spouse   \n",
       "7984   36   Self-emp-not-inc   HS-grad              9   Married-civ-spouse   \n",
       "7985   29   Self-emp-not-inc   HS-grad              9   Married-civ-spouse   \n",
       "7986   48   Self-emp-not-inc   HS-grad              9   Married-civ-spouse   \n",
       "7987   51   Self-emp-not-inc   HS-grad              9   Married-civ-spouse   \n",
       "\n",
       "              occupation relationship    race      sex  capital_gain  \\\n",
       "0          Other-service         Wife   Black   Female          3411   \n",
       "1        Priv-house-serv         Wife   Black   Female             0   \n",
       "2          Other-service         Wife   Black   Female             0   \n",
       "3        Protective-serv         Wife   Black   Female             0   \n",
       "4      Machine-op-inspct         Wife   Black   Female             0   \n",
       "...                  ...          ...     ...      ...           ...   \n",
       "7983        Craft-repair      Husband   White     Male             0   \n",
       "7984        Craft-repair      Husband   White     Male          2885   \n",
       "7985        Craft-repair      Husband   White     Male             0   \n",
       "7986        Craft-repair      Husband   White     Male             0   \n",
       "7987        Craft-repair      Husband   White     Male             0   \n",
       "\n",
       "      capital_loss  hours_per_week  native_country income_bracket  \n",
       "0                0              34   United-States          <=50K  \n",
       "1                0              10   United-States          <=50K  \n",
       "2                0              24           Haiti          <=50K  \n",
       "3                0              40   United-States          <=50K  \n",
       "4                0              48   United-States          <=50K  \n",
       "...            ...             ...             ...            ...  \n",
       "7983             0              40   United-States          <=50K  \n",
       "7984             0              40   United-States          <=50K  \n",
       "7985             0              40   United-States          <=50K  \n",
       "7986             0              40   United-States          <=50K  \n",
       "7987             0              40   United-States          <=50K  \n",
       "\n",
       "[7862 rows x 14 columns]"
      ]
     },
     "execution_count": 138,
     "metadata": {},
     "output_type": "execute_result"
    }
   ],
   "source": [
    "# menghapus missing value\n",
    "df.dropna(axis=0,inplace = True)\n",
    "df"
   ]
  },
  {
   "cell_type": "code",
   "execution_count": 139,
   "metadata": {},
   "outputs": [
    {
     "data": {
      "text/plain": [
       "age               0\n",
       "workclass         0\n",
       "education         0\n",
       "education_num     0\n",
       "marital_status    0\n",
       "occupation        0\n",
       "relationship      0\n",
       "race              0\n",
       "sex               0\n",
       "capital_gain      0\n",
       "capital_loss      0\n",
       "hours_per_week    0\n",
       "native_country    0\n",
       "income_bracket    0\n",
       "dtype: int64"
      ]
     },
     "execution_count": 139,
     "metadata": {},
     "output_type": "execute_result"
    }
   ],
   "source": [
    "df.isna().sum()"
   ]
  },
  {
   "cell_type": "code",
   "execution_count": 140,
   "metadata": {},
   "outputs": [],
   "source": [
    "data = df.copy()"
   ]
  },
  {
   "attachments": {},
   "cell_type": "markdown",
   "metadata": {},
   "source": [
    "sekarang data sudah tidak ada missing value, selanjutnya kita akan melihat apakah ada data yang duplikat"
   ]
  },
  {
   "cell_type": "code",
   "execution_count": 141,
   "metadata": {},
   "outputs": [
    {
     "data": {
      "text/plain": [
       "1107"
      ]
     },
     "execution_count": 141,
     "metadata": {},
     "output_type": "execute_result"
    }
   ],
   "source": [
    "# cek duplikat data\n",
    "data.duplicated().sum()"
   ]
  },
  {
   "attachments": {},
   "cell_type": "markdown",
   "metadata": {},
   "source": [
    "ternyata ada 1187 duplikasi data. jadi kita akan menghapus duplikasi data tersebut"
   ]
  },
  {
   "cell_type": "code",
   "execution_count": 142,
   "metadata": {},
   "outputs": [
    {
     "data": {
      "text/html": [
       "<div>\n",
       "<style scoped>\n",
       "    .dataframe tbody tr th:only-of-type {\n",
       "        vertical-align: middle;\n",
       "    }\n",
       "\n",
       "    .dataframe tbody tr th {\n",
       "        vertical-align: top;\n",
       "    }\n",
       "\n",
       "    .dataframe thead th {\n",
       "        text-align: right;\n",
       "    }\n",
       "</style>\n",
       "<table border=\"1\" class=\"dataframe\">\n",
       "  <thead>\n",
       "    <tr style=\"text-align: right;\">\n",
       "      <th></th>\n",
       "      <th>age</th>\n",
       "      <th>workclass</th>\n",
       "      <th>education</th>\n",
       "      <th>education_num</th>\n",
       "      <th>marital_status</th>\n",
       "      <th>occupation</th>\n",
       "      <th>relationship</th>\n",
       "      <th>race</th>\n",
       "      <th>sex</th>\n",
       "      <th>capital_gain</th>\n",
       "      <th>capital_loss</th>\n",
       "      <th>hours_per_week</th>\n",
       "      <th>native_country</th>\n",
       "      <th>income_bracket</th>\n",
       "    </tr>\n",
       "  </thead>\n",
       "  <tbody>\n",
       "    <tr>\n",
       "      <th>31</th>\n",
       "      <td>44</td>\n",
       "      <td>Private</td>\n",
       "      <td>9th</td>\n",
       "      <td>5</td>\n",
       "      <td>Married-civ-spouse</td>\n",
       "      <td>Machine-op-inspct</td>\n",
       "      <td>Husband</td>\n",
       "      <td>Black</td>\n",
       "      <td>Male</td>\n",
       "      <td>0</td>\n",
       "      <td>0</td>\n",
       "      <td>40</td>\n",
       "      <td>United-States</td>\n",
       "      <td>&lt;=50K</td>\n",
       "    </tr>\n",
       "    <tr>\n",
       "      <th>89</th>\n",
       "      <td>61</td>\n",
       "      <td>Private</td>\n",
       "      <td>9th</td>\n",
       "      <td>5</td>\n",
       "      <td>Married-civ-spouse</td>\n",
       "      <td>Craft-repair</td>\n",
       "      <td>Husband</td>\n",
       "      <td>White</td>\n",
       "      <td>Male</td>\n",
       "      <td>0</td>\n",
       "      <td>0</td>\n",
       "      <td>40</td>\n",
       "      <td>United-States</td>\n",
       "      <td>&lt;=50K</td>\n",
       "    </tr>\n",
       "    <tr>\n",
       "      <th>116</th>\n",
       "      <td>42</td>\n",
       "      <td>Private</td>\n",
       "      <td>9th</td>\n",
       "      <td>5</td>\n",
       "      <td>Married-civ-spouse</td>\n",
       "      <td>Transport-moving</td>\n",
       "      <td>Husband</td>\n",
       "      <td>White</td>\n",
       "      <td>Male</td>\n",
       "      <td>0</td>\n",
       "      <td>0</td>\n",
       "      <td>40</td>\n",
       "      <td>United-States</td>\n",
       "      <td>&lt;=50K</td>\n",
       "    </tr>\n",
       "    <tr>\n",
       "      <th>131</th>\n",
       "      <td>25</td>\n",
       "      <td>Private</td>\n",
       "      <td>9th</td>\n",
       "      <td>5</td>\n",
       "      <td>Married-civ-spouse</td>\n",
       "      <td>Machine-op-inspct</td>\n",
       "      <td>Husband</td>\n",
       "      <td>White</td>\n",
       "      <td>Male</td>\n",
       "      <td>0</td>\n",
       "      <td>0</td>\n",
       "      <td>40</td>\n",
       "      <td>Mexico</td>\n",
       "      <td>&lt;=50K</td>\n",
       "    </tr>\n",
       "    <tr>\n",
       "      <th>203</th>\n",
       "      <td>35</td>\n",
       "      <td>Self-emp-not-inc</td>\n",
       "      <td>9th</td>\n",
       "      <td>5</td>\n",
       "      <td>Married-civ-spouse</td>\n",
       "      <td>Craft-repair</td>\n",
       "      <td>Husband</td>\n",
       "      <td>White</td>\n",
       "      <td>Male</td>\n",
       "      <td>0</td>\n",
       "      <td>0</td>\n",
       "      <td>50</td>\n",
       "      <td>United-States</td>\n",
       "      <td>&lt;=50K</td>\n",
       "    </tr>\n",
       "    <tr>\n",
       "      <th>...</th>\n",
       "      <td>...</td>\n",
       "      <td>...</td>\n",
       "      <td>...</td>\n",
       "      <td>...</td>\n",
       "      <td>...</td>\n",
       "      <td>...</td>\n",
       "      <td>...</td>\n",
       "      <td>...</td>\n",
       "      <td>...</td>\n",
       "      <td>...</td>\n",
       "      <td>...</td>\n",
       "      <td>...</td>\n",
       "      <td>...</td>\n",
       "      <td>...</td>\n",
       "    </tr>\n",
       "    <tr>\n",
       "      <th>7942</th>\n",
       "      <td>54</td>\n",
       "      <td>Self-emp-not-inc</td>\n",
       "      <td>HS-grad</td>\n",
       "      <td>9</td>\n",
       "      <td>Married-civ-spouse</td>\n",
       "      <td>Craft-repair</td>\n",
       "      <td>Husband</td>\n",
       "      <td>White</td>\n",
       "      <td>Male</td>\n",
       "      <td>0</td>\n",
       "      <td>0</td>\n",
       "      <td>35</td>\n",
       "      <td>United-States</td>\n",
       "      <td>&lt;=50K</td>\n",
       "    </tr>\n",
       "    <tr>\n",
       "      <th>7966</th>\n",
       "      <td>55</td>\n",
       "      <td>Self-emp-not-inc</td>\n",
       "      <td>HS-grad</td>\n",
       "      <td>9</td>\n",
       "      <td>Married-civ-spouse</td>\n",
       "      <td>Sales</td>\n",
       "      <td>Husband</td>\n",
       "      <td>White</td>\n",
       "      <td>Male</td>\n",
       "      <td>0</td>\n",
       "      <td>0</td>\n",
       "      <td>40</td>\n",
       "      <td>United-States</td>\n",
       "      <td>&lt;=50K</td>\n",
       "    </tr>\n",
       "    <tr>\n",
       "      <th>7970</th>\n",
       "      <td>56</td>\n",
       "      <td>Self-emp-not-inc</td>\n",
       "      <td>HS-grad</td>\n",
       "      <td>9</td>\n",
       "      <td>Married-civ-spouse</td>\n",
       "      <td>Sales</td>\n",
       "      <td>Husband</td>\n",
       "      <td>White</td>\n",
       "      <td>Male</td>\n",
       "      <td>0</td>\n",
       "      <td>0</td>\n",
       "      <td>40</td>\n",
       "      <td>United-States</td>\n",
       "      <td>&lt;=50K</td>\n",
       "    </tr>\n",
       "    <tr>\n",
       "      <th>7977</th>\n",
       "      <td>29</td>\n",
       "      <td>Self-emp-not-inc</td>\n",
       "      <td>HS-grad</td>\n",
       "      <td>9</td>\n",
       "      <td>Married-civ-spouse</td>\n",
       "      <td>Craft-repair</td>\n",
       "      <td>Husband</td>\n",
       "      <td>White</td>\n",
       "      <td>Male</td>\n",
       "      <td>0</td>\n",
       "      <td>0</td>\n",
       "      <td>40</td>\n",
       "      <td>United-States</td>\n",
       "      <td>&lt;=50K</td>\n",
       "    </tr>\n",
       "    <tr>\n",
       "      <th>7985</th>\n",
       "      <td>29</td>\n",
       "      <td>Self-emp-not-inc</td>\n",
       "      <td>HS-grad</td>\n",
       "      <td>9</td>\n",
       "      <td>Married-civ-spouse</td>\n",
       "      <td>Craft-repair</td>\n",
       "      <td>Husband</td>\n",
       "      <td>White</td>\n",
       "      <td>Male</td>\n",
       "      <td>0</td>\n",
       "      <td>0</td>\n",
       "      <td>40</td>\n",
       "      <td>United-States</td>\n",
       "      <td>&lt;=50K</td>\n",
       "    </tr>\n",
       "  </tbody>\n",
       "</table>\n",
       "<p>1107 rows × 14 columns</p>\n",
       "</div>"
      ],
      "text/plain": [
       "      age          workclass education  education_num       marital_status  \\\n",
       "31     44            Private       9th              5   Married-civ-spouse   \n",
       "89     61            Private       9th              5   Married-civ-spouse   \n",
       "116    42            Private       9th              5   Married-civ-spouse   \n",
       "131    25            Private       9th              5   Married-civ-spouse   \n",
       "203    35   Self-emp-not-inc       9th              5   Married-civ-spouse   \n",
       "...   ...                ...       ...            ...                  ...   \n",
       "7942   54   Self-emp-not-inc   HS-grad              9   Married-civ-spouse   \n",
       "7966   55   Self-emp-not-inc   HS-grad              9   Married-civ-spouse   \n",
       "7970   56   Self-emp-not-inc   HS-grad              9   Married-civ-spouse   \n",
       "7977   29   Self-emp-not-inc   HS-grad              9   Married-civ-spouse   \n",
       "7985   29   Self-emp-not-inc   HS-grad              9   Married-civ-spouse   \n",
       "\n",
       "              occupation relationship    race    sex  capital_gain  \\\n",
       "31     Machine-op-inspct      Husband   Black   Male             0   \n",
       "89          Craft-repair      Husband   White   Male             0   \n",
       "116     Transport-moving      Husband   White   Male             0   \n",
       "131    Machine-op-inspct      Husband   White   Male             0   \n",
       "203         Craft-repair      Husband   White   Male             0   \n",
       "...                  ...          ...     ...    ...           ...   \n",
       "7942        Craft-repair      Husband   White   Male             0   \n",
       "7966               Sales      Husband   White   Male             0   \n",
       "7970               Sales      Husband   White   Male             0   \n",
       "7977        Craft-repair      Husband   White   Male             0   \n",
       "7985        Craft-repair      Husband   White   Male             0   \n",
       "\n",
       "      capital_loss  hours_per_week  native_country income_bracket  \n",
       "31               0              40   United-States          <=50K  \n",
       "89               0              40   United-States          <=50K  \n",
       "116              0              40   United-States          <=50K  \n",
       "131              0              40          Mexico          <=50K  \n",
       "203              0              50   United-States          <=50K  \n",
       "...            ...             ...             ...            ...  \n",
       "7942             0              35   United-States          <=50K  \n",
       "7966             0              40   United-States          <=50K  \n",
       "7970             0              40   United-States          <=50K  \n",
       "7977             0              40   United-States          <=50K  \n",
       "7985             0              40   United-States          <=50K  \n",
       "\n",
       "[1107 rows x 14 columns]"
      ]
     },
     "execution_count": 142,
     "metadata": {},
     "output_type": "execute_result"
    }
   ],
   "source": [
    "# melihat duplikat data\n",
    "duplic = data[data.duplicated()]\n",
    "duplic"
   ]
  },
  {
   "cell_type": "code",
   "execution_count": 143,
   "metadata": {},
   "outputs": [],
   "source": [
    "# menghapus index data\n",
    "data.drop(duplic.index, axis = 0, inplace=True)"
   ]
  },
  {
   "attachments": {},
   "cell_type": "markdown",
   "metadata": {},
   "source": [
    "data duplikat telah dihapus. namun kita harus pastikan kembali data tersebut"
   ]
  },
  {
   "cell_type": "code",
   "execution_count": 144,
   "metadata": {},
   "outputs": [
    {
     "data": {
      "text/plain": [
       "0"
      ]
     },
     "execution_count": 144,
     "metadata": {},
     "output_type": "execute_result"
    }
   ],
   "source": [
    "# cek duplikadt data\n",
    "data.duplicated().sum()"
   ]
  },
  {
   "attachments": {},
   "cell_type": "markdown",
   "metadata": {},
   "source": [
    "sekarang kita akan melakukan reset index agar index pada data tidak ada yang hilang"
   ]
  },
  {
   "cell_type": "code",
   "execution_count": 145,
   "metadata": {},
   "outputs": [
    {
     "data": {
      "text/plain": [
       "(6755, 14)"
      ]
     },
     "execution_count": 145,
     "metadata": {},
     "output_type": "execute_result"
    }
   ],
   "source": [
    "# reset index\n",
    "data.reset_index()\n",
    "data.shape"
   ]
  },
  {
   "attachments": {},
   "cell_type": "markdown",
   "metadata": {},
   "source": [
    "# v. Exploratory Data Analysis (EDA)"
   ]
  },
  {
   "attachments": {},
   "cell_type": "markdown",
   "metadata": {},
   "source": [
    "pada bagian ini, kita akan melakukan beberapa eksplorasi data agar lebih mudah memahami data yang kita miliki"
   ]
  },
  {
   "attachments": {},
   "cell_type": "markdown",
   "metadata": {},
   "source": [
    "pertama kita akan melihat unique values pada income bracket"
   ]
  },
  {
   "cell_type": "code",
   "execution_count": 146,
   "metadata": {},
   "outputs": [
    {
     "name": "stdout",
     "output_type": "stream",
     "text": [
      "income_bracket unique values: [' <=50K' ' >50K']\n"
     ]
    }
   ],
   "source": [
    "print(f'income_bracket unique values: {data.income_bracket.unique()}')"
   ]
  },
  {
   "attachments": {},
   "cell_type": "markdown",
   "metadata": {},
   "source": [
    "ternyata kolom income_bracket memiliki 2 unique values. namun, sepertinya ada yang salah dengan data yang kita miliki, karena ada whitespace pada setiap index. sepertinya itu cukup menyulitkan kita untuk melakukan proses selanjutnya. jadi kita akan menghapus setiap whitespace yang ada"
   ]
  },
  {
   "cell_type": "code",
   "execution_count": 147,
   "metadata": {},
   "outputs": [],
   "source": [
    "data = data.replace(' ', '',regex=True)"
   ]
  },
  {
   "attachments": {},
   "cell_type": "markdown",
   "metadata": {},
   "source": [
    "mari kita pastikan kembali agar tidak ada kesulitan"
   ]
  },
  {
   "cell_type": "code",
   "execution_count": 148,
   "metadata": {},
   "outputs": [
    {
     "name": "stdout",
     "output_type": "stream",
     "text": [
      "income_bracket unique values: ['<=50K' '>50K']\n"
     ]
    }
   ],
   "source": [
    "print(f'income_bracket unique values: {data.income_bracket.unique()}')"
   ]
  },
  {
   "attachments": {},
   "cell_type": "markdown",
   "metadata": {},
   "source": [
    "sekarang kita akan melihat ada berapa jumlah orang pada setiap edukasinya berdasarkan usia"
   ]
  },
  {
   "cell_type": "code",
   "execution_count": 149,
   "metadata": {},
   "outputs": [
    {
     "data": {
      "text/html": [
       "<div>\n",
       "<style scoped>\n",
       "    .dataframe tbody tr th:only-of-type {\n",
       "        vertical-align: middle;\n",
       "    }\n",
       "\n",
       "    .dataframe tbody tr th {\n",
       "        vertical-align: top;\n",
       "    }\n",
       "\n",
       "    .dataframe thead th {\n",
       "        text-align: right;\n",
       "    }\n",
       "</style>\n",
       "<table border=\"1\" class=\"dataframe\">\n",
       "  <thead>\n",
       "    <tr style=\"text-align: right;\">\n",
       "      <th></th>\n",
       "      <th>age</th>\n",
       "    </tr>\n",
       "    <tr>\n",
       "      <th>education</th>\n",
       "      <th></th>\n",
       "    </tr>\n",
       "  </thead>\n",
       "  <tbody>\n",
       "    <tr>\n",
       "      <th>10th</th>\n",
       "      <td>770</td>\n",
       "    </tr>\n",
       "    <tr>\n",
       "      <th>11th</th>\n",
       "      <td>941</td>\n",
       "    </tr>\n",
       "    <tr>\n",
       "      <th>12th</th>\n",
       "      <td>358</td>\n",
       "    </tr>\n",
       "    <tr>\n",
       "      <th>1st-4th</th>\n",
       "      <td>149</td>\n",
       "    </tr>\n",
       "    <tr>\n",
       "      <th>5th-6th</th>\n",
       "      <td>283</td>\n",
       "    </tr>\n",
       "    <tr>\n",
       "      <th>7th-8th</th>\n",
       "      <td>541</td>\n",
       "    </tr>\n",
       "    <tr>\n",
       "      <th>9th</th>\n",
       "      <td>449</td>\n",
       "    </tr>\n",
       "    <tr>\n",
       "      <th>HS-grad</th>\n",
       "      <td>3264</td>\n",
       "    </tr>\n",
       "  </tbody>\n",
       "</table>\n",
       "</div>"
      ],
      "text/plain": [
       "            age\n",
       "education      \n",
       "10th        770\n",
       "11th        941\n",
       "12th        358\n",
       "1st-4th     149\n",
       "5th-6th     283\n",
       "7th-8th     541\n",
       "9th         449\n",
       "HS-grad    3264"
      ]
     },
     "execution_count": 149,
     "metadata": {},
     "output_type": "execute_result"
    }
   ],
   "source": [
    "edu = data.groupby('education')[['age']].count().sort_values('education')\n",
    "edu"
   ]
  },
  {
   "cell_type": "code",
   "execution_count": 150,
   "metadata": {},
   "outputs": [
    {
     "data": {
      "text/html": [
       "<div>\n",
       "<style scoped>\n",
       "    .dataframe tbody tr th:only-of-type {\n",
       "        vertical-align: middle;\n",
       "    }\n",
       "\n",
       "    .dataframe tbody tr th {\n",
       "        vertical-align: top;\n",
       "    }\n",
       "\n",
       "    .dataframe thead th {\n",
       "        text-align: right;\n",
       "    }\n",
       "</style>\n",
       "<table border=\"1\" class=\"dataframe\">\n",
       "  <thead>\n",
       "    <tr style=\"text-align: right;\">\n",
       "      <th></th>\n",
       "      <th>age</th>\n",
       "    </tr>\n",
       "    <tr>\n",
       "      <th>education_num</th>\n",
       "      <th></th>\n",
       "    </tr>\n",
       "  </thead>\n",
       "  <tbody>\n",
       "    <tr>\n",
       "      <th>2</th>\n",
       "      <td>149</td>\n",
       "    </tr>\n",
       "    <tr>\n",
       "      <th>3</th>\n",
       "      <td>283</td>\n",
       "    </tr>\n",
       "    <tr>\n",
       "      <th>4</th>\n",
       "      <td>541</td>\n",
       "    </tr>\n",
       "    <tr>\n",
       "      <th>5</th>\n",
       "      <td>449</td>\n",
       "    </tr>\n",
       "    <tr>\n",
       "      <th>6</th>\n",
       "      <td>770</td>\n",
       "    </tr>\n",
       "    <tr>\n",
       "      <th>7</th>\n",
       "      <td>941</td>\n",
       "    </tr>\n",
       "    <tr>\n",
       "      <th>8</th>\n",
       "      <td>358</td>\n",
       "    </tr>\n",
       "    <tr>\n",
       "      <th>9</th>\n",
       "      <td>3264</td>\n",
       "    </tr>\n",
       "  </tbody>\n",
       "</table>\n",
       "</div>"
      ],
      "text/plain": [
       "                age\n",
       "education_num      \n",
       "2               149\n",
       "3               283\n",
       "4               541\n",
       "5               449\n",
       "6               770\n",
       "7               941\n",
       "8               358\n",
       "9              3264"
      ]
     },
     "execution_count": 150,
     "metadata": {},
     "output_type": "execute_result"
    }
   ],
   "source": [
    "edu_num = data.groupby('education_num')[['age']].count().sort_values('education_num')\n",
    "edu_num"
   ]
  },
  {
   "attachments": {},
   "cell_type": "markdown",
   "metadata": {},
   "source": [
    "ternyata dari pada kolom education maupun education_num memiliki jumlah yang sama pada setiap unique values."
   ]
  },
  {
   "attachments": {},
   "cell_type": "markdown",
   "metadata": {},
   "source": [
    "selanjutnya kita akan melihat occupation berdasarkan usia"
   ]
  },
  {
   "cell_type": "code",
   "execution_count": 151,
   "metadata": {},
   "outputs": [
    {
     "data": {
      "text/html": [
       "<div>\n",
       "<style scoped>\n",
       "    .dataframe tbody tr th:only-of-type {\n",
       "        vertical-align: middle;\n",
       "    }\n",
       "\n",
       "    .dataframe tbody tr th {\n",
       "        vertical-align: top;\n",
       "    }\n",
       "\n",
       "    .dataframe thead th {\n",
       "        text-align: right;\n",
       "    }\n",
       "</style>\n",
       "<table border=\"1\" class=\"dataframe\">\n",
       "  <thead>\n",
       "    <tr style=\"text-align: right;\">\n",
       "      <th></th>\n",
       "      <th>age</th>\n",
       "    </tr>\n",
       "    <tr>\n",
       "      <th>occupation</th>\n",
       "      <th></th>\n",
       "    </tr>\n",
       "  </thead>\n",
       "  <tbody>\n",
       "    <tr>\n",
       "      <th>Armed-Forces</th>\n",
       "      <td>1</td>\n",
       "    </tr>\n",
       "    <tr>\n",
       "      <th>Priv-house-serv</th>\n",
       "      <td>70</td>\n",
       "    </tr>\n",
       "    <tr>\n",
       "      <th>Tech-support</th>\n",
       "      <td>84</td>\n",
       "    </tr>\n",
       "    <tr>\n",
       "      <th>Protective-serv</th>\n",
       "      <td>142</td>\n",
       "    </tr>\n",
       "    <tr>\n",
       "      <th>Prof-specialty</th>\n",
       "      <td>150</td>\n",
       "    </tr>\n",
       "    <tr>\n",
       "      <th>Farming-fishing</th>\n",
       "      <td>398</td>\n",
       "    </tr>\n",
       "    <tr>\n",
       "      <th>Exec-managerial</th>\n",
       "      <td>476</td>\n",
       "    </tr>\n",
       "    <tr>\n",
       "      <th>Adm-clerical</th>\n",
       "      <td>483</td>\n",
       "    </tr>\n",
       "    <tr>\n",
       "      <th>Handlers-cleaners</th>\n",
       "      <td>493</td>\n",
       "    </tr>\n",
       "    <tr>\n",
       "      <th>Sales</th>\n",
       "      <td>700</td>\n",
       "    </tr>\n",
       "    <tr>\n",
       "      <th>Transport-moving</th>\n",
       "      <td>705</td>\n",
       "    </tr>\n",
       "    <tr>\n",
       "      <th>Machine-op-inspct</th>\n",
       "      <td>774</td>\n",
       "    </tr>\n",
       "    <tr>\n",
       "      <th>Other-service</th>\n",
       "      <td>984</td>\n",
       "    </tr>\n",
       "    <tr>\n",
       "      <th>Craft-repair</th>\n",
       "      <td>1295</td>\n",
       "    </tr>\n",
       "  </tbody>\n",
       "</table>\n",
       "</div>"
      ],
      "text/plain": [
       "                    age\n",
       "occupation             \n",
       "Armed-Forces          1\n",
       "Priv-house-serv      70\n",
       "Tech-support         84\n",
       "Protective-serv     142\n",
       "Prof-specialty      150\n",
       "Farming-fishing     398\n",
       "Exec-managerial     476\n",
       "Adm-clerical        483\n",
       "Handlers-cleaners   493\n",
       "Sales               700\n",
       "Transport-moving    705\n",
       "Machine-op-inspct   774\n",
       "Other-service       984\n",
       "Craft-repair       1295"
      ]
     },
     "execution_count": 151,
     "metadata": {},
     "output_type": "execute_result"
    }
   ],
   "source": [
    "ocu = data.groupby('occupation')[['age']].count().sort_values('age')\n",
    "ocu"
   ]
  },
  {
   "cell_type": "code",
   "execution_count": 152,
   "metadata": {},
   "outputs": [
    {
     "data": {
      "image/png": "[encoded data removed]",
      "text/plain": [
       "<Figure size 640x480 with 1 Axes>"
      ]
     },
     "metadata": {},
     "output_type": "display_data"
    }
   ],
   "source": [
    "data.groupby('occupation')[['age']].count().sort_values(by='age').plot(kind='bar');"
   ]
  },
  {
   "attachments": {},
   "cell_type": "markdown",
   "metadata": {},
   "source": [
    "dari hasil diatas dapat terlihat yang paling banyak adalah craft-repair"
   ]
  },
  {
   "cell_type": "code",
   "execution_count": 153,
   "metadata": {},
   "outputs": [
    {
     "data": {
      "text/html": [
       "<div>\n",
       "<style scoped>\n",
       "    .dataframe tbody tr th:only-of-type {\n",
       "        vertical-align: middle;\n",
       "    }\n",
       "\n",
       "    .dataframe tbody tr th {\n",
       "        vertical-align: top;\n",
       "    }\n",
       "\n",
       "    .dataframe thead th {\n",
       "        text-align: right;\n",
       "    }\n",
       "</style>\n",
       "<table border=\"1\" class=\"dataframe\">\n",
       "  <thead>\n",
       "    <tr style=\"text-align: right;\">\n",
       "      <th></th>\n",
       "      <th>age</th>\n",
       "    </tr>\n",
       "    <tr>\n",
       "      <th>relationship</th>\n",
       "      <th></th>\n",
       "    </tr>\n",
       "  </thead>\n",
       "  <tbody>\n",
       "    <tr>\n",
       "      <th>Other-relative</th>\n",
       "      <td>220</td>\n",
       "    </tr>\n",
       "    <tr>\n",
       "      <th>Unmarried</th>\n",
       "      <td>440</td>\n",
       "    </tr>\n",
       "    <tr>\n",
       "      <th>Wife</th>\n",
       "      <td>544</td>\n",
       "    </tr>\n",
       "    <tr>\n",
       "      <th>Own-child</th>\n",
       "      <td>688</td>\n",
       "    </tr>\n",
       "    <tr>\n",
       "      <th>Not-in-family</th>\n",
       "      <td>749</td>\n",
       "    </tr>\n",
       "    <tr>\n",
       "      <th>Husband</th>\n",
       "      <td>4114</td>\n",
       "    </tr>\n",
       "  </tbody>\n",
       "</table>\n",
       "</div>"
      ],
      "text/plain": [
       "                 age\n",
       "relationship        \n",
       "Other-relative   220\n",
       "Unmarried        440\n",
       "Wife             544\n",
       "Own-child        688\n",
       "Not-in-family    749\n",
       "Husband         4114"
      ]
     },
     "execution_count": 153,
     "metadata": {},
     "output_type": "execute_result"
    }
   ],
   "source": [
    "rel = data.groupby('relationship')[['age']].count().sort_values('age')\n",
    "rel"
   ]
  },
  {
   "cell_type": "code",
   "execution_count": 154,
   "metadata": {},
   "outputs": [
    {
     "data": {
      "image/png": "[encoded data removed]",
      "text/plain": [
       "<Figure size 640x480 with 1 Axes>"
      ]
     },
     "metadata": {},
     "output_type": "display_data"
    }
   ],
   "source": [
    "data.groupby('relationship')[['age']].count().sort_values(by='age').plot(kind='bar');"
   ]
  },
  {
   "attachments": {},
   "cell_type": "markdown",
   "metadata": {},
   "source": [
    "dari status perkawinan diatas terlihat yang banyak sebagai suami"
   ]
  },
  {
   "cell_type": "code",
   "execution_count": 155,
   "metadata": {},
   "outputs": [
    {
     "data": {
      "text/plain": [
       "<AxesSubplot:xlabel='sex'>"
      ]
     },
     "execution_count": 155,
     "metadata": {},
     "output_type": "execute_result"
    },
    {
     "data": {
      "image/png": "[encoded data removed]",
      "text/plain": [
       "<Figure size 640x480 with 1 Axes>"
      ]
     },
     "metadata": {},
     "output_type": "display_data"
    }
   ],
   "source": [
    "data.groupby('sex')[['age']].count().sort_values(by='age').plot(kind='bar')"
   ]
  },
  {
   "attachments": {},
   "cell_type": "markdown",
   "metadata": {},
   "source": [
    "dari sex paling banyak berada pada jenis kelamin laki-laki"
   ]
  },
  {
   "attachments": {},
   "cell_type": "markdown",
   "metadata": {},
   "source": [
    "# vi. Preproccessing/Feature Engineering"
   ]
  },
  {
   "attachments": {},
   "cell_type": "markdown",
   "metadata": {},
   "source": [
    "pada bagian ini kita akan menyiapkan data berupa pemilihan features, data spliting, dll"
   ]
  },
  {
   "attachments": {},
   "cell_type": "markdown",
   "metadata": {},
   "source": [
    "### Features Selection"
   ]
  },
  {
   "attachments": {},
   "cell_type": "markdown",
   "metadata": {},
   "source": [
    "sebelum kita memilih fitur apa saja yang akan dijadikan target. kita akan melihat terlebih dahulu korelasi antar kolom terhadap income_bracket"
   ]
  },
  {
   "cell_type": "code",
   "execution_count": 156,
   "metadata": {},
   "outputs": [
    {
     "name": "stdout",
     "output_type": "stream",
     "text": [
      "interval columns not set, guessing: ['age', 'education_num', 'capital_gain', 'capital_loss', 'hours_per_week']\n"
     ]
    },
    {
     "data": {
      "text/plain": [
       "income_bracket    1.000000\n",
       "education         0.509211\n",
       "education_num     0.509211\n",
       "relationship      0.443380\n",
       "occupation        0.346531\n",
       "age               0.340184\n",
       "hours_per_week    0.312144\n",
       "marital_status    0.294440\n",
       "capital_gain      0.270898\n",
       "sex               0.201036\n",
       "native_country    0.173276\n",
       "workclass         0.156763\n",
       "capital_loss      0.133562\n",
       "race              0.077436\n",
       "Name: income_bracket, dtype: float64"
      ]
     },
     "execution_count": 156,
     "metadata": {},
     "output_type": "execute_result"
    }
   ],
   "source": [
    "data.phik_matrix().loc['income_bracket'].sort_values(ascending=False)"
   ]
  },
  {
   "attachments": {},
   "cell_type": "markdown",
   "metadata": {},
   "source": [
    "hasil diatas dapat terlihat korelasi antar kolom terhadap income_bracket. kita akan mengambil kolom yang memiliki korelasi lebih dari 0.3 kecuali kolom education_num karena memiliki korelasi dan nilai yang sama dengan education"
   ]
  },
  {
   "cell_type": "code",
   "execution_count": 157,
   "metadata": {},
   "outputs": [
    {
     "data": {
      "text/html": [
       "<div>\n",
       "<style scoped>\n",
       "    .dataframe tbody tr th:only-of-type {\n",
       "        vertical-align: middle;\n",
       "    }\n",
       "\n",
       "    .dataframe tbody tr th {\n",
       "        vertical-align: top;\n",
       "    }\n",
       "\n",
       "    .dataframe thead th {\n",
       "        text-align: right;\n",
       "    }\n",
       "</style>\n",
       "<table border=\"1\" class=\"dataframe\">\n",
       "  <thead>\n",
       "    <tr style=\"text-align: right;\">\n",
       "      <th></th>\n",
       "      <th>education</th>\n",
       "      <th>relationship</th>\n",
       "      <th>occupation</th>\n",
       "      <th>age</th>\n",
       "      <th>hours_per_week</th>\n",
       "      <th>income_bracket</th>\n",
       "    </tr>\n",
       "  </thead>\n",
       "  <tbody>\n",
       "    <tr>\n",
       "      <th>0</th>\n",
       "      <td>9th</td>\n",
       "      <td>Wife</td>\n",
       "      <td>Other-service</td>\n",
       "      <td>39</td>\n",
       "      <td>34</td>\n",
       "      <td>&lt;=50K</td>\n",
       "    </tr>\n",
       "    <tr>\n",
       "      <th>1</th>\n",
       "      <td>9th</td>\n",
       "      <td>Wife</td>\n",
       "      <td>Priv-house-serv</td>\n",
       "      <td>77</td>\n",
       "      <td>10</td>\n",
       "      <td>&lt;=50K</td>\n",
       "    </tr>\n",
       "    <tr>\n",
       "      <th>2</th>\n",
       "      <td>9th</td>\n",
       "      <td>Wife</td>\n",
       "      <td>Other-service</td>\n",
       "      <td>38</td>\n",
       "      <td>24</td>\n",
       "      <td>&lt;=50K</td>\n",
       "    </tr>\n",
       "    <tr>\n",
       "      <th>3</th>\n",
       "      <td>9th</td>\n",
       "      <td>Wife</td>\n",
       "      <td>Protective-serv</td>\n",
       "      <td>28</td>\n",
       "      <td>40</td>\n",
       "      <td>&lt;=50K</td>\n",
       "    </tr>\n",
       "    <tr>\n",
       "      <th>4</th>\n",
       "      <td>9th</td>\n",
       "      <td>Wife</td>\n",
       "      <td>Machine-op-inspct</td>\n",
       "      <td>37</td>\n",
       "      <td>48</td>\n",
       "      <td>&lt;=50K</td>\n",
       "    </tr>\n",
       "    <tr>\n",
       "      <th>...</th>\n",
       "      <td>...</td>\n",
       "      <td>...</td>\n",
       "      <td>...</td>\n",
       "      <td>...</td>\n",
       "      <td>...</td>\n",
       "      <td>...</td>\n",
       "    </tr>\n",
       "    <tr>\n",
       "      <th>7982</th>\n",
       "      <td>HS-grad</td>\n",
       "      <td>Husband</td>\n",
       "      <td>Craft-repair</td>\n",
       "      <td>42</td>\n",
       "      <td>40</td>\n",
       "      <td>&lt;=50K</td>\n",
       "    </tr>\n",
       "    <tr>\n",
       "      <th>7983</th>\n",
       "      <td>HS-grad</td>\n",
       "      <td>Husband</td>\n",
       "      <td>Craft-repair</td>\n",
       "      <td>33</td>\n",
       "      <td>40</td>\n",
       "      <td>&lt;=50K</td>\n",
       "    </tr>\n",
       "    <tr>\n",
       "      <th>7984</th>\n",
       "      <td>HS-grad</td>\n",
       "      <td>Husband</td>\n",
       "      <td>Craft-repair</td>\n",
       "      <td>36</td>\n",
       "      <td>40</td>\n",
       "      <td>&lt;=50K</td>\n",
       "    </tr>\n",
       "    <tr>\n",
       "      <th>7986</th>\n",
       "      <td>HS-grad</td>\n",
       "      <td>Husband</td>\n",
       "      <td>Craft-repair</td>\n",
       "      <td>48</td>\n",
       "      <td>40</td>\n",
       "      <td>&lt;=50K</td>\n",
       "    </tr>\n",
       "    <tr>\n",
       "      <th>7987</th>\n",
       "      <td>HS-grad</td>\n",
       "      <td>Husband</td>\n",
       "      <td>Craft-repair</td>\n",
       "      <td>51</td>\n",
       "      <td>40</td>\n",
       "      <td>&lt;=50K</td>\n",
       "    </tr>\n",
       "  </tbody>\n",
       "</table>\n",
       "<p>6755 rows × 6 columns</p>\n",
       "</div>"
      ],
      "text/plain": [
       "     education relationship         occupation  age  hours_per_week  \\\n",
       "0          9th         Wife      Other-service   39              34   \n",
       "1          9th         Wife    Priv-house-serv   77              10   \n",
       "2          9th         Wife      Other-service   38              24   \n",
       "3          9th         Wife    Protective-serv   28              40   \n",
       "4          9th         Wife  Machine-op-inspct   37              48   \n",
       "...        ...          ...                ...  ...             ...   \n",
       "7982   HS-grad      Husband       Craft-repair   42              40   \n",
       "7983   HS-grad      Husband       Craft-repair   33              40   \n",
       "7984   HS-grad      Husband       Craft-repair   36              40   \n",
       "7986   HS-grad      Husband       Craft-repair   48              40   \n",
       "7987   HS-grad      Husband       Craft-repair   51              40   \n",
       "\n",
       "     income_bracket  \n",
       "0             <=50K  \n",
       "1             <=50K  \n",
       "2             <=50K  \n",
       "3             <=50K  \n",
       "4             <=50K  \n",
       "...             ...  \n",
       "7982          <=50K  \n",
       "7983          <=50K  \n",
       "7984          <=50K  \n",
       "7986          <=50K  \n",
       "7987          <=50K  \n",
       "\n",
       "[6755 rows x 6 columns]"
      ]
     },
     "execution_count": 157,
     "metadata": {},
     "output_type": "execute_result"
    }
   ],
   "source": [
    "data_clean = data[['education', 'relationship', 'occupation','age', 'hours_per_week','income_bracket']]\n",
    "data_clean"
   ]
  },
  {
   "attachments": {},
   "cell_type": "markdown",
   "metadata": {},
   "source": [
    "### Cardinality Checking"
   ]
  },
  {
   "attachments": {},
   "cell_type": "markdown",
   "metadata": {},
   "source": [
    "selanjutnya kita akan mengecek kolom yang memiliki cardinalitas yang tinggi"
   ]
  },
  {
   "cell_type": "code",
   "execution_count": 158,
   "metadata": {},
   "outputs": [
    {
     "data": {
      "text/plain": [
       "education          8\n",
       "relationship       6\n",
       "occupation        14\n",
       "income_bracket     2\n",
       "dtype: int64"
      ]
     },
     "execution_count": 158,
     "metadata": {},
     "output_type": "execute_result"
    }
   ],
   "source": [
    "data_clean.select_dtypes('object').nunique()"
   ]
  },
  {
   "attachments": {},
   "cell_type": "markdown",
   "metadata": {},
   "source": [
    "ternyata ada kolom yang memiliki kardinalitas tinggi yaitu occupation, education, dan relationship. jadi kita akan melakukan handling cardinality pada kolom tersebut"
   ]
  },
  {
   "cell_type": "code",
   "execution_count": 159,
   "metadata": {},
   "outputs": [],
   "source": [
    "data_clean[['occupation']] = data_clean[['occupation']].replace(['Craft-repair','Other-service','Protective-serv',\n",
    "                                                 'Handlers-cleaners', 'Priv-house-serv'], 'Service')"
   ]
  },
  {
   "cell_type": "code",
   "execution_count": 160,
   "metadata": {},
   "outputs": [],
   "source": [
    "# mengurangi Cardinality\n",
    "data_clean[['education']] = data_clean[['education']].replace(['7th-8th','5th-6th','1st-4th'], 'Junior School')\n",
    "data_clean[['education']] = data_clean[['education']].replace(['11th','10th','9th'], 'Mid School')\n",
    "data_clean[['education']] = data_clean[['education']].replace(['12th','HS-grad'], 'Hi School')"
   ]
  },
  {
   "cell_type": "code",
   "execution_count": 161,
   "metadata": {},
   "outputs": [],
   "source": [
    "# Mengurangi relationship\n",
    "data_clean[['relationship']] = data_clean[['relationship']].replace(['Not-in-family','Unmarried'], 'Single')\n",
    "data_clean[['relationship']] = data_clean[['relationship']].replace(['Own-child','Other-relative', 'Wife', 'Husband'], 'Have Family')"
   ]
  },
  {
   "cell_type": "code",
   "execution_count": 162,
   "metadata": {},
   "outputs": [],
   "source": [
    "# mengganti tipe data\n",
    "data_clean['relationship'] = data_clean['relationship'].astype('category')\n",
    "data_clean['education'] = data_clean['education'].astype('category')"
   ]
  },
  {
   "attachments": {},
   "cell_type": "markdown",
   "metadata": {},
   "source": [
    "sekarang kita cek kembali kardinalitas tiap kolom"
   ]
  },
  {
   "cell_type": "code",
   "execution_count": 163,
   "metadata": {},
   "outputs": [],
   "source": [
    "# reset index\n",
    "data_clean.reset_index(inplace=True, drop=True)"
   ]
  },
  {
   "attachments": {},
   "cell_type": "markdown",
   "metadata": {},
   "source": [
    "terlihat pada setiap kolom memiliki kardinalitas yang cukup normal"
   ]
  },
  {
   "attachments": {},
   "cell_type": "markdown",
   "metadata": {},
   "source": [
    "### Train Test Split"
   ]
  },
  {
   "attachments": {},
   "cell_type": "markdown",
   "metadata": {},
   "source": [
    "sekarang kita akan memisahkan kolom menjadi x dan y. x berisi fitur dan y berisi target"
   ]
  },
  {
   "cell_type": "code",
   "execution_count": 164,
   "metadata": {},
   "outputs": [
    {
     "data": {
      "text/html": [
       "<div>\n",
       "<style scoped>\n",
       "    .dataframe tbody tr th:only-of-type {\n",
       "        vertical-align: middle;\n",
       "    }\n",
       "\n",
       "    .dataframe tbody tr th {\n",
       "        vertical-align: top;\n",
       "    }\n",
       "\n",
       "    .dataframe thead th {\n",
       "        text-align: right;\n",
       "    }\n",
       "</style>\n",
       "<table border=\"1\" class=\"dataframe\">\n",
       "  <thead>\n",
       "    <tr style=\"text-align: right;\">\n",
       "      <th></th>\n",
       "      <th>education</th>\n",
       "      <th>relationship</th>\n",
       "      <th>occupation</th>\n",
       "      <th>age</th>\n",
       "      <th>hours_per_week</th>\n",
       "    </tr>\n",
       "  </thead>\n",
       "  <tbody>\n",
       "    <tr>\n",
       "      <th>0</th>\n",
       "      <td>Mid School</td>\n",
       "      <td>Have Family</td>\n",
       "      <td>Service</td>\n",
       "      <td>39</td>\n",
       "      <td>34</td>\n",
       "    </tr>\n",
       "    <tr>\n",
       "      <th>1</th>\n",
       "      <td>Mid School</td>\n",
       "      <td>Have Family</td>\n",
       "      <td>Service</td>\n",
       "      <td>77</td>\n",
       "      <td>10</td>\n",
       "    </tr>\n",
       "    <tr>\n",
       "      <th>2</th>\n",
       "      <td>Mid School</td>\n",
       "      <td>Have Family</td>\n",
       "      <td>Service</td>\n",
       "      <td>38</td>\n",
       "      <td>24</td>\n",
       "    </tr>\n",
       "    <tr>\n",
       "      <th>3</th>\n",
       "      <td>Mid School</td>\n",
       "      <td>Have Family</td>\n",
       "      <td>Service</td>\n",
       "      <td>28</td>\n",
       "      <td>40</td>\n",
       "    </tr>\n",
       "    <tr>\n",
       "      <th>4</th>\n",
       "      <td>Mid School</td>\n",
       "      <td>Have Family</td>\n",
       "      <td>Machine-op-inspct</td>\n",
       "      <td>37</td>\n",
       "      <td>48</td>\n",
       "    </tr>\n",
       "    <tr>\n",
       "      <th>...</th>\n",
       "      <td>...</td>\n",
       "      <td>...</td>\n",
       "      <td>...</td>\n",
       "      <td>...</td>\n",
       "      <td>...</td>\n",
       "    </tr>\n",
       "    <tr>\n",
       "      <th>6750</th>\n",
       "      <td>Hi School</td>\n",
       "      <td>Have Family</td>\n",
       "      <td>Service</td>\n",
       "      <td>42</td>\n",
       "      <td>40</td>\n",
       "    </tr>\n",
       "    <tr>\n",
       "      <th>6751</th>\n",
       "      <td>Hi School</td>\n",
       "      <td>Have Family</td>\n",
       "      <td>Service</td>\n",
       "      <td>33</td>\n",
       "      <td>40</td>\n",
       "    </tr>\n",
       "    <tr>\n",
       "      <th>6752</th>\n",
       "      <td>Hi School</td>\n",
       "      <td>Have Family</td>\n",
       "      <td>Service</td>\n",
       "      <td>36</td>\n",
       "      <td>40</td>\n",
       "    </tr>\n",
       "    <tr>\n",
       "      <th>6753</th>\n",
       "      <td>Hi School</td>\n",
       "      <td>Have Family</td>\n",
       "      <td>Service</td>\n",
       "      <td>48</td>\n",
       "      <td>40</td>\n",
       "    </tr>\n",
       "    <tr>\n",
       "      <th>6754</th>\n",
       "      <td>Hi School</td>\n",
       "      <td>Have Family</td>\n",
       "      <td>Service</td>\n",
       "      <td>51</td>\n",
       "      <td>40</td>\n",
       "    </tr>\n",
       "  </tbody>\n",
       "</table>\n",
       "<p>6755 rows × 5 columns</p>\n",
       "</div>"
      ],
      "text/plain": [
       "       education relationship         occupation  age  hours_per_week\n",
       "0     Mid School  Have Family            Service   39              34\n",
       "1     Mid School  Have Family            Service   77              10\n",
       "2     Mid School  Have Family            Service   38              24\n",
       "3     Mid School  Have Family            Service   28              40\n",
       "4     Mid School  Have Family  Machine-op-inspct   37              48\n",
       "...          ...          ...                ...  ...             ...\n",
       "6750   Hi School  Have Family            Service   42              40\n",
       "6751   Hi School  Have Family            Service   33              40\n",
       "6752   Hi School  Have Family            Service   36              40\n",
       "6753   Hi School  Have Family            Service   48              40\n",
       "6754   Hi School  Have Family            Service   51              40\n",
       "\n",
       "[6755 rows x 5 columns]"
      ]
     },
     "execution_count": 164,
     "metadata": {},
     "output_type": "execute_result"
    }
   ],
   "source": [
    "# memilih fitur\n",
    "x = data_clean.drop('income_bracket', axis = 1)\n",
    "y = data_clean['income_bracket']\n",
    "x"
   ]
  },
  {
   "attachments": {},
   "cell_type": "markdown",
   "metadata": {},
   "source": [
    "sekarang kita akan membuat train test split pada data"
   ]
  },
  {
   "cell_type": "code",
   "execution_count": 165,
   "metadata": {},
   "outputs": [
    {
     "name": "stdout",
     "output_type": "stream",
     "text": [
      "dimensi x_train: (6079, 5)\n",
      "dimensi x_test: (676, 5)\n",
      "dimensi y_train: (6079,)\n",
      "dimensi y_train: (676,)\n"
     ]
    }
   ],
   "source": [
    "# train test split\n",
    "x_train,x_test, y_train,y_test= train_test_split(x,y, test_size=0.1, random_state=2)\n",
    "print(f'dimensi x_train: {x_train.shape}')\n",
    "print(f'dimensi x_test: {x_test.shape}')\n",
    "print(f'dimensi y_train: {y_train.shape}')\n",
    "print(f'dimensi y_train: {y_test.shape}')"
   ]
  },
  {
   "cell_type": "code",
   "execution_count": 166,
   "metadata": {},
   "outputs": [
    {
     "name": "stdout",
     "output_type": "stream",
     "text": [
      "Number of numerical columns: 2\n",
      "Numerical columns: ['age', 'hours_per_week']\n",
      "Number of categorical columns: 1\n",
      "Categorical columns: ['occupation']\n",
      "Number of Ordinal columns: 2\n",
      "Ordinal columns: ['education', 'relationship']\n"
     ]
    }
   ],
   "source": [
    "# memilih kolom numerik, objek dan kategorikal \n",
    "num_col = x_train.select_dtypes(include=['float64', 'int64']).columns.tolist()\n",
    "cat_col = x_train.select_dtypes(include=['object']).columns.tolist()\n",
    "ord_col = x_train.select_dtypes(include=['category']).columns.tolist()\n",
    "\n",
    "print(f'Number of numerical columns: {len(num_col)}')\n",
    "print(f'Numerical columns: {num_col}')\n",
    "print(f'Number of categorical columns: {len(cat_col)}')\n",
    "print(f'Categorical columns: {cat_col}')\n",
    "print(f'Number of Ordinal columns: {len(ord_col)}')\n",
    "print(f'Ordinal columns: {ord_col}')\n",
    "\n",
    "x_train_num = x_train[num_col]\n",
    "x_train_cat = x_train[cat_col]\n",
    "x_train_ord = x_train[ord_col]\n",
    "\n",
    "x_test_num = x_test[num_col]\n",
    "x_test_cat = x_test[cat_col]\n",
    "x_test_ord = x_test[ord_col]"
   ]
  },
  {
   "attachments": {},
   "cell_type": "markdown",
   "metadata": {},
   "source": [
    "### Handling Outlier"
   ]
  },
  {
   "attachments": {},
   "cell_type": "markdown",
   "metadata": {},
   "source": [
    "setelah kita melakukan train test split, kita akan melakukan handling outlier pada kolom numerik"
   ]
  },
  {
   "cell_type": "code",
   "execution_count": 167,
   "metadata": {},
   "outputs": [
    {
     "data": {
      "text/plain": [
       "0.28216940908335536"
      ]
     },
     "execution_count": 167,
     "metadata": {},
     "output_type": "execute_result"
    }
   ],
   "source": [
    "x_train.age.skew()"
   ]
  },
  {
   "cell_type": "code",
   "execution_count": 168,
   "metadata": {},
   "outputs": [
    {
     "data": {
      "text/plain": [
       "0.45195603175599797"
      ]
     },
     "execution_count": 168,
     "metadata": {},
     "output_type": "execute_result"
    }
   ],
   "source": [
    "x_train.hours_per_week.skew()"
   ]
  },
  {
   "cell_type": "code",
   "execution_count": 169,
   "metadata": {},
   "outputs": [
    {
     "data": {
      "image/png": "[encoded data removed]",
      "text/plain": [
       "<Figure size 1500x500 with 2 Axes>"
      ]
     },
     "metadata": {},
     "output_type": "display_data"
    },
    {
     "data": {
      "image/png": "[encoded data removed]",
      "text/plain": [
       "<Figure size 1500x500 with 2 Axes>"
      ]
     },
     "metadata": {},
     "output_type": "display_data"
    }
   ],
   "source": [
    "plt.figure(figsize=(15,5))\n",
    "plt.subplot(1,2,1)\n",
    "sns.histplot(x_train['hours_per_week'],kde=True,bins =30)\n",
    "plt.title('Histogram hours_per_week')\n",
    "\n",
    "plt.subplot(1,2,2)\n",
    "sns.boxplot(x_train['hours_per_week'])\n",
    "plt.title('Boxplot hours_per_week');\n",
    "\n",
    "plt.figure(figsize=(15,5))\n",
    "plt.subplot(2,2,3)\n",
    "sns.histplot(x_train['age'],kde=True,bins =30)\n",
    "plt.title('Histogram age')\n",
    "\n",
    "plt.subplot(2,2,4)\n",
    "sns.boxplot(x_train['age'])\n",
    "plt.title('Boxplot age');"
   ]
  },
  {
   "attachments": {},
   "cell_type": "markdown",
   "metadata": {},
   "source": [
    "karena pada hasil visualisasi diatas terdapat banyak sekali outlier. jadi kita akan melakukan censoring menggunakan winsorizer"
   ]
  },
  {
   "attachments": {},
   "cell_type": "markdown",
   "metadata": {},
   "source": [
    "karena nilai skew dapat dibilang cukup normal jadi kita menggunakan metode gaussian"
   ]
  },
  {
   "cell_type": "code",
   "execution_count": 170,
   "metadata": {},
   "outputs": [],
   "source": [
    "winsoriser = Winsorizer(capping_method='gaussian', \n",
    "                          tail='both', \n",
    "                          fold=3,\n",
    "                          variables=['hours_per_week'])\n",
    "\n",
    "x_train_num_win = winsoriser.fit_transform(x_train_num)\n",
    "x_test_num_win = winsoriser.transform(x_test_num)"
   ]
  },
  {
   "cell_type": "code",
   "execution_count": 171,
   "metadata": {},
   "outputs": [
    {
     "name": "stdout",
     "output_type": "stream",
     "text": [
      "x_train - Before Capping\n",
      "               age  hours_per_week\n",
      "count  6079.000000     6079.000000\n",
      "mean     40.846356       40.352196\n",
      "std      14.497328       12.940335\n",
      "min      17.000000        1.000000\n",
      "25%      30.000000       40.000000\n",
      "50%      40.000000       40.000000\n",
      "75%      52.000000       45.000000\n",
      "max      90.000000       99.000000\n",
      "x_train - After Capping\n",
      "               age  hours_per_week\n",
      "count  6079.000000     6079.000000\n",
      "mean     40.846356       40.212925\n",
      "std      14.497328       12.426961\n",
      "min      17.000000        1.534383\n",
      "25%      30.000000       40.000000\n",
      "50%      40.000000       40.000000\n",
      "75%      52.000000       45.000000\n",
      "max      90.000000       79.170009\n",
      "x_test - Before Capping\n",
      "              age  hours_per_week\n",
      "count  676.000000      676.000000\n",
      "mean    40.326923       40.267751\n",
      "std     14.589634       13.423061\n",
      "min     17.000000        4.000000\n",
      "25%     29.000000       40.000000\n",
      "50%     39.000000       40.000000\n",
      "75%     51.000000       45.000000\n",
      "max     82.000000       98.000000\n",
      "X_test - After Capping\n",
      "              age  hours_per_week\n",
      "count  676.000000      676.000000\n",
      "mean    40.326923       40.146006\n",
      "std     14.589634       12.997178\n",
      "min     17.000000        4.000000\n",
      "25%     29.000000       40.000000\n",
      "50%     39.000000       40.000000\n",
      "75%     51.000000       45.000000\n",
      "max     82.000000       79.170009\n"
     ]
    }
   ],
   "source": [
    "print('x_train - Before Capping')\n",
    "print(x_train_num.describe())\n",
    "print('x_train - After Capping')\n",
    "print(x_train_num_win.describe())\n",
    "print('x_test - Before Capping')\n",
    "print(x_test_num.describe())\n",
    "print('X_test - After Capping')\n",
    "print(x_test_num_win.describe())"
   ]
  },
  {
   "attachments": {},
   "cell_type": "markdown",
   "metadata": {},
   "source": [
    "terjadi sedikit perubahan pada statistik deskriptif sebelum dan sesudah censoring"
   ]
  },
  {
   "attachments": {},
   "cell_type": "markdown",
   "metadata": {},
   "source": [
    "mari kita lanjut ke langkah selanjutnya"
   ]
  },
  {
   "cell_type": "code",
   "execution_count": 172,
   "metadata": {},
   "outputs": [],
   "source": [
    "# y_train = y_train[y_train.index.isin(x_train.index)]"
   ]
  },
  {
   "attachments": {},
   "cell_type": "markdown",
   "metadata": {},
   "source": [
    "### Features Scaling"
   ]
  },
  {
   "attachments": {},
   "cell_type": "markdown",
   "metadata": {},
   "source": [
    "pada langkah ini kita akan melakukan scaling pada kolom numerik yang telah kita handling outlier"
   ]
  },
  {
   "cell_type": "code",
   "execution_count": 173,
   "metadata": {},
   "outputs": [
    {
     "data": {
      "text/html": [
       "<div>\n",
       "<style scoped>\n",
       "    .dataframe tbody tr th:only-of-type {\n",
       "        vertical-align: middle;\n",
       "    }\n",
       "\n",
       "    .dataframe tbody tr th {\n",
       "        vertical-align: top;\n",
       "    }\n",
       "\n",
       "    .dataframe thead th {\n",
       "        text-align: right;\n",
       "    }\n",
       "</style>\n",
       "<table border=\"1\" class=\"dataframe\">\n",
       "  <thead>\n",
       "    <tr style=\"text-align: right;\">\n",
       "      <th></th>\n",
       "      <th>age</th>\n",
       "      <th>hours_per_week</th>\n",
       "    </tr>\n",
       "  </thead>\n",
       "  <tbody>\n",
       "    <tr>\n",
       "      <th>4061</th>\n",
       "      <td>21</td>\n",
       "      <td>40</td>\n",
       "    </tr>\n",
       "    <tr>\n",
       "      <th>4162</th>\n",
       "      <td>45</td>\n",
       "      <td>40</td>\n",
       "    </tr>\n",
       "    <tr>\n",
       "      <th>4597</th>\n",
       "      <td>24</td>\n",
       "      <td>45</td>\n",
       "    </tr>\n",
       "    <tr>\n",
       "      <th>2012</th>\n",
       "      <td>35</td>\n",
       "      <td>90</td>\n",
       "    </tr>\n",
       "    <tr>\n",
       "      <th>4402</th>\n",
       "      <td>31</td>\n",
       "      <td>40</td>\n",
       "    </tr>\n",
       "    <tr>\n",
       "      <th>...</th>\n",
       "      <td>...</td>\n",
       "      <td>...</td>\n",
       "    </tr>\n",
       "    <tr>\n",
       "      <th>6443</th>\n",
       "      <td>45</td>\n",
       "      <td>48</td>\n",
       "    </tr>\n",
       "    <tr>\n",
       "      <th>3606</th>\n",
       "      <td>60</td>\n",
       "      <td>40</td>\n",
       "    </tr>\n",
       "    <tr>\n",
       "      <th>5704</th>\n",
       "      <td>43</td>\n",
       "      <td>48</td>\n",
       "    </tr>\n",
       "    <tr>\n",
       "      <th>6637</th>\n",
       "      <td>37</td>\n",
       "      <td>72</td>\n",
       "    </tr>\n",
       "    <tr>\n",
       "      <th>2575</th>\n",
       "      <td>54</td>\n",
       "      <td>50</td>\n",
       "    </tr>\n",
       "  </tbody>\n",
       "</table>\n",
       "<p>6079 rows × 2 columns</p>\n",
       "</div>"
      ],
      "text/plain": [
       "      age  hours_per_week\n",
       "4061   21              40\n",
       "4162   45              40\n",
       "4597   24              45\n",
       "2012   35              90\n",
       "4402   31              40\n",
       "...   ...             ...\n",
       "6443   45              48\n",
       "3606   60              40\n",
       "5704   43              48\n",
       "6637   37              72\n",
       "2575   54              50\n",
       "\n",
       "[6079 rows x 2 columns]"
      ]
     },
     "execution_count": 173,
     "metadata": {},
     "output_type": "execute_result"
    }
   ],
   "source": [
    "x_train_num"
   ]
  },
  {
   "attachments": {},
   "cell_type": "markdown",
   "metadata": {},
   "source": [
    "metode scaling yang akan kita pakai adalah metode standard scaler karena outlier yang ada telah kita lakukan Censoring"
   ]
  },
  {
   "cell_type": "code",
   "execution_count": 174,
   "metadata": {},
   "outputs": [],
   "source": [
    "scaler = StandardScaler()\n",
    "\n",
    "x_train_num = scaler.fit_transform(x_train_num_win)\n",
    "x_test_num_ = scaler.transform(x_test_num_win)"
   ]
  },
  {
   "cell_type": "code",
   "execution_count": 175,
   "metadata": {},
   "outputs": [],
   "source": [
    "x_train_num_sc = pd.DataFrame(x_train_num, columns=num_col)\n",
    "x_test_num_sc = pd.DataFrame(x_test_num, columns=num_col)"
   ]
  },
  {
   "attachments": {},
   "cell_type": "markdown",
   "metadata": {},
   "source": [
    "### Features Encoding"
   ]
  },
  {
   "attachments": {},
   "cell_type": "markdown",
   "metadata": {},
   "source": [
    "setelah tadi kita lakukan scaling pada kolom numerik. selanjutnya kita akan melakukan encoding pada kolom kategorikal"
   ]
  },
  {
   "attachments": {},
   "cell_type": "markdown",
   "metadata": {},
   "source": [
    "kita akan memakai 2 metode pada encoding yaitu ordinal encoder dan one hot encoder. pada one hot encoder kita gunakan pada kolom occupation. pada ordinal encoder kita gunakan pada kolom relationship dan education"
   ]
  },
  {
   "cell_type": "code",
   "execution_count": 176,
   "metadata": {},
   "outputs": [],
   "source": [
    "ohe = OneHotEncoder(sparse=False)\n",
    "ord = OrdinalEncoder()"
   ]
  },
  {
   "cell_type": "code",
   "execution_count": 177,
   "metadata": {},
   "outputs": [],
   "source": [
    "# Cat_col\n",
    "x_train_cat_ohe = ohe.fit_transform(x_train_cat)\n",
    "x_test_cat_ohe = ohe.transform(x_test_cat)\n",
    "\n",
    "# Ord_col\n",
    "x_train_cat_ord = ord.fit_transform(x_train_ord)\n",
    "x_test_cat_ord = ord.transform(x_test_ord)"
   ]
  },
  {
   "attachments": {},
   "cell_type": "markdown",
   "metadata": {},
   "source": [
    "setelah kita melakukan encoding, saatnya kita memasukkan hasil encoding pada datafrane"
   ]
  },
  {
   "cell_type": "code",
   "execution_count": 178,
   "metadata": {},
   "outputs": [
    {
     "data": {
      "text/html": [
       "<div>\n",
       "<style scoped>\n",
       "    .dataframe tbody tr th:only-of-type {\n",
       "        vertical-align: middle;\n",
       "    }\n",
       "\n",
       "    .dataframe tbody tr th {\n",
       "        vertical-align: top;\n",
       "    }\n",
       "\n",
       "    .dataframe thead th {\n",
       "        text-align: right;\n",
       "    }\n",
       "</style>\n",
       "<table border=\"1\" class=\"dataframe\">\n",
       "  <thead>\n",
       "    <tr style=\"text-align: right;\">\n",
       "      <th></th>\n",
       "      <th>occupation_Adm-clerical</th>\n",
       "      <th>occupation_Armed-Forces</th>\n",
       "      <th>occupation_Exec-managerial</th>\n",
       "      <th>occupation_Farming-fishing</th>\n",
       "      <th>occupation_Machine-op-inspct</th>\n",
       "      <th>occupation_Prof-specialty</th>\n",
       "      <th>occupation_Sales</th>\n",
       "      <th>occupation_Service</th>\n",
       "      <th>occupation_Tech-support</th>\n",
       "      <th>occupation_Transport-moving</th>\n",
       "    </tr>\n",
       "  </thead>\n",
       "  <tbody>\n",
       "    <tr>\n",
       "      <th>0</th>\n",
       "      <td>1.0</td>\n",
       "      <td>0.0</td>\n",
       "      <td>0.0</td>\n",
       "      <td>0.0</td>\n",
       "      <td>0.0</td>\n",
       "      <td>0.0</td>\n",
       "      <td>0.0</td>\n",
       "      <td>0.0</td>\n",
       "      <td>0.0</td>\n",
       "      <td>0.0</td>\n",
       "    </tr>\n",
       "    <tr>\n",
       "      <th>1</th>\n",
       "      <td>0.0</td>\n",
       "      <td>0.0</td>\n",
       "      <td>0.0</td>\n",
       "      <td>0.0</td>\n",
       "      <td>0.0</td>\n",
       "      <td>0.0</td>\n",
       "      <td>0.0</td>\n",
       "      <td>1.0</td>\n",
       "      <td>0.0</td>\n",
       "      <td>0.0</td>\n",
       "    </tr>\n",
       "    <tr>\n",
       "      <th>2</th>\n",
       "      <td>0.0</td>\n",
       "      <td>0.0</td>\n",
       "      <td>0.0</td>\n",
       "      <td>0.0</td>\n",
       "      <td>1.0</td>\n",
       "      <td>0.0</td>\n",
       "      <td>0.0</td>\n",
       "      <td>0.0</td>\n",
       "      <td>0.0</td>\n",
       "      <td>0.0</td>\n",
       "    </tr>\n",
       "    <tr>\n",
       "      <th>3</th>\n",
       "      <td>0.0</td>\n",
       "      <td>0.0</td>\n",
       "      <td>0.0</td>\n",
       "      <td>0.0</td>\n",
       "      <td>0.0</td>\n",
       "      <td>0.0</td>\n",
       "      <td>0.0</td>\n",
       "      <td>1.0</td>\n",
       "      <td>0.0</td>\n",
       "      <td>0.0</td>\n",
       "    </tr>\n",
       "    <tr>\n",
       "      <th>4</th>\n",
       "      <td>0.0</td>\n",
       "      <td>0.0</td>\n",
       "      <td>0.0</td>\n",
       "      <td>0.0</td>\n",
       "      <td>0.0</td>\n",
       "      <td>0.0</td>\n",
       "      <td>0.0</td>\n",
       "      <td>1.0</td>\n",
       "      <td>0.0</td>\n",
       "      <td>0.0</td>\n",
       "    </tr>\n",
       "    <tr>\n",
       "      <th>...</th>\n",
       "      <td>...</td>\n",
       "      <td>...</td>\n",
       "      <td>...</td>\n",
       "      <td>...</td>\n",
       "      <td>...</td>\n",
       "      <td>...</td>\n",
       "      <td>...</td>\n",
       "      <td>...</td>\n",
       "      <td>...</td>\n",
       "      <td>...</td>\n",
       "    </tr>\n",
       "    <tr>\n",
       "      <th>671</th>\n",
       "      <td>0.0</td>\n",
       "      <td>0.0</td>\n",
       "      <td>0.0</td>\n",
       "      <td>0.0</td>\n",
       "      <td>0.0</td>\n",
       "      <td>0.0</td>\n",
       "      <td>1.0</td>\n",
       "      <td>0.0</td>\n",
       "      <td>0.0</td>\n",
       "      <td>0.0</td>\n",
       "    </tr>\n",
       "    <tr>\n",
       "      <th>672</th>\n",
       "      <td>0.0</td>\n",
       "      <td>0.0</td>\n",
       "      <td>0.0</td>\n",
       "      <td>0.0</td>\n",
       "      <td>0.0</td>\n",
       "      <td>1.0</td>\n",
       "      <td>0.0</td>\n",
       "      <td>0.0</td>\n",
       "      <td>0.0</td>\n",
       "      <td>0.0</td>\n",
       "    </tr>\n",
       "    <tr>\n",
       "      <th>673</th>\n",
       "      <td>0.0</td>\n",
       "      <td>0.0</td>\n",
       "      <td>1.0</td>\n",
       "      <td>0.0</td>\n",
       "      <td>0.0</td>\n",
       "      <td>0.0</td>\n",
       "      <td>0.0</td>\n",
       "      <td>0.0</td>\n",
       "      <td>0.0</td>\n",
       "      <td>0.0</td>\n",
       "    </tr>\n",
       "    <tr>\n",
       "      <th>674</th>\n",
       "      <td>0.0</td>\n",
       "      <td>0.0</td>\n",
       "      <td>0.0</td>\n",
       "      <td>0.0</td>\n",
       "      <td>0.0</td>\n",
       "      <td>0.0</td>\n",
       "      <td>0.0</td>\n",
       "      <td>1.0</td>\n",
       "      <td>0.0</td>\n",
       "      <td>0.0</td>\n",
       "    </tr>\n",
       "    <tr>\n",
       "      <th>675</th>\n",
       "      <td>0.0</td>\n",
       "      <td>0.0</td>\n",
       "      <td>0.0</td>\n",
       "      <td>0.0</td>\n",
       "      <td>0.0</td>\n",
       "      <td>0.0</td>\n",
       "      <td>0.0</td>\n",
       "      <td>1.0</td>\n",
       "      <td>0.0</td>\n",
       "      <td>0.0</td>\n",
       "    </tr>\n",
       "  </tbody>\n",
       "</table>\n",
       "<p>676 rows × 10 columns</p>\n",
       "</div>"
      ],
      "text/plain": [
       "     occupation_Adm-clerical  occupation_Armed-Forces  \\\n",
       "0                        1.0                      0.0   \n",
       "1                        0.0                      0.0   \n",
       "2                        0.0                      0.0   \n",
       "3                        0.0                      0.0   \n",
       "4                        0.0                      0.0   \n",
       "..                       ...                      ...   \n",
       "671                      0.0                      0.0   \n",
       "672                      0.0                      0.0   \n",
       "673                      0.0                      0.0   \n",
       "674                      0.0                      0.0   \n",
       "675                      0.0                      0.0   \n",
       "\n",
       "     occupation_Exec-managerial  occupation_Farming-fishing  \\\n",
       "0                           0.0                         0.0   \n",
       "1                           0.0                         0.0   \n",
       "2                           0.0                         0.0   \n",
       "3                           0.0                         0.0   \n",
       "4                           0.0                         0.0   \n",
       "..                          ...                         ...   \n",
       "671                         0.0                         0.0   \n",
       "672                         0.0                         0.0   \n",
       "673                         1.0                         0.0   \n",
       "674                         0.0                         0.0   \n",
       "675                         0.0                         0.0   \n",
       "\n",
       "     occupation_Machine-op-inspct  occupation_Prof-specialty  \\\n",
       "0                             0.0                        0.0   \n",
       "1                             0.0                        0.0   \n",
       "2                             1.0                        0.0   \n",
       "3                             0.0                        0.0   \n",
       "4                             0.0                        0.0   \n",
       "..                            ...                        ...   \n",
       "671                           0.0                        0.0   \n",
       "672                           0.0                        1.0   \n",
       "673                           0.0                        0.0   \n",
       "674                           0.0                        0.0   \n",
       "675                           0.0                        0.0   \n",
       "\n",
       "     occupation_Sales  occupation_Service  occupation_Tech-support  \\\n",
       "0                 0.0                 0.0                      0.0   \n",
       "1                 0.0                 1.0                      0.0   \n",
       "2                 0.0                 0.0                      0.0   \n",
       "3                 0.0                 1.0                      0.0   \n",
       "4                 0.0                 1.0                      0.0   \n",
       "..                ...                 ...                      ...   \n",
       "671               1.0                 0.0                      0.0   \n",
       "672               0.0                 0.0                      0.0   \n",
       "673               0.0                 0.0                      0.0   \n",
       "674               0.0                 1.0                      0.0   \n",
       "675               0.0                 1.0                      0.0   \n",
       "\n",
       "     occupation_Transport-moving  \n",
       "0                            0.0  \n",
       "1                            0.0  \n",
       "2                            0.0  \n",
       "3                            0.0  \n",
       "4                            0.0  \n",
       "..                           ...  \n",
       "671                          0.0  \n",
       "672                          0.0  \n",
       "673                          0.0  \n",
       "674                          0.0  \n",
       "675                          0.0  \n",
       "\n",
       "[676 rows x 10 columns]"
      ]
     },
     "execution_count": 178,
     "metadata": {},
     "output_type": "execute_result"
    }
   ],
   "source": [
    "x_train_cat_df = pd.DataFrame(x_train_cat_ohe, columns=ohe.get_feature_names(cat_col))\n",
    "x_test_cat_df = pd.DataFrame(x_test_cat_ohe, columns=ohe.get_feature_names(cat_col))\n",
    "x_train_cat_df1 = pd.DataFrame(x_train_cat_ord, columns=ord_col)\n",
    "x_test_cat_df1 = pd.DataFrame(x_test_cat_ord, columns=ord_col)\n",
    "\n",
    "x_test_cat_df"
   ]
  },
  {
   "attachments": {},
   "cell_type": "markdown",
   "metadata": {},
   "source": [
    "### Concat between Numeric Columns and Categorical Columns"
   ]
  },
  {
   "attachments": {},
   "cell_type": "markdown",
   "metadata": {},
   "source": [
    "setelah itu kita akan menggabungkan hasil encoding dan scaling yang telah kita lakukan"
   ]
  },
  {
   "cell_type": "code",
   "execution_count": 179,
   "metadata": {},
   "outputs": [
    {
     "data": {
      "text/html": [
       "<div>\n",
       "<style scoped>\n",
       "    .dataframe tbody tr th:only-of-type {\n",
       "        vertical-align: middle;\n",
       "    }\n",
       "\n",
       "    .dataframe tbody tr th {\n",
       "        vertical-align: top;\n",
       "    }\n",
       "\n",
       "    .dataframe thead th {\n",
       "        text-align: right;\n",
       "    }\n",
       "</style>\n",
       "<table border=\"1\" class=\"dataframe\">\n",
       "  <thead>\n",
       "    <tr style=\"text-align: right;\">\n",
       "      <th></th>\n",
       "      <th>age</th>\n",
       "      <th>hours_per_week</th>\n",
       "      <th>occupation_Adm-clerical</th>\n",
       "      <th>occupation_Armed-Forces</th>\n",
       "      <th>occupation_Exec-managerial</th>\n",
       "      <th>occupation_Farming-fishing</th>\n",
       "      <th>occupation_Machine-op-inspct</th>\n",
       "      <th>occupation_Prof-specialty</th>\n",
       "      <th>occupation_Sales</th>\n",
       "      <th>occupation_Service</th>\n",
       "      <th>occupation_Tech-support</th>\n",
       "      <th>occupation_Transport-moving</th>\n",
       "      <th>education</th>\n",
       "      <th>relationship</th>\n",
       "    </tr>\n",
       "  </thead>\n",
       "  <tbody>\n",
       "    <tr>\n",
       "      <th>0</th>\n",
       "      <td>-1.369079</td>\n",
       "      <td>-0.017136</td>\n",
       "      <td>0.0</td>\n",
       "      <td>0.0</td>\n",
       "      <td>0.0</td>\n",
       "      <td>0.0</td>\n",
       "      <td>1.0</td>\n",
       "      <td>0.0</td>\n",
       "      <td>0.0</td>\n",
       "      <td>0.0</td>\n",
       "      <td>0.0</td>\n",
       "      <td>0.0</td>\n",
       "      <td>0.0</td>\n",
       "      <td>0.0</td>\n",
       "    </tr>\n",
       "    <tr>\n",
       "      <th>1</th>\n",
       "      <td>0.286535</td>\n",
       "      <td>-0.017136</td>\n",
       "      <td>0.0</td>\n",
       "      <td>0.0</td>\n",
       "      <td>0.0</td>\n",
       "      <td>0.0</td>\n",
       "      <td>0.0</td>\n",
       "      <td>0.0</td>\n",
       "      <td>0.0</td>\n",
       "      <td>0.0</td>\n",
       "      <td>0.0</td>\n",
       "      <td>1.0</td>\n",
       "      <td>0.0</td>\n",
       "      <td>0.0</td>\n",
       "    </tr>\n",
       "    <tr>\n",
       "      <th>2</th>\n",
       "      <td>-1.162127</td>\n",
       "      <td>0.385249</td>\n",
       "      <td>0.0</td>\n",
       "      <td>0.0</td>\n",
       "      <td>0.0</td>\n",
       "      <td>0.0</td>\n",
       "      <td>0.0</td>\n",
       "      <td>0.0</td>\n",
       "      <td>0.0</td>\n",
       "      <td>1.0</td>\n",
       "      <td>0.0</td>\n",
       "      <td>0.0</td>\n",
       "      <td>0.0</td>\n",
       "      <td>0.0</td>\n",
       "    </tr>\n",
       "    <tr>\n",
       "      <th>3</th>\n",
       "      <td>-0.403304</td>\n",
       "      <td>3.135142</td>\n",
       "      <td>0.0</td>\n",
       "      <td>0.0</td>\n",
       "      <td>0.0</td>\n",
       "      <td>0.0</td>\n",
       "      <td>0.0</td>\n",
       "      <td>0.0</td>\n",
       "      <td>0.0</td>\n",
       "      <td>0.0</td>\n",
       "      <td>0.0</td>\n",
       "      <td>1.0</td>\n",
       "      <td>2.0</td>\n",
       "      <td>1.0</td>\n",
       "    </tr>\n",
       "    <tr>\n",
       "      <th>4</th>\n",
       "      <td>-0.679240</td>\n",
       "      <td>-0.017136</td>\n",
       "      <td>0.0</td>\n",
       "      <td>0.0</td>\n",
       "      <td>0.0</td>\n",
       "      <td>0.0</td>\n",
       "      <td>0.0</td>\n",
       "      <td>1.0</td>\n",
       "      <td>0.0</td>\n",
       "      <td>0.0</td>\n",
       "      <td>0.0</td>\n",
       "      <td>0.0</td>\n",
       "      <td>0.0</td>\n",
       "      <td>0.0</td>\n",
       "    </tr>\n",
       "    <tr>\n",
       "      <th>...</th>\n",
       "      <td>...</td>\n",
       "      <td>...</td>\n",
       "      <td>...</td>\n",
       "      <td>...</td>\n",
       "      <td>...</td>\n",
       "      <td>...</td>\n",
       "      <td>...</td>\n",
       "      <td>...</td>\n",
       "      <td>...</td>\n",
       "      <td>...</td>\n",
       "      <td>...</td>\n",
       "      <td>...</td>\n",
       "      <td>...</td>\n",
       "      <td>...</td>\n",
       "    </tr>\n",
       "    <tr>\n",
       "      <th>6074</th>\n",
       "      <td>0.286535</td>\n",
       "      <td>0.626679</td>\n",
       "      <td>0.0</td>\n",
       "      <td>0.0</td>\n",
       "      <td>0.0</td>\n",
       "      <td>0.0</td>\n",
       "      <td>0.0</td>\n",
       "      <td>0.0</td>\n",
       "      <td>0.0</td>\n",
       "      <td>1.0</td>\n",
       "      <td>0.0</td>\n",
       "      <td>0.0</td>\n",
       "      <td>0.0</td>\n",
       "      <td>0.0</td>\n",
       "    </tr>\n",
       "    <tr>\n",
       "      <th>6075</th>\n",
       "      <td>1.321293</td>\n",
       "      <td>-0.017136</td>\n",
       "      <td>0.0</td>\n",
       "      <td>0.0</td>\n",
       "      <td>0.0</td>\n",
       "      <td>0.0</td>\n",
       "      <td>0.0</td>\n",
       "      <td>0.0</td>\n",
       "      <td>0.0</td>\n",
       "      <td>0.0</td>\n",
       "      <td>1.0</td>\n",
       "      <td>0.0</td>\n",
       "      <td>0.0</td>\n",
       "      <td>0.0</td>\n",
       "    </tr>\n",
       "    <tr>\n",
       "      <th>6076</th>\n",
       "      <td>0.148567</td>\n",
       "      <td>0.626679</td>\n",
       "      <td>0.0</td>\n",
       "      <td>0.0</td>\n",
       "      <td>0.0</td>\n",
       "      <td>0.0</td>\n",
       "      <td>1.0</td>\n",
       "      <td>0.0</td>\n",
       "      <td>0.0</td>\n",
       "      <td>0.0</td>\n",
       "      <td>0.0</td>\n",
       "      <td>0.0</td>\n",
       "      <td>0.0</td>\n",
       "      <td>0.0</td>\n",
       "    </tr>\n",
       "    <tr>\n",
       "      <th>6077</th>\n",
       "      <td>-0.265337</td>\n",
       "      <td>2.558123</td>\n",
       "      <td>0.0</td>\n",
       "      <td>0.0</td>\n",
       "      <td>0.0</td>\n",
       "      <td>1.0</td>\n",
       "      <td>0.0</td>\n",
       "      <td>0.0</td>\n",
       "      <td>0.0</td>\n",
       "      <td>0.0</td>\n",
       "      <td>0.0</td>\n",
       "      <td>0.0</td>\n",
       "      <td>0.0</td>\n",
       "      <td>0.0</td>\n",
       "    </tr>\n",
       "    <tr>\n",
       "      <th>6078</th>\n",
       "      <td>0.907390</td>\n",
       "      <td>0.787633</td>\n",
       "      <td>0.0</td>\n",
       "      <td>0.0</td>\n",
       "      <td>0.0</td>\n",
       "      <td>0.0</td>\n",
       "      <td>0.0</td>\n",
       "      <td>0.0</td>\n",
       "      <td>0.0</td>\n",
       "      <td>0.0</td>\n",
       "      <td>0.0</td>\n",
       "      <td>1.0</td>\n",
       "      <td>1.0</td>\n",
       "      <td>0.0</td>\n",
       "    </tr>\n",
       "  </tbody>\n",
       "</table>\n",
       "<p>6079 rows × 14 columns</p>\n",
       "</div>"
      ],
      "text/plain": [
       "           age  hours_per_week  occupation_Adm-clerical  \\\n",
       "0    -1.369079       -0.017136                      0.0   \n",
       "1     0.286535       -0.017136                      0.0   \n",
       "2    -1.162127        0.385249                      0.0   \n",
       "3    -0.403304        3.135142                      0.0   \n",
       "4    -0.679240       -0.017136                      0.0   \n",
       "...        ...             ...                      ...   \n",
       "6074  0.286535        0.626679                      0.0   \n",
       "6075  1.321293       -0.017136                      0.0   \n",
       "6076  0.148567        0.626679                      0.0   \n",
       "6077 -0.265337        2.558123                      0.0   \n",
       "6078  0.907390        0.787633                      0.0   \n",
       "\n",
       "      occupation_Armed-Forces  occupation_Exec-managerial  \\\n",
       "0                         0.0                         0.0   \n",
       "1                         0.0                         0.0   \n",
       "2                         0.0                         0.0   \n",
       "3                         0.0                         0.0   \n",
       "4                         0.0                         0.0   \n",
       "...                       ...                         ...   \n",
       "6074                      0.0                         0.0   \n",
       "6075                      0.0                         0.0   \n",
       "6076                      0.0                         0.0   \n",
       "6077                      0.0                         0.0   \n",
       "6078                      0.0                         0.0   \n",
       "\n",
       "      occupation_Farming-fishing  occupation_Machine-op-inspct  \\\n",
       "0                            0.0                           1.0   \n",
       "1                            0.0                           0.0   \n",
       "2                            0.0                           0.0   \n",
       "3                            0.0                           0.0   \n",
       "4                            0.0                           0.0   \n",
       "...                          ...                           ...   \n",
       "6074                         0.0                           0.0   \n",
       "6075                         0.0                           0.0   \n",
       "6076                         0.0                           1.0   \n",
       "6077                         1.0                           0.0   \n",
       "6078                         0.0                           0.0   \n",
       "\n",
       "      occupation_Prof-specialty  occupation_Sales  occupation_Service  \\\n",
       "0                           0.0               0.0                 0.0   \n",
       "1                           0.0               0.0                 0.0   \n",
       "2                           0.0               0.0                 1.0   \n",
       "3                           0.0               0.0                 0.0   \n",
       "4                           1.0               0.0                 0.0   \n",
       "...                         ...               ...                 ...   \n",
       "6074                        0.0               0.0                 1.0   \n",
       "6075                        0.0               0.0                 0.0   \n",
       "6076                        0.0               0.0                 0.0   \n",
       "6077                        0.0               0.0                 0.0   \n",
       "6078                        0.0               0.0                 0.0   \n",
       "\n",
       "      occupation_Tech-support  occupation_Transport-moving  education  \\\n",
       "0                         0.0                          0.0        0.0   \n",
       "1                         0.0                          1.0        0.0   \n",
       "2                         0.0                          0.0        0.0   \n",
       "3                         0.0                          1.0        2.0   \n",
       "4                         0.0                          0.0        0.0   \n",
       "...                       ...                          ...        ...   \n",
       "6074                      0.0                          0.0        0.0   \n",
       "6075                      1.0                          0.0        0.0   \n",
       "6076                      0.0                          0.0        0.0   \n",
       "6077                      0.0                          0.0        0.0   \n",
       "6078                      0.0                          1.0        1.0   \n",
       "\n",
       "      relationship  \n",
       "0              0.0  \n",
       "1              0.0  \n",
       "2              0.0  \n",
       "3              1.0  \n",
       "4              0.0  \n",
       "...            ...  \n",
       "6074           0.0  \n",
       "6075           0.0  \n",
       "6076           0.0  \n",
       "6077           0.0  \n",
       "6078           0.0  \n",
       "\n",
       "[6079 rows x 14 columns]"
      ]
     },
     "execution_count": 179,
     "metadata": {},
     "output_type": "execute_result"
    }
   ],
   "source": [
    "x_train_final = pd.concat([x_train_num_sc, x_train_cat_df,x_train_cat_df1], axis=1)\n",
    "x_test_final = pd.concat([x_test_num_sc.reset_index(drop=True), x_test_cat_df,x_test_cat_df1], axis=1)\n",
    "x_train_final"
   ]
  },
  {
   "cell_type": "code",
   "execution_count": 180,
   "metadata": {},
   "outputs": [
    {
     "data": {
      "text/html": [
       "<div>\n",
       "<style scoped>\n",
       "    .dataframe tbody tr th:only-of-type {\n",
       "        vertical-align: middle;\n",
       "    }\n",
       "\n",
       "    .dataframe tbody tr th {\n",
       "        vertical-align: top;\n",
       "    }\n",
       "\n",
       "    .dataframe thead th {\n",
       "        text-align: right;\n",
       "    }\n",
       "</style>\n",
       "<table border=\"1\" class=\"dataframe\">\n",
       "  <thead>\n",
       "    <tr style=\"text-align: right;\">\n",
       "      <th></th>\n",
       "      <th>age</th>\n",
       "      <th>hours_per_week</th>\n",
       "      <th>occupation_Adm-clerical</th>\n",
       "      <th>occupation_Armed-Forces</th>\n",
       "      <th>occupation_Exec-managerial</th>\n",
       "      <th>occupation_Farming-fishing</th>\n",
       "      <th>occupation_Machine-op-inspct</th>\n",
       "      <th>occupation_Prof-specialty</th>\n",
       "      <th>occupation_Sales</th>\n",
       "      <th>occupation_Service</th>\n",
       "      <th>occupation_Tech-support</th>\n",
       "      <th>occupation_Transport-moving</th>\n",
       "      <th>education</th>\n",
       "      <th>relationship</th>\n",
       "    </tr>\n",
       "  </thead>\n",
       "  <tbody>\n",
       "    <tr>\n",
       "      <th>0</th>\n",
       "      <td>60</td>\n",
       "      <td>35</td>\n",
       "      <td>1.0</td>\n",
       "      <td>0.0</td>\n",
       "      <td>0.0</td>\n",
       "      <td>0.0</td>\n",
       "      <td>0.0</td>\n",
       "      <td>0.0</td>\n",
       "      <td>0.0</td>\n",
       "      <td>0.0</td>\n",
       "      <td>0.0</td>\n",
       "      <td>0.0</td>\n",
       "      <td>1.0</td>\n",
       "      <td>1.0</td>\n",
       "    </tr>\n",
       "    <tr>\n",
       "      <th>1</th>\n",
       "      <td>55</td>\n",
       "      <td>40</td>\n",
       "      <td>0.0</td>\n",
       "      <td>0.0</td>\n",
       "      <td>0.0</td>\n",
       "      <td>0.0</td>\n",
       "      <td>0.0</td>\n",
       "      <td>0.0</td>\n",
       "      <td>0.0</td>\n",
       "      <td>1.0</td>\n",
       "      <td>0.0</td>\n",
       "      <td>0.0</td>\n",
       "      <td>2.0</td>\n",
       "      <td>1.0</td>\n",
       "    </tr>\n",
       "    <tr>\n",
       "      <th>2</th>\n",
       "      <td>27</td>\n",
       "      <td>40</td>\n",
       "      <td>0.0</td>\n",
       "      <td>0.0</td>\n",
       "      <td>0.0</td>\n",
       "      <td>0.0</td>\n",
       "      <td>1.0</td>\n",
       "      <td>0.0</td>\n",
       "      <td>0.0</td>\n",
       "      <td>0.0</td>\n",
       "      <td>0.0</td>\n",
       "      <td>0.0</td>\n",
       "      <td>0.0</td>\n",
       "      <td>0.0</td>\n",
       "    </tr>\n",
       "    <tr>\n",
       "      <th>3</th>\n",
       "      <td>65</td>\n",
       "      <td>30</td>\n",
       "      <td>0.0</td>\n",
       "      <td>0.0</td>\n",
       "      <td>0.0</td>\n",
       "      <td>0.0</td>\n",
       "      <td>0.0</td>\n",
       "      <td>0.0</td>\n",
       "      <td>0.0</td>\n",
       "      <td>1.0</td>\n",
       "      <td>0.0</td>\n",
       "      <td>0.0</td>\n",
       "      <td>0.0</td>\n",
       "      <td>0.0</td>\n",
       "    </tr>\n",
       "    <tr>\n",
       "      <th>4</th>\n",
       "      <td>19</td>\n",
       "      <td>25</td>\n",
       "      <td>0.0</td>\n",
       "      <td>0.0</td>\n",
       "      <td>0.0</td>\n",
       "      <td>0.0</td>\n",
       "      <td>0.0</td>\n",
       "      <td>0.0</td>\n",
       "      <td>0.0</td>\n",
       "      <td>1.0</td>\n",
       "      <td>0.0</td>\n",
       "      <td>0.0</td>\n",
       "      <td>0.0</td>\n",
       "      <td>0.0</td>\n",
       "    </tr>\n",
       "    <tr>\n",
       "      <th>...</th>\n",
       "      <td>...</td>\n",
       "      <td>...</td>\n",
       "      <td>...</td>\n",
       "      <td>...</td>\n",
       "      <td>...</td>\n",
       "      <td>...</td>\n",
       "      <td>...</td>\n",
       "      <td>...</td>\n",
       "      <td>...</td>\n",
       "      <td>...</td>\n",
       "      <td>...</td>\n",
       "      <td>...</td>\n",
       "      <td>...</td>\n",
       "      <td>...</td>\n",
       "    </tr>\n",
       "    <tr>\n",
       "      <th>671</th>\n",
       "      <td>47</td>\n",
       "      <td>55</td>\n",
       "      <td>0.0</td>\n",
       "      <td>0.0</td>\n",
       "      <td>0.0</td>\n",
       "      <td>0.0</td>\n",
       "      <td>0.0</td>\n",
       "      <td>0.0</td>\n",
       "      <td>1.0</td>\n",
       "      <td>0.0</td>\n",
       "      <td>0.0</td>\n",
       "      <td>0.0</td>\n",
       "      <td>0.0</td>\n",
       "      <td>0.0</td>\n",
       "    </tr>\n",
       "    <tr>\n",
       "      <th>672</th>\n",
       "      <td>52</td>\n",
       "      <td>40</td>\n",
       "      <td>0.0</td>\n",
       "      <td>0.0</td>\n",
       "      <td>0.0</td>\n",
       "      <td>0.0</td>\n",
       "      <td>0.0</td>\n",
       "      <td>1.0</td>\n",
       "      <td>0.0</td>\n",
       "      <td>0.0</td>\n",
       "      <td>0.0</td>\n",
       "      <td>0.0</td>\n",
       "      <td>0.0</td>\n",
       "      <td>0.0</td>\n",
       "    </tr>\n",
       "    <tr>\n",
       "      <th>673</th>\n",
       "      <td>65</td>\n",
       "      <td>40</td>\n",
       "      <td>0.0</td>\n",
       "      <td>0.0</td>\n",
       "      <td>1.0</td>\n",
       "      <td>0.0</td>\n",
       "      <td>0.0</td>\n",
       "      <td>0.0</td>\n",
       "      <td>0.0</td>\n",
       "      <td>0.0</td>\n",
       "      <td>0.0</td>\n",
       "      <td>0.0</td>\n",
       "      <td>1.0</td>\n",
       "      <td>0.0</td>\n",
       "    </tr>\n",
       "    <tr>\n",
       "      <th>674</th>\n",
       "      <td>26</td>\n",
       "      <td>32</td>\n",
       "      <td>0.0</td>\n",
       "      <td>0.0</td>\n",
       "      <td>0.0</td>\n",
       "      <td>0.0</td>\n",
       "      <td>0.0</td>\n",
       "      <td>0.0</td>\n",
       "      <td>0.0</td>\n",
       "      <td>1.0</td>\n",
       "      <td>0.0</td>\n",
       "      <td>0.0</td>\n",
       "      <td>2.0</td>\n",
       "      <td>0.0</td>\n",
       "    </tr>\n",
       "    <tr>\n",
       "      <th>675</th>\n",
       "      <td>49</td>\n",
       "      <td>40</td>\n",
       "      <td>0.0</td>\n",
       "      <td>0.0</td>\n",
       "      <td>0.0</td>\n",
       "      <td>0.0</td>\n",
       "      <td>0.0</td>\n",
       "      <td>0.0</td>\n",
       "      <td>0.0</td>\n",
       "      <td>1.0</td>\n",
       "      <td>0.0</td>\n",
       "      <td>0.0</td>\n",
       "      <td>1.0</td>\n",
       "      <td>0.0</td>\n",
       "    </tr>\n",
       "  </tbody>\n",
       "</table>\n",
       "<p>676 rows × 14 columns</p>\n",
       "</div>"
      ],
      "text/plain": [
       "     age  hours_per_week  occupation_Adm-clerical  occupation_Armed-Forces  \\\n",
       "0     60              35                      1.0                      0.0   \n",
       "1     55              40                      0.0                      0.0   \n",
       "2     27              40                      0.0                      0.0   \n",
       "3     65              30                      0.0                      0.0   \n",
       "4     19              25                      0.0                      0.0   \n",
       "..   ...             ...                      ...                      ...   \n",
       "671   47              55                      0.0                      0.0   \n",
       "672   52              40                      0.0                      0.0   \n",
       "673   65              40                      0.0                      0.0   \n",
       "674   26              32                      0.0                      0.0   \n",
       "675   49              40                      0.0                      0.0   \n",
       "\n",
       "     occupation_Exec-managerial  occupation_Farming-fishing  \\\n",
       "0                           0.0                         0.0   \n",
       "1                           0.0                         0.0   \n",
       "2                           0.0                         0.0   \n",
       "3                           0.0                         0.0   \n",
       "4                           0.0                         0.0   \n",
       "..                          ...                         ...   \n",
       "671                         0.0                         0.0   \n",
       "672                         0.0                         0.0   \n",
       "673                         1.0                         0.0   \n",
       "674                         0.0                         0.0   \n",
       "675                         0.0                         0.0   \n",
       "\n",
       "     occupation_Machine-op-inspct  occupation_Prof-specialty  \\\n",
       "0                             0.0                        0.0   \n",
       "1                             0.0                        0.0   \n",
       "2                             1.0                        0.0   \n",
       "3                             0.0                        0.0   \n",
       "4                             0.0                        0.0   \n",
       "..                            ...                        ...   \n",
       "671                           0.0                        0.0   \n",
       "672                           0.0                        1.0   \n",
       "673                           0.0                        0.0   \n",
       "674                           0.0                        0.0   \n",
       "675                           0.0                        0.0   \n",
       "\n",
       "     occupation_Sales  occupation_Service  occupation_Tech-support  \\\n",
       "0                 0.0                 0.0                      0.0   \n",
       "1                 0.0                 1.0                      0.0   \n",
       "2                 0.0                 0.0                      0.0   \n",
       "3                 0.0                 1.0                      0.0   \n",
       "4                 0.0                 1.0                      0.0   \n",
       "..                ...                 ...                      ...   \n",
       "671               1.0                 0.0                      0.0   \n",
       "672               0.0                 0.0                      0.0   \n",
       "673               0.0                 0.0                      0.0   \n",
       "674               0.0                 1.0                      0.0   \n",
       "675               0.0                 1.0                      0.0   \n",
       "\n",
       "     occupation_Transport-moving  education  relationship  \n",
       "0                            0.0        1.0           1.0  \n",
       "1                            0.0        2.0           1.0  \n",
       "2                            0.0        0.0           0.0  \n",
       "3                            0.0        0.0           0.0  \n",
       "4                            0.0        0.0           0.0  \n",
       "..                           ...        ...           ...  \n",
       "671                          0.0        0.0           0.0  \n",
       "672                          0.0        0.0           0.0  \n",
       "673                          0.0        1.0           0.0  \n",
       "674                          0.0        2.0           0.0  \n",
       "675                          0.0        1.0           0.0  \n",
       "\n",
       "[676 rows x 14 columns]"
      ]
     },
     "execution_count": 180,
     "metadata": {},
     "output_type": "execute_result"
    }
   ],
   "source": [
    "x_test_final"
   ]
  },
  {
   "attachments": {},
   "cell_type": "markdown",
   "metadata": {},
   "source": [
    "### VIF Check"
   ]
  },
  {
   "attachments": {},
   "cell_type": "markdown",
   "metadata": {},
   "source": [
    "setelah kita menggabungkan hasil scaling dan encoding. kita akan mengecek VIF(variance inflation factor). disini kita tidak menggunakan hasil dari one hot encoding karena akan membuat hasil menjadi tidak bagus"
   ]
  },
  {
   "cell_type": "code",
   "execution_count": 181,
   "metadata": {},
   "outputs": [],
   "source": [
    "def calc_vif(X):\n",
    "\n",
    "    # Calculating VIF\n",
    "    vif = pd.DataFrame()\n",
    "    vif[\"variables\"] = X.columns\n",
    "    vif[\"VIF\"] = [variance_inflation_factor(X.values, i) for i in range(X.shape[1])]\n",
    "\n",
    "    return(vif)"
   ]
  },
  {
   "cell_type": "code",
   "execution_count": 182,
   "metadata": {},
   "outputs": [
    {
     "data": {
      "text/html": [
       "<div>\n",
       "<style scoped>\n",
       "    .dataframe tbody tr th:only-of-type {\n",
       "        vertical-align: middle;\n",
       "    }\n",
       "\n",
       "    .dataframe tbody tr th {\n",
       "        vertical-align: top;\n",
       "    }\n",
       "\n",
       "    .dataframe thead th {\n",
       "        text-align: right;\n",
       "    }\n",
       "</style>\n",
       "<table border=\"1\" class=\"dataframe\">\n",
       "  <thead>\n",
       "    <tr style=\"text-align: right;\">\n",
       "      <th></th>\n",
       "      <th>variables</th>\n",
       "      <th>VIF</th>\n",
       "    </tr>\n",
       "  </thead>\n",
       "  <tbody>\n",
       "    <tr>\n",
       "      <th>0</th>\n",
       "      <td>age</td>\n",
       "      <td>1.019337</td>\n",
       "    </tr>\n",
       "    <tr>\n",
       "      <th>1</th>\n",
       "      <td>hours_per_week</td>\n",
       "      <td>1.023717</td>\n",
       "    </tr>\n",
       "    <tr>\n",
       "      <th>2</th>\n",
       "      <td>education</td>\n",
       "      <td>1.459906</td>\n",
       "    </tr>\n",
       "    <tr>\n",
       "      <th>3</th>\n",
       "      <td>relationship</td>\n",
       "      <td>1.416710</td>\n",
       "    </tr>\n",
       "  </tbody>\n",
       "</table>\n",
       "</div>"
      ],
      "text/plain": [
       "        variables       VIF\n",
       "0             age  1.019337\n",
       "1  hours_per_week  1.023717\n",
       "2       education  1.459906\n",
       "3    relationship  1.416710"
      ]
     },
     "execution_count": 182,
     "metadata": {},
     "output_type": "execute_result"
    }
   ],
   "source": [
    "calc_vif(x_train_final[['age','hours_per_week', 'education', 'relationship']])"
   ]
  },
  {
   "attachments": {},
   "cell_type": "markdown",
   "metadata": {},
   "source": [
    "disini hasil nya adalah kolom yang kita gunakan memiliki tingkat kesamaan yang tinggi"
   ]
  },
  {
   "attachments": {},
   "cell_type": "markdown",
   "metadata": {},
   "source": [
    "# vii. Model Definition"
   ]
  },
  {
   "attachments": {},
   "cell_type": "markdown",
   "metadata": {},
   "source": [
    "disini kita akan mendefinisikan model yang kita gunakan adalah logistic regression model dan support vector machine sesuai dengan tugas yang diberikan. dengan membuat parameter yang akan dicoba"
   ]
  },
  {
   "cell_type": "code",
   "execution_count": 183,
   "metadata": {},
   "outputs": [],
   "source": [
    "# Train memakai LogisticRegression\n",
    "log_model = LogisticRegression(max_iter=1000000)\n",
    "\n",
    "# Train memakai SVC\n",
    "svm_clf = SVC(kernel=\"rbf\", C=1)"
   ]
  },
  {
   "attachments": {},
   "cell_type": "markdown",
   "metadata": {},
   "source": [
    "# viii. Model Training"
   ]
  },
  {
   "attachments": {},
   "cell_type": "markdown",
   "metadata": {},
   "source": [
    "sekarang kita akan melakukan fit pada model agar model dapat mempelajari data yang ada"
   ]
  },
  {
   "cell_type": "code",
   "execution_count": 184,
   "metadata": {},
   "outputs": [
    {
     "data": {
      "text/plain": [
       "LogisticRegression(max_iter=1000000)"
      ]
     },
     "execution_count": 184,
     "metadata": {},
     "output_type": "execute_result"
    }
   ],
   "source": [
    "# Train model Logistic Regression\n",
    "\n",
    "log_model.fit(x_train_final, y_train)"
   ]
  },
  {
   "cell_type": "code",
   "execution_count": 185,
   "metadata": {},
   "outputs": [
    {
     "data": {
      "text/plain": [
       "SVC(C=1)"
      ]
     },
     "execution_count": 185,
     "metadata": {},
     "output_type": "execute_result"
    }
   ],
   "source": [
    "# Train model SVC\n",
    "\n",
    "svm_clf.fit(x_train_final, y_train)"
   ]
  },
  {
   "attachments": {},
   "cell_type": "markdown",
   "metadata": {},
   "source": [
    "# ix. Model Evaluation"
   ]
  },
  {
   "attachments": {},
   "cell_type": "markdown",
   "metadata": {},
   "source": [
    "sekarang kita akan mengevaluasi model menggunakan beberapa metric yang biasa digunakan dalam model klasifikasi"
   ]
  },
  {
   "attachments": {},
   "cell_type": "markdown",
   "metadata": {},
   "source": [
    "### Logistic Regression Model"
   ]
  },
  {
   "cell_type": "code",
   "execution_count": 186,
   "metadata": {},
   "outputs": [
    {
     "name": "stdout",
     "output_type": "stream",
     "text": [
      "accuracy score train :  0.7894390524757361\n",
      "accuracy score test :  0.1834319526627219 \n",
      "\n"
     ]
    }
   ],
   "source": [
    "y_pred_train = log_model.predict(x_train_final)\n",
    "y_pred_test = log_model.predict(x_test_final)\n",
    "\n",
    "print('accuracy score train : ',accuracy_score(y_train,y_pred_train))\n",
    "print('accuracy score test : ',accuracy_score(y_test,y_pred_test),'\\n')"
   ]
  },
  {
   "cell_type": "code",
   "execution_count": 187,
   "metadata": {},
   "outputs": [
    {
     "name": "stdout",
     "output_type": "stream",
     "text": [
      "classification report train : \n",
      "               precision    recall  f1-score   support\n",
      "\n",
      "       <=50K       0.81      0.95      0.88      4739\n",
      "        >50K       0.56      0.22      0.32      1340\n",
      "\n",
      "    accuracy                           0.79      6079\n",
      "   macro avg       0.68      0.59      0.60      6079\n",
      "weighted avg       0.76      0.79      0.75      6079\n",
      " \n",
      "\n",
      "classification report test : \n",
      "               precision    recall  f1-score   support\n",
      "\n",
      "       <=50K       0.00      0.00      0.00       552\n",
      "        >50K       0.18      1.00      0.31       124\n",
      "\n",
      "    accuracy                           0.18       676\n",
      "   macro avg       0.09      0.50      0.15       676\n",
      "weighted avg       0.03      0.18      0.06       676\n",
      "\n"
     ]
    }
   ],
   "source": [
    "print('classification report train : \\n',classification_report(y_train,y_pred_train),'\\n')\n",
    "print('classification report test : \\n',classification_report(y_test,y_pred_test))"
   ]
  },
  {
   "cell_type": "code",
   "execution_count": 188,
   "metadata": {},
   "outputs": [
    {
     "data": {
      "image/png": "[encoded data removed]",
      "text/plain": [
       "<Figure size 640x480 with 2 Axes>"
      ]
     },
     "metadata": {},
     "output_type": "display_data"
    }
   ],
   "source": [
    "matrix_log_reg_train = confusion_matrix(y_train, y_pred_train, labels=log_model.classes_)\n",
    "cmd_reg_train = ConfusionMatrixDisplay(confusion_matrix=matrix_log_reg_train,display_labels=log_model.classes_)\n",
    "\n",
    "cmd_reg_train.plot()\n",
    "plt.show()"
   ]
  },
  {
   "cell_type": "code",
   "execution_count": 189,
   "metadata": {},
   "outputs": [
    {
     "data": {
      "image/png": "[encoded data removed]",
      "text/plain": [
       "<Figure size 640x480 with 2 Axes>"
      ]
     },
     "metadata": {},
     "output_type": "display_data"
    }
   ],
   "source": [
    "cm_log_reg_test = confusion_matrix(y_test, y_pred_test, labels=log_model.classes_)\n",
    "disp_log_reg_test = ConfusionMatrixDisplay(confusion_matrix=cm_log_reg_test,display_labels=log_model.classes_)\n",
    "\n",
    "disp_log_reg_test.plot()\n",
    "plt.show()"
   ]
  },
  {
   "attachments": {},
   "cell_type": "markdown",
   "metadata": {},
   "source": [
    "### SVM Model"
   ]
  },
  {
   "cell_type": "code",
   "execution_count": 190,
   "metadata": {},
   "outputs": [
    {
     "name": "stdout",
     "output_type": "stream",
     "text": [
      "accuracy score train :  0.7989800954104294\n",
      "accuracy score test :  0.8165680473372781 \n",
      "\n"
     ]
    }
   ],
   "source": [
    "# Predict SVM model\n",
    "y_pred_train_svm = svm_clf.predict(x_train_final)\n",
    "y_pred_test_svm = svm_clf.predict(x_test_final)\n",
    "\n",
    "# Display SVM accuracy\n",
    "print('accuracy score train : ',accuracy_score(y_train, y_pred_train_svm))\n",
    "print('accuracy score test : ',accuracy_score(y_test, y_pred_test_svm),'\\n')"
   ]
  },
  {
   "cell_type": "code",
   "execution_count": 191,
   "metadata": {},
   "outputs": [
    {
     "name": "stdout",
     "output_type": "stream",
     "text": [
      "classification report train : \n",
      "               precision    recall  f1-score   support\n",
      "\n",
      "       <=50K       0.81      0.97      0.88      4739\n",
      "        >50K       0.63      0.21      0.32      1340\n",
      "\n",
      "    accuracy                           0.80      6079\n",
      "   macro avg       0.72      0.59      0.60      6079\n",
      "weighted avg       0.77      0.80      0.76      6079\n",
      " \n",
      "\n",
      "classification report test : \n",
      "               precision    recall  f1-score   support\n",
      "\n",
      "       <=50K       0.82      1.00      0.90       552\n",
      "        >50K       0.00      0.00      0.00       124\n",
      "\n",
      "    accuracy                           0.82       676\n",
      "   macro avg       0.41      0.50      0.45       676\n",
      "weighted avg       0.67      0.82      0.73       676\n",
      "\n"
     ]
    }
   ],
   "source": [
    "# Display SVM Classification Report\n",
    "print('classification report train : \\n', classification_report(y_train, y_pred_train_svm),'\\n')\n",
    "print('classification report test : \\n', classification_report(y_test, y_pred_test_svm))"
   ]
  },
  {
   "cell_type": "code",
   "execution_count": 192,
   "metadata": {},
   "outputs": [
    {
     "data": {
      "image/png": "[encoded data removed]",
      "text/plain": [
       "<Figure size 640x480 with 2 Axes>"
      ]
     },
     "metadata": {},
     "output_type": "display_data"
    }
   ],
   "source": [
    "# Display SVM Confusion matrix - Train\n",
    "\n",
    "matrix_svm_train = confusion_matrix(y_train, y_pred_train_svm, labels=svm_clf.classes_)\n",
    "cmd_svm_train = ConfusionMatrixDisplay(confusion_matrix=matrix_svm_train,display_labels=svm_clf.classes_)\n",
    "\n",
    "cmd_svm_train.plot()\n",
    "plt.show()"
   ]
  },
  {
   "cell_type": "code",
   "execution_count": 193,
   "metadata": {},
   "outputs": [
    {
     "data": {
      "image/png": "[encoded data removed]",
      "text/plain": [
       "<Figure size 640x480 with 2 Axes>"
      ]
     },
     "metadata": {},
     "output_type": "display_data"
    }
   ],
   "source": [
    "# Display SVM Confusion matrix - Test\n",
    "\n",
    "matrix_svm_test = confusion_matrix(y_test, y_pred_test_svm, labels=svm_clf.classes_)\n",
    "cmd_svm_test = ConfusionMatrixDisplay(confusion_matrix=matrix_svm_test,display_labels=svm_clf.classes_)\n",
    "\n",
    "cmd_svm_test.plot()\n",
    "plt.show()"
   ]
  },
  {
   "attachments": {},
   "cell_type": "markdown",
   "metadata": {},
   "source": [
    "# x. Model Analysis"
   ]
  },
  {
   "attachments": {},
   "cell_type": "markdown",
   "metadata": {},
   "source": [
    "1. Logistic Regression\n",
    "\n",
    "- model ini dapat terbilang bagus. tetapi, jika dilihat akurasi test nya, dapat dibilang data yang kita miliki adalah imbalance. jika kita hanya menggunakan akurasi tersebut, dapat menyebabkan hasil yang mungkin salah\n",
    "\n",
    "- hasil recall kita cukup rendah yang berarti model yang kita buat salah dalam memprediksi\n",
    "\n",
    "- model ini dapat dibilang tidak cukup baik untuk memprediksi hasil kita karena hasil prediksi dapat dibilang salah"
   ]
  },
  {
   "attachments": {},
   "cell_type": "markdown",
   "metadata": {},
   "source": [
    "2. SVM\n",
    "\n",
    "- dari hasil svm, model yang kita buat hasilnya 80% yang berarti cukup bagus. namun data yang kita miliki adalah imbalance yang dapat terjadi kesalahan dalam memprediksi data kita\n",
    "\n",
    "- model ini lebuh baik apabila dibandingkan dengan model sebelumnya karena recall pada model ini cukup jauh lebih baik ketimbang model sebelumnya."
   ]
  },
  {
   "attachments": {},
   "cell_type": "markdown",
   "metadata": {},
   "source": [
    "### Future Improvement"
   ]
  },
  {
   "attachments": {},
   "cell_type": "markdown",
   "metadata": {},
   "source": [
    "- mungkin kita dapat menggunakan kolom yang lebih banyak misalnya kolom sex, marital status karena pada kolom tersebut memiliki korelasi yang cukup baik \n",
    "- menukar kolom education dengan education num yang mungkin pada saat di scaling, hasilnya akan lebih baik\n",
    "- menggunakan minmax scaler karena kita hanya melakukan censoring pada outliers"
   ]
  },
  {
   "attachments": {},
   "cell_type": "markdown",
   "metadata": {},
   "source": [
    "# xi. Model Saving"
   ]
  },
  {
   "cell_type": "code",
   "execution_count": 194,
   "metadata": {},
   "outputs": [],
   "source": [
    "with open('model_log_reg.pkl', 'wb') as file_1:\n",
    "  joblib.dump(log_model, file_1)\n",
    "\n",
    "with open('model_svm.pkl', 'wb') as file_2:\n",
    "  joblib.dump(svm_clf, file_2)\n",
    "\n",
    "with open('model_scaler.pkl', 'wb') as file_3:\n",
    "  joblib.dump(scaler, file_3)\n",
    "\n",
    "with open('model_ohe.pkl', 'wb') as file_4:\n",
    "  joblib.dump(ohe, file_4)\n",
    "\n",
    "with open('model_ord.pkl', 'wb') as file_5:\n",
    "  joblib.dump(ord, file_5)\n",
    "\n",
    "with open('list_num_col.txt', 'w') as file_6:\n",
    "  json.dump(num_col, file_6)\n",
    "\n",
    "with open('list_cat_col.txt', 'w') as file_7:\n",
    "  json.dump(cat_col, file_7)\n",
    "\n",
    "with open('list_ord_col.txt', 'w') as file_8:\n",
    "  json.dump(ord_col, file_8)"
   ]
  },
  {
   "attachments": {},
   "cell_type": "markdown",
   "metadata": {},
   "source": [
    "# Overall Analysis/Conclusion"
   ]
  },
  {
   "attachments": {},
   "cell_type": "markdown",
   "metadata": {},
   "source": [
    "dari pekerjaan yang kita buat. kita mendapatkan beberapa kesimpulan diantaranya:\n",
    "\n",
    "- Data yang kita miliki imbalance dengan income bracket <=50 lebih besar jauh \n",
    "- Education yang paling banyak orangnya berada di HS-grad\n",
    "- Pekerjaan yang paling banyak peminatnya adalah Craft-repair\n",
    "- saat mengecek VIF, kolom fitur yang digunakan memiliki tingkat kesamaan yang tinggi dibandingkan kolom yang lainnya\n",
    "- dari hasil diatas, kita ketahui bahwa model yang dibuat tidak cukup baik karena banyak kesalahan dalam memprediksi"
   ]
  },
  {
   "attachments": {},
   "cell_type": "markdown",
   "metadata": {},
   "source": [
    "# Conceptual Problem"
   ]
  },
  {
   "attachments": {},
   "cell_type": "markdown",
   "metadata": {},
   "source": [
    "### Question 1"
   ]
  },
  {
   "attachments": {},
   "cell_type": "markdown",
   "metadata": {},
   "source": [
    "Apakah yang dimaksud dengan coeficient pada logistic regression?"
   ]
  },
  {
   "attachments": {},
   "cell_type": "markdown",
   "metadata": {},
   "source": [
    "### Answer"
   ]
  },
  {
   "attachments": {},
   "cell_type": "markdown",
   "metadata": {},
   "source": [
    "Koefisien pada logistic regression mengacu pada nilai numerik yang diberikan pada setiap variabel independen dalam model, yang menunjukkan seberapa besar pengaruh variabel tersebut terhadap probabilitas kejadian variabel dependen (misalnya, 0 atau 1) dalam model.\n",
    "\n",
    "Dalam logistic regression, model matematis menggunakan fungsi logit (log odds ratio) untuk memprediksi probabilitas kejadian variabel dependen. Koefisien digunakan untuk mengalikan nilai numerik dari setiap variabel independen dalam model dengan variabel koefisien yang terkait dengan variabel dependen untuk menghasilkan log odds ratio. Koefisien positif menunjukkan hubungan positif antara variabel independen dan variabel dependen, sedangkan koefisien negatif menunjukkan hubungan negatif. Semakin besar koefisien, semakin besar pula pengaruh variabel independen terhadap variabel dependen dalam model."
   ]
  },
  {
   "attachments": {},
   "cell_type": "markdown",
   "metadata": {},
   "source": [
    "### Question 2"
   ]
  },
  {
   "attachments": {},
   "cell_type": "markdown",
   "metadata": {},
   "source": [
    "Apakah yang dimaksud dengan Support Vector pada SVM?"
   ]
  },
  {
   "attachments": {},
   "cell_type": "markdown",
   "metadata": {},
   "source": [
    "### Answer"
   ]
  },
  {
   "attachments": {},
   "cell_type": "markdown",
   "metadata": {},
   "source": [
    "Support vectors pada SVM (Support Vector Machines) adalah titik-titik data pada dataset yang paling dekat dengan hyperplane pembatas (decision boundary) antara kelas yang berbeda dalam ruang fitur. Hyperplane pembatas adalah garis atau bidang linear yang digunakan oleh SVM untuk memisahkan dua kelas dalam ruang fitur.\n",
    "\n",
    "Support vector memiliki sifat penting karena hanya titik-titik data inilah yang mempengaruhi posisi hyperplane pembatas dan menentukan keakuratan model SVM. Jumlah support vector juga dapat digunakan sebagai indikasi kompleksitas model. Semakin banyak support vector, semakin kompleks model, dan semakin sulit untuk menggeneralisasi model pada data baru."
   ]
  },
  {
   "attachments": {},
   "cell_type": "markdown",
   "metadata": {},
   "source": [
    "### Question 3"
   ]
  },
  {
   "attachments": {},
   "cell_type": "markdown",
   "metadata": {},
   "source": [
    "Apakah fungsi parameter kernel pada SVM? Jelaskan salah satu kernel yang kalian pahami!"
   ]
  },
  {
   "attachments": {},
   "cell_type": "markdown",
   "metadata": {},
   "source": [
    "### Answer"
   ]
  },
  {
   "attachments": {},
   "cell_type": "markdown",
   "metadata": {},
   "source": [
    "Kernel function pada SVM (Support Vector Machines) adalah fungsi matematika yang digunakan untuk memetakan data ke dalam ruang fitur yang lebih tinggi dimensi. Kernel function membantu SVM memisahkan kelas yang tidak dapat dipisahkan secara linear dalam ruang fitur asli, dengan memproyeksikan data ke dalam ruang fitur yang lebih tinggi dimensi di mana kelas dapat dipisahkan secara linear."
   ]
  }
 ],
 "metadata": {
  "kernelspec": {
   "display_name": "base",
   "language": "python",
   "name": "python3"
  },
  "language_info": {
   "codemirror_mode": {
    "name": "ipython",
    "version": 3
   },
   "file_extension": ".py",
   "mimetype": "text/x-python",
   "name": "python",
   "nbconvert_exporter": "python",
   "pygments_lexer": "ipython3",
   "version": "3.9.13"
  },
  "orig_nbformat": 4
 },
 "nbformat": 4,
 "nbformat_minor": 2
}
