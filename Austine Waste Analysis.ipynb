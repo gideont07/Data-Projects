{
 "cells": [
  {
   "attachments": {},
   "cell_type": "markdown",
   "metadata": {},
   "source": [
    "## i. Perkenalan\n",
    "`Marchelly Gideon Tambunan`\\"
   ]
  },
  {
   "attachments": {},
   "cell_type": "markdown",
   "metadata": {},
   "source": [
    "## Working Area\n",
    "\n",
    "### Query Sql Untuk Membuat Dataset\n",
    "\n",
    "SELECT report_date, load_type, load_time, load_weight, dropoff_site \n",
    "\n",
    "FROM `bigquery-public-data.austin_waste.waste_and_diversion` \n",
    "\n",
    "where report_date between '2021-01-01' and '2021-07-09'"
   ]
  },
  {
   "attachments": {},
   "cell_type": "markdown",
   "metadata": {},
   "source": [
    "## Import Library\n",
    "\n",
    "import library yang akan digunakan"
   ]
  },
  {
   "cell_type": "code",
   "execution_count": 73,
   "metadata": {},
   "outputs": [],
   "source": [
    "import pandas as pd             # import library yang dipakai\n",
    "import numpy as np\n",
    "from numpy import percentile\n",
    "import seaborn as sns\n",
    "import matplotlib.pyplot as plt\n",
    "from scipy import stats"
   ]
  },
  {
   "attachments": {},
   "cell_type": "markdown",
   "metadata": {},
   "source": [
    "Loading data csv yang telah diambil"
   ]
  },
  {
   "cell_type": "code",
   "execution_count": 74,
   "metadata": {},
   "outputs": [],
   "source": [
    "# loading data scv dengan memasukan beberapa string yang dianggap missing value\n",
    "df = pd.read_csv('h8dsft_P0GC2_Marchelly_Gideon.csv',na_values=[\" \", \"-\", \"?\" ,\"n/a\", \"na\", \"--\"])"
   ]
  },
  {
   "attachments": {},
   "cell_type": "markdown",
   "metadata": {},
   "source": [
    "menampilkan indeks teratas dan terbawah dari data tsb"
   ]
  },
  {
   "cell_type": "code",
   "execution_count": 75,
   "metadata": {},
   "outputs": [
    {
     "data": {
      "text/html": [
       "<div>\n",
       "<style scoped>\n",
       "    .dataframe tbody tr th:only-of-type {\n",
       "        vertical-align: middle;\n",
       "    }\n",
       "\n",
       "    .dataframe tbody tr th {\n",
       "        vertical-align: top;\n",
       "    }\n",
       "\n",
       "    .dataframe thead th {\n",
       "        text-align: right;\n",
       "    }\n",
       "</style>\n",
       "<table border=\"1\" class=\"dataframe\">\n",
       "  <thead>\n",
       "    <tr style=\"text-align: right;\">\n",
       "      <th></th>\n",
       "      <th>report_date</th>\n",
       "      <th>load_type</th>\n",
       "      <th>load_time</th>\n",
       "      <th>load_weight</th>\n",
       "      <th>dropoff_site</th>\n",
       "    </tr>\n",
       "  </thead>\n",
       "  <tbody>\n",
       "    <tr>\n",
       "      <th>0</th>\n",
       "      <td>2021-07-08</td>\n",
       "      <td>TIRES</td>\n",
       "      <td>2021-07-08 12:00:00.000000 UTC</td>\n",
       "      <td>2260.0</td>\n",
       "      <td>MRF</td>\n",
       "    </tr>\n",
       "    <tr>\n",
       "      <th>1</th>\n",
       "      <td>2021-07-08</td>\n",
       "      <td>TIRES</td>\n",
       "      <td>2021-07-08 11:00:00.000000 UTC</td>\n",
       "      <td>1260.0</td>\n",
       "      <td>MRF</td>\n",
       "    </tr>\n",
       "    <tr>\n",
       "      <th>2</th>\n",
       "      <td>2021-07-08</td>\n",
       "      <td>TIRES</td>\n",
       "      <td>2021-07-08 03:00:00.000000 UTC</td>\n",
       "      <td>800.0</td>\n",
       "      <td>MRF</td>\n",
       "    </tr>\n",
       "    <tr>\n",
       "      <th>3</th>\n",
       "      <td>2021-05-01</td>\n",
       "      <td>TIRES</td>\n",
       "      <td>2021-05-01 12:29:00.000000 UTC</td>\n",
       "      <td>760.0</td>\n",
       "      <td>MRF</td>\n",
       "    </tr>\n",
       "    <tr>\n",
       "      <th>4</th>\n",
       "      <td>2021-07-03</td>\n",
       "      <td>TIRES</td>\n",
       "      <td>2021-07-03 12:09:00.000000 UTC</td>\n",
       "      <td>1400.0</td>\n",
       "      <td>MRF</td>\n",
       "    </tr>\n",
       "  </tbody>\n",
       "</table>\n",
       "</div>"
      ],
      "text/plain": [
       "  report_date load_type                       load_time  load_weight  \\\n",
       "0  2021-07-08     TIRES  2021-07-08 12:00:00.000000 UTC       2260.0   \n",
       "1  2021-07-08     TIRES  2021-07-08 11:00:00.000000 UTC       1260.0   \n",
       "2  2021-07-08     TIRES  2021-07-08 03:00:00.000000 UTC        800.0   \n",
       "3  2021-05-01     TIRES  2021-05-01 12:29:00.000000 UTC        760.0   \n",
       "4  2021-07-03     TIRES  2021-07-03 12:09:00.000000 UTC       1400.0   \n",
       "\n",
       "  dropoff_site  \n",
       "0          MRF  \n",
       "1          MRF  \n",
       "2          MRF  \n",
       "3          MRF  \n",
       "4          MRF  "
      ]
     },
     "execution_count": 75,
     "metadata": {},
     "output_type": "execute_result"
    }
   ],
   "source": [
    "df.head() #menampilkan 5 data teratas"
   ]
  },
  {
   "cell_type": "code",
   "execution_count": 76,
   "metadata": {},
   "outputs": [
    {
     "data": {
      "text/html": [
       "<div>\n",
       "<style scoped>\n",
       "    .dataframe tbody tr th:only-of-type {\n",
       "        vertical-align: middle;\n",
       "    }\n",
       "\n",
       "    .dataframe tbody tr th {\n",
       "        vertical-align: top;\n",
       "    }\n",
       "\n",
       "    .dataframe thead th {\n",
       "        text-align: right;\n",
       "    }\n",
       "</style>\n",
       "<table border=\"1\" class=\"dataframe\">\n",
       "  <thead>\n",
       "    <tr style=\"text-align: right;\">\n",
       "      <th></th>\n",
       "      <th>report_date</th>\n",
       "      <th>load_type</th>\n",
       "      <th>load_time</th>\n",
       "      <th>load_weight</th>\n",
       "      <th>dropoff_site</th>\n",
       "    </tr>\n",
       "  </thead>\n",
       "  <tbody>\n",
       "    <tr>\n",
       "      <th>26152</th>\n",
       "      <td>2021-03-01</td>\n",
       "      <td>ORGANICS</td>\n",
       "      <td>2021-03-01 11:26:00.000000 UTC</td>\n",
       "      <td>12100.0</td>\n",
       "      <td>ORGANICS BY GOSH</td>\n",
       "    </tr>\n",
       "    <tr>\n",
       "      <th>26153</th>\n",
       "      <td>2021-03-01</td>\n",
       "      <td>ORGANICS</td>\n",
       "      <td>2021-03-01 04:27:00.000000 UTC</td>\n",
       "      <td>10900.0</td>\n",
       "      <td>ORGANICS BY GOSH</td>\n",
       "    </tr>\n",
       "    <tr>\n",
       "      <th>26154</th>\n",
       "      <td>2021-03-01</td>\n",
       "      <td>ORGANICS</td>\n",
       "      <td>2021-03-01 05:55:00.000000 UTC</td>\n",
       "      <td>21800.0</td>\n",
       "      <td>ORGANICS BY GOSH</td>\n",
       "    </tr>\n",
       "    <tr>\n",
       "      <th>26155</th>\n",
       "      <td>2021-03-01</td>\n",
       "      <td>ORGANICS</td>\n",
       "      <td>2021-03-02 01:10:00.000000 UTC</td>\n",
       "      <td>5640.0</td>\n",
       "      <td>ORGANICS BY GOSH</td>\n",
       "    </tr>\n",
       "    <tr>\n",
       "      <th>26156</th>\n",
       "      <td>2021-03-01</td>\n",
       "      <td>RECYCLED METAL</td>\n",
       "      <td>2021-03-01 10:22:00.000000 UTC</td>\n",
       "      <td>360.0</td>\n",
       "      <td>AUSTIN IRON AND METAL</td>\n",
       "    </tr>\n",
       "  </tbody>\n",
       "</table>\n",
       "</div>"
      ],
      "text/plain": [
       "      report_date       load_type                       load_time  \\\n",
       "26152  2021-03-01        ORGANICS  2021-03-01 11:26:00.000000 UTC   \n",
       "26153  2021-03-01        ORGANICS  2021-03-01 04:27:00.000000 UTC   \n",
       "26154  2021-03-01        ORGANICS  2021-03-01 05:55:00.000000 UTC   \n",
       "26155  2021-03-01        ORGANICS  2021-03-02 01:10:00.000000 UTC   \n",
       "26156  2021-03-01  RECYCLED METAL  2021-03-01 10:22:00.000000 UTC   \n",
       "\n",
       "       load_weight           dropoff_site  \n",
       "26152      12100.0       ORGANICS BY GOSH  \n",
       "26153      10900.0       ORGANICS BY GOSH  \n",
       "26154      21800.0       ORGANICS BY GOSH  \n",
       "26155       5640.0       ORGANICS BY GOSH  \n",
       "26156        360.0  AUSTIN IRON AND METAL  "
      ]
     },
     "execution_count": 76,
     "metadata": {},
     "output_type": "execute_result"
    }
   ],
   "source": [
    "df.tail() #menampilkan 5 data terbawah"
   ]
  },
  {
   "cell_type": "code",
   "execution_count": 77,
   "metadata": {},
   "outputs": [
    {
     "name": "stdout",
     "output_type": "stream",
     "text": [
      "<class 'pandas.core.frame.DataFrame'>\n",
      "RangeIndex: 26157 entries, 0 to 26156\n",
      "Data columns (total 5 columns):\n",
      " #   Column        Non-Null Count  Dtype         \n",
      "---  ------        --------------  -----         \n",
      " 0   report_date   26157 non-null  datetime64[ns]\n",
      " 1   load_type     26157 non-null  object        \n",
      " 2   load_time     26157 non-null  object        \n",
      " 3   load_weight   25109 non-null  float64       \n",
      " 4   dropoff_site  26157 non-null  object        \n",
      "dtypes: datetime64[ns](1), float64(1), object(3)\n",
      "memory usage: 1021.9+ KB\n"
     ]
    }
   ],
   "source": [
    "df['report_date'] = pd.to_datetime(df['report_date'])   #mengganti type data pada report_date menjadi datetime\n",
    "\n",
    "df.info()"
   ]
  },
  {
   "attachments": {},
   "cell_type": "markdown",
   "metadata": {},
   "source": [
    "## Data Cleaning\n",
    "\n",
    "#### Mengecek kembali data yang telah diambil apakah ada missing value atau tidak"
   ]
  },
  {
   "cell_type": "code",
   "execution_count": 78,
   "metadata": {},
   "outputs": [
    {
     "data": {
      "text/html": [
       "<div>\n",
       "<style scoped>\n",
       "    .dataframe tbody tr th:only-of-type {\n",
       "        vertical-align: middle;\n",
       "    }\n",
       "\n",
       "    .dataframe tbody tr th {\n",
       "        vertical-align: top;\n",
       "    }\n",
       "\n",
       "    .dataframe thead th {\n",
       "        text-align: right;\n",
       "    }\n",
       "</style>\n",
       "<table border=\"1\" class=\"dataframe\">\n",
       "  <thead>\n",
       "    <tr style=\"text-align: right;\">\n",
       "      <th></th>\n",
       "      <th>percent_missing</th>\n",
       "    </tr>\n",
       "  </thead>\n",
       "  <tbody>\n",
       "    <tr>\n",
       "      <th>report_date</th>\n",
       "      <td>0.000000</td>\n",
       "    </tr>\n",
       "    <tr>\n",
       "      <th>load_type</th>\n",
       "      <td>0.000000</td>\n",
       "    </tr>\n",
       "    <tr>\n",
       "      <th>load_time</th>\n",
       "      <td>0.000000</td>\n",
       "    </tr>\n",
       "    <tr>\n",
       "      <th>load_weight</th>\n",
       "      <td>4.006576</td>\n",
       "    </tr>\n",
       "    <tr>\n",
       "      <th>dropoff_site</th>\n",
       "      <td>0.000000</td>\n",
       "    </tr>\n",
       "  </tbody>\n",
       "</table>\n",
       "</div>"
      ],
      "text/plain": [
       "              percent_missing\n",
       "report_date          0.000000\n",
       "load_type            0.000000\n",
       "load_time            0.000000\n",
       "load_weight          4.006576\n",
       "dropoff_site         0.000000"
      ]
     },
     "execution_count": 78,
     "metadata": {},
     "output_type": "execute_result"
    }
   ],
   "source": [
    "percent_missing = df.isnull().sum() * 100 / len(df)                     # melihat ada berapa persen missing value pada tiap kolom\n",
    "missing_value_df = pd.DataFrame({'percent_missing': percent_missing})\n",
    "missing_value_df"
   ]
  },
  {
   "attachments": {},
   "cell_type": "markdown",
   "metadata": {},
   "source": [
    "setelah diketahui ada sekitar 4% missing value data, kita akan melakukan groupping antara dropoff_site dengan load_weight dan ingin melihat hasil describe nya. sebelum kita melakukan handling missing value, kita akan melihat terlebih dahulu distribusi dari data berikut menggunakan skewness"
   ]
  },
  {
   "cell_type": "code",
   "execution_count": 79,
   "metadata": {},
   "outputs": [
    {
     "name": "stdout",
     "output_type": "stream",
     "text": [
      "load_weight skewness: 3.335938213321684\n"
     ]
    }
   ],
   "source": [
    "numcols = ['load_weight']\n",
    "for col in numcols:\n",
    "    print(df[col].name + ' skewness: ' + str(df[col].skew()))"
   ]
  },
  {
   "attachments": {},
   "cell_type": "markdown",
   "metadata": {},
   "source": [
    "dari hasil skewness diatas dapat diartikan data tersebut merupakan distribusi tidak normal\n",
    "maka dari itu, missing values tersebut akan diisi dengan median dari kolom 'load_weight'"
   ]
  },
  {
   "cell_type": "code",
   "execution_count": 80,
   "metadata": {},
   "outputs": [
    {
     "data": {
      "text/html": [
       "<div>\n",
       "<style scoped>\n",
       "    .dataframe tbody tr th:only-of-type {\n",
       "        vertical-align: middle;\n",
       "    }\n",
       "\n",
       "    .dataframe tbody tr th {\n",
       "        vertical-align: top;\n",
       "    }\n",
       "\n",
       "    .dataframe thead th {\n",
       "        text-align: right;\n",
       "    }\n",
       "</style>\n",
       "<table border=\"1\" class=\"dataframe\">\n",
       "  <thead>\n",
       "    <tr style=\"text-align: right;\">\n",
       "      <th></th>\n",
       "      <th>report_date</th>\n",
       "      <th>load_type</th>\n",
       "      <th>load_time</th>\n",
       "      <th>load_weight</th>\n",
       "      <th>dropoff_site</th>\n",
       "    </tr>\n",
       "  </thead>\n",
       "  <tbody>\n",
       "    <tr>\n",
       "      <th>0</th>\n",
       "      <td>2021-07-08</td>\n",
       "      <td>TIRES</td>\n",
       "      <td>2021-07-08 12:00:00.000000 UTC</td>\n",
       "      <td>2260.0</td>\n",
       "      <td>MRF</td>\n",
       "    </tr>\n",
       "    <tr>\n",
       "      <th>1</th>\n",
       "      <td>2021-07-08</td>\n",
       "      <td>TIRES</td>\n",
       "      <td>2021-07-08 11:00:00.000000 UTC</td>\n",
       "      <td>1260.0</td>\n",
       "      <td>MRF</td>\n",
       "    </tr>\n",
       "    <tr>\n",
       "      <th>2</th>\n",
       "      <td>2021-07-08</td>\n",
       "      <td>TIRES</td>\n",
       "      <td>2021-07-08 03:00:00.000000 UTC</td>\n",
       "      <td>800.0</td>\n",
       "      <td>MRF</td>\n",
       "    </tr>\n",
       "    <tr>\n",
       "      <th>3</th>\n",
       "      <td>2021-05-01</td>\n",
       "      <td>TIRES</td>\n",
       "      <td>2021-05-01 12:29:00.000000 UTC</td>\n",
       "      <td>760.0</td>\n",
       "      <td>MRF</td>\n",
       "    </tr>\n",
       "    <tr>\n",
       "      <th>4</th>\n",
       "      <td>2021-07-03</td>\n",
       "      <td>TIRES</td>\n",
       "      <td>2021-07-03 12:09:00.000000 UTC</td>\n",
       "      <td>1400.0</td>\n",
       "      <td>MRF</td>\n",
       "    </tr>\n",
       "    <tr>\n",
       "      <th>...</th>\n",
       "      <td>...</td>\n",
       "      <td>...</td>\n",
       "      <td>...</td>\n",
       "      <td>...</td>\n",
       "      <td>...</td>\n",
       "    </tr>\n",
       "    <tr>\n",
       "      <th>26152</th>\n",
       "      <td>2021-03-01</td>\n",
       "      <td>ORGANICS</td>\n",
       "      <td>2021-03-01 11:26:00.000000 UTC</td>\n",
       "      <td>12100.0</td>\n",
       "      <td>ORGANICS BY GOSH</td>\n",
       "    </tr>\n",
       "    <tr>\n",
       "      <th>26153</th>\n",
       "      <td>2021-03-01</td>\n",
       "      <td>ORGANICS</td>\n",
       "      <td>2021-03-01 04:27:00.000000 UTC</td>\n",
       "      <td>10900.0</td>\n",
       "      <td>ORGANICS BY GOSH</td>\n",
       "    </tr>\n",
       "    <tr>\n",
       "      <th>26154</th>\n",
       "      <td>2021-03-01</td>\n",
       "      <td>ORGANICS</td>\n",
       "      <td>2021-03-01 05:55:00.000000 UTC</td>\n",
       "      <td>21800.0</td>\n",
       "      <td>ORGANICS BY GOSH</td>\n",
       "    </tr>\n",
       "    <tr>\n",
       "      <th>26155</th>\n",
       "      <td>2021-03-01</td>\n",
       "      <td>ORGANICS</td>\n",
       "      <td>2021-03-02 01:10:00.000000 UTC</td>\n",
       "      <td>5640.0</td>\n",
       "      <td>ORGANICS BY GOSH</td>\n",
       "    </tr>\n",
       "    <tr>\n",
       "      <th>26156</th>\n",
       "      <td>2021-03-01</td>\n",
       "      <td>RECYCLED METAL</td>\n",
       "      <td>2021-03-01 10:22:00.000000 UTC</td>\n",
       "      <td>360.0</td>\n",
       "      <td>AUSTIN IRON AND METAL</td>\n",
       "    </tr>\n",
       "  </tbody>\n",
       "</table>\n",
       "<p>26157 rows × 5 columns</p>\n",
       "</div>"
      ],
      "text/plain": [
       "      report_date       load_type                       load_time  \\\n",
       "0      2021-07-08           TIRES  2021-07-08 12:00:00.000000 UTC   \n",
       "1      2021-07-08           TIRES  2021-07-08 11:00:00.000000 UTC   \n",
       "2      2021-07-08           TIRES  2021-07-08 03:00:00.000000 UTC   \n",
       "3      2021-05-01           TIRES  2021-05-01 12:29:00.000000 UTC   \n",
       "4      2021-07-03           TIRES  2021-07-03 12:09:00.000000 UTC   \n",
       "...           ...             ...                             ...   \n",
       "26152  2021-03-01        ORGANICS  2021-03-01 11:26:00.000000 UTC   \n",
       "26153  2021-03-01        ORGANICS  2021-03-01 04:27:00.000000 UTC   \n",
       "26154  2021-03-01        ORGANICS  2021-03-01 05:55:00.000000 UTC   \n",
       "26155  2021-03-01        ORGANICS  2021-03-02 01:10:00.000000 UTC   \n",
       "26156  2021-03-01  RECYCLED METAL  2021-03-01 10:22:00.000000 UTC   \n",
       "\n",
       "       load_weight           dropoff_site  \n",
       "0           2260.0                    MRF  \n",
       "1           1260.0                    MRF  \n",
       "2            800.0                    MRF  \n",
       "3            760.0                    MRF  \n",
       "4           1400.0                    MRF  \n",
       "...            ...                    ...  \n",
       "26152      12100.0       ORGANICS BY GOSH  \n",
       "26153      10900.0       ORGANICS BY GOSH  \n",
       "26154      21800.0       ORGANICS BY GOSH  \n",
       "26155       5640.0       ORGANICS BY GOSH  \n",
       "26156        360.0  AUSTIN IRON AND METAL  \n",
       "\n",
       "[26157 rows x 5 columns]"
      ]
     },
     "execution_count": 80,
     "metadata": {},
     "output_type": "execute_result"
    }
   ],
   "source": [
    "df = df.fillna(round(df['load_weight'].median(),0)) #mengisi missing value dengan median\n",
    "df"
   ]
  },
  {
   "attachments": {},
   "cell_type": "markdown",
   "metadata": {},
   "source": [
    "selanjutnya kita akan mengurutkan data berdasarkan report_date"
   ]
  },
  {
   "cell_type": "code",
   "execution_count": 81,
   "metadata": {},
   "outputs": [
    {
     "data": {
      "text/html": [
       "<div>\n",
       "<style scoped>\n",
       "    .dataframe tbody tr th:only-of-type {\n",
       "        vertical-align: middle;\n",
       "    }\n",
       "\n",
       "    .dataframe tbody tr th {\n",
       "        vertical-align: top;\n",
       "    }\n",
       "\n",
       "    .dataframe thead th {\n",
       "        text-align: right;\n",
       "    }\n",
       "</style>\n",
       "<table border=\"1\" class=\"dataframe\">\n",
       "  <thead>\n",
       "    <tr style=\"text-align: right;\">\n",
       "      <th></th>\n",
       "      <th>report_date</th>\n",
       "      <th>load_type</th>\n",
       "      <th>load_time</th>\n",
       "      <th>load_weight</th>\n",
       "      <th>dropoff_site</th>\n",
       "    </tr>\n",
       "  </thead>\n",
       "  <tbody>\n",
       "    <tr>\n",
       "      <th>0</th>\n",
       "      <td>2021-01-01</td>\n",
       "      <td>SWEEPING</td>\n",
       "      <td>2021-01-01 12:00:00.000000 UTC</td>\n",
       "      <td>11300.0</td>\n",
       "      <td>ONION CREEK</td>\n",
       "    </tr>\n",
       "    <tr>\n",
       "      <th>1</th>\n",
       "      <td>2021-01-01</td>\n",
       "      <td>SWEEPING</td>\n",
       "      <td>2021-01-01 12:00:00.000000 UTC</td>\n",
       "      <td>11300.0</td>\n",
       "      <td>ONION CREEK</td>\n",
       "    </tr>\n",
       "    <tr>\n",
       "      <th>2</th>\n",
       "      <td>2021-01-01</td>\n",
       "      <td>SWEEPING</td>\n",
       "      <td>2021-01-01 12:00:00.000000 UTC</td>\n",
       "      <td>11300.0</td>\n",
       "      <td>ONION CREEK</td>\n",
       "    </tr>\n",
       "    <tr>\n",
       "      <th>3</th>\n",
       "      <td>2021-01-01</td>\n",
       "      <td>SWEEPING</td>\n",
       "      <td>2021-01-01 12:00:00.000000 UTC</td>\n",
       "      <td>11300.0</td>\n",
       "      <td>ONION CREEK</td>\n",
       "    </tr>\n",
       "    <tr>\n",
       "      <th>4</th>\n",
       "      <td>2021-01-02</td>\n",
       "      <td>ORGANICS</td>\n",
       "      <td>2021-01-08 07:21:00.000000 UTC</td>\n",
       "      <td>7040.0</td>\n",
       "      <td>ORGANICS BY GOSH</td>\n",
       "    </tr>\n",
       "    <tr>\n",
       "      <th>...</th>\n",
       "      <td>...</td>\n",
       "      <td>...</td>\n",
       "      <td>...</td>\n",
       "      <td>...</td>\n",
       "      <td>...</td>\n",
       "    </tr>\n",
       "    <tr>\n",
       "      <th>26152</th>\n",
       "      <td>2021-07-09</td>\n",
       "      <td>SWEEPING</td>\n",
       "      <td>2021-07-09 12:00:00.000000 UTC</td>\n",
       "      <td>11300.0</td>\n",
       "      <td>ONION CREEK</td>\n",
       "    </tr>\n",
       "    <tr>\n",
       "      <th>26153</th>\n",
       "      <td>2021-07-09</td>\n",
       "      <td>BRUSH</td>\n",
       "      <td>2021-07-09 01:04:00.000000 UTC</td>\n",
       "      <td>9800.0</td>\n",
       "      <td>HORNSBY BEND</td>\n",
       "    </tr>\n",
       "    <tr>\n",
       "      <th>26154</th>\n",
       "      <td>2021-07-09</td>\n",
       "      <td>BRUSH</td>\n",
       "      <td>2021-07-09 03:45:00.000000 UTC</td>\n",
       "      <td>5500.0</td>\n",
       "      <td>HORNSBY BEND</td>\n",
       "    </tr>\n",
       "    <tr>\n",
       "      <th>26155</th>\n",
       "      <td>2021-07-09</td>\n",
       "      <td>BRUSH</td>\n",
       "      <td>2021-07-09 10:07:00.000000 UTC</td>\n",
       "      <td>7360.0</td>\n",
       "      <td>HORNSBY BEND</td>\n",
       "    </tr>\n",
       "    <tr>\n",
       "      <th>26156</th>\n",
       "      <td>2021-07-09</td>\n",
       "      <td>BRUSH</td>\n",
       "      <td>2021-07-09 12:02:00.000000 UTC</td>\n",
       "      <td>4160.0</td>\n",
       "      <td>HORNSBY BEND</td>\n",
       "    </tr>\n",
       "  </tbody>\n",
       "</table>\n",
       "<p>26157 rows × 5 columns</p>\n",
       "</div>"
      ],
      "text/plain": [
       "      report_date load_type                       load_time  load_weight  \\\n",
       "0      2021-01-01  SWEEPING  2021-01-01 12:00:00.000000 UTC      11300.0   \n",
       "1      2021-01-01  SWEEPING  2021-01-01 12:00:00.000000 UTC      11300.0   \n",
       "2      2021-01-01  SWEEPING  2021-01-01 12:00:00.000000 UTC      11300.0   \n",
       "3      2021-01-01  SWEEPING  2021-01-01 12:00:00.000000 UTC      11300.0   \n",
       "4      2021-01-02  ORGANICS  2021-01-08 07:21:00.000000 UTC       7040.0   \n",
       "...           ...       ...                             ...          ...   \n",
       "26152  2021-07-09  SWEEPING  2021-07-09 12:00:00.000000 UTC      11300.0   \n",
       "26153  2021-07-09     BRUSH  2021-07-09 01:04:00.000000 UTC       9800.0   \n",
       "26154  2021-07-09     BRUSH  2021-07-09 03:45:00.000000 UTC       5500.0   \n",
       "26155  2021-07-09     BRUSH  2021-07-09 10:07:00.000000 UTC       7360.0   \n",
       "26156  2021-07-09     BRUSH  2021-07-09 12:02:00.000000 UTC       4160.0   \n",
       "\n",
       "           dropoff_site  \n",
       "0           ONION CREEK  \n",
       "1           ONION CREEK  \n",
       "2           ONION CREEK  \n",
       "3           ONION CREEK  \n",
       "4      ORGANICS BY GOSH  \n",
       "...                 ...  \n",
       "26152       ONION CREEK  \n",
       "26153      HORNSBY BEND  \n",
       "26154      HORNSBY BEND  \n",
       "26155      HORNSBY BEND  \n",
       "26156      HORNSBY BEND  \n",
       "\n",
       "[26157 rows x 5 columns]"
      ]
     },
     "execution_count": 81,
     "metadata": {},
     "output_type": "execute_result"
    }
   ],
   "source": [
    "df.sort_values('report_date', inplace=True, ignore_index = True) #mengurutkan data berdasarkan report_date\n",
    "df"
   ]
  },
  {
   "attachments": {},
   "cell_type": "markdown",
   "metadata": {},
   "source": [
    "apabila data sudah diurutkan, mari cek kembali apakah masih ada missing values"
   ]
  },
  {
   "cell_type": "code",
   "execution_count": 82,
   "metadata": {},
   "outputs": [
    {
     "data": {
      "text/plain": [
       "report_date     0\n",
       "load_type       0\n",
       "load_time       0\n",
       "load_weight     0\n",
       "dropoff_site    0\n",
       "dtype: int64"
      ]
     },
     "execution_count": 82,
     "metadata": {},
     "output_type": "execute_result"
    }
   ],
   "source": [
    "df.isnull().sum() #mengekecek missing value"
   ]
  },
  {
   "attachments": {},
   "cell_type": "markdown",
   "metadata": {},
   "source": [
    "sekarang sudah tidak ada missing values pada data yang akan kita pakai. "
   ]
  },
  {
   "attachments": {},
   "cell_type": "markdown",
   "metadata": {},
   "source": [
    "selanjutnya, kita akan menghapus kolom load time karena pada kolom tersebut tidak ada data insight yang ingin didapat"
   ]
  },
  {
   "cell_type": "code",
   "execution_count": 83,
   "metadata": {},
   "outputs": [
    {
     "data": {
      "text/html": [
       "<div>\n",
       "<style scoped>\n",
       "    .dataframe tbody tr th:only-of-type {\n",
       "        vertical-align: middle;\n",
       "    }\n",
       "\n",
       "    .dataframe tbody tr th {\n",
       "        vertical-align: top;\n",
       "    }\n",
       "\n",
       "    .dataframe thead th {\n",
       "        text-align: right;\n",
       "    }\n",
       "</style>\n",
       "<table border=\"1\" class=\"dataframe\">\n",
       "  <thead>\n",
       "    <tr style=\"text-align: right;\">\n",
       "      <th></th>\n",
       "      <th>report_date</th>\n",
       "      <th>load_type</th>\n",
       "      <th>load_weight</th>\n",
       "      <th>dropoff_site</th>\n",
       "    </tr>\n",
       "  </thead>\n",
       "  <tbody>\n",
       "    <tr>\n",
       "      <th>0</th>\n",
       "      <td>2021-01-01</td>\n",
       "      <td>SWEEPING</td>\n",
       "      <td>11300.0</td>\n",
       "      <td>ONION CREEK</td>\n",
       "    </tr>\n",
       "    <tr>\n",
       "      <th>1</th>\n",
       "      <td>2021-01-01</td>\n",
       "      <td>SWEEPING</td>\n",
       "      <td>11300.0</td>\n",
       "      <td>ONION CREEK</td>\n",
       "    </tr>\n",
       "    <tr>\n",
       "      <th>2</th>\n",
       "      <td>2021-01-01</td>\n",
       "      <td>SWEEPING</td>\n",
       "      <td>11300.0</td>\n",
       "      <td>ONION CREEK</td>\n",
       "    </tr>\n",
       "    <tr>\n",
       "      <th>3</th>\n",
       "      <td>2021-01-01</td>\n",
       "      <td>SWEEPING</td>\n",
       "      <td>11300.0</td>\n",
       "      <td>ONION CREEK</td>\n",
       "    </tr>\n",
       "    <tr>\n",
       "      <th>4</th>\n",
       "      <td>2021-01-02</td>\n",
       "      <td>ORGANICS</td>\n",
       "      <td>7040.0</td>\n",
       "      <td>ORGANICS BY GOSH</td>\n",
       "    </tr>\n",
       "  </tbody>\n",
       "</table>\n",
       "</div>"
      ],
      "text/plain": [
       "  report_date load_type  load_weight      dropoff_site\n",
       "0  2021-01-01  SWEEPING      11300.0       ONION CREEK\n",
       "1  2021-01-01  SWEEPING      11300.0       ONION CREEK\n",
       "2  2021-01-01  SWEEPING      11300.0       ONION CREEK\n",
       "3  2021-01-01  SWEEPING      11300.0       ONION CREEK\n",
       "4  2021-01-02  ORGANICS       7040.0  ORGANICS BY GOSH"
      ]
     },
     "execution_count": 83,
     "metadata": {},
     "output_type": "execute_result"
    }
   ],
   "source": [
    "df.drop(['load_time'], axis = 1, inplace = True) #menghapus kolom dengan inplace true agar data update\n",
    "df.head()"
   ]
  },
  {
   "attachments": {},
   "cell_type": "markdown",
   "metadata": {},
   "source": [
    "## Problem 1\n",
    "\n",
    "#### Standar Eksplorasi Data"
   ]
  },
  {
   "attachments": {},
   "cell_type": "markdown",
   "metadata": {},
   "source": [
    "pada eksplorasi data kali ini, pertama kita akan melihat kapan tanggal pertama dan terakhir data yang kita miliki"
   ]
  },
  {
   "cell_type": "code",
   "execution_count": 84,
   "metadata": {},
   "outputs": [
    {
     "name": "stdout",
     "output_type": "stream",
     "text": [
      "Tanggal pertama :  2021-01-01 00:00:00\n",
      "Tanggal terakhir :  2021-07-09 00:00:00\n",
      "Rentang waktu data :  189 days 00:00:00\n"
     ]
    }
   ],
   "source": [
    "print('Tanggal pertama : ', df['report_date'].min())     # menggunakan min dan max pada report_date pada dataframe\n",
    "print('Tanggal terakhir : ', df['report_date'].max())\n",
    "print('Rentang waktu data : ', df[\"report_date\"].max() - df[\"report_date\"].min()) #menghitung rentang waktu dengan rumus max - min"
   ]
  },
  {
   "attachments": {},
   "cell_type": "markdown",
   "metadata": {},
   "source": [
    "dapat dilihat rentang waktu dari data yang kita punya ada 189 hari\n",
    "\n",
    "Selanjutnya, mari kita lihat jenis sampah apa saja yang ada di austin. kita bisa menggunakan groupping atau dengan unique indes"
   ]
  },
  {
   "cell_type": "code",
   "execution_count": 85,
   "metadata": {},
   "outputs": [
    {
     "data": {
      "text/html": [
       "<div>\n",
       "<style scoped>\n",
       "    .dataframe tbody tr th:only-of-type {\n",
       "        vertical-align: middle;\n",
       "    }\n",
       "\n",
       "    .dataframe tbody tr th {\n",
       "        vertical-align: top;\n",
       "    }\n",
       "\n",
       "    .dataframe thead th {\n",
       "        text-align: right;\n",
       "    }\n",
       "</style>\n",
       "<table border=\"1\" class=\"dataframe\">\n",
       "  <thead>\n",
       "    <tr style=\"text-align: right;\">\n",
       "      <th></th>\n",
       "      <th>load_weight</th>\n",
       "    </tr>\n",
       "    <tr>\n",
       "      <th>dropoff_site</th>\n",
       "      <th></th>\n",
       "    </tr>\n",
       "  </thead>\n",
       "  <tbody>\n",
       "    <tr>\n",
       "      <th>AUSTIN IRON AND METAL</th>\n",
       "      <td>50</td>\n",
       "    </tr>\n",
       "    <tr>\n",
       "      <th>AUSTIN WOOD RECYCLING</th>\n",
       "      <td>2</td>\n",
       "    </tr>\n",
       "    <tr>\n",
       "      <th>BALCONES RECYCLING</th>\n",
       "      <td>3837</td>\n",
       "    </tr>\n",
       "    <tr>\n",
       "      <th>BALCONES WOODS</th>\n",
       "      <td>1</td>\n",
       "    </tr>\n",
       "    <tr>\n",
       "      <th>GREAT NORTHERN</th>\n",
       "      <td>70</td>\n",
       "    </tr>\n",
       "    <tr>\n",
       "      <th>HORNSBY BEND</th>\n",
       "      <td>1655</td>\n",
       "    </tr>\n",
       "    <tr>\n",
       "      <th>MRF</th>\n",
       "      <td>168</td>\n",
       "    </tr>\n",
       "    <tr>\n",
       "      <th>ON ROUTE HIGH DUMP</th>\n",
       "      <td>81</td>\n",
       "    </tr>\n",
       "    <tr>\n",
       "      <th>ONION CREEK</th>\n",
       "      <td>813</td>\n",
       "    </tr>\n",
       "    <tr>\n",
       "      <th>ORGANICS BY GOSH</th>\n",
       "      <td>5755</td>\n",
       "    </tr>\n",
       "    <tr>\n",
       "      <th>PARK BEND</th>\n",
       "      <td>4</td>\n",
       "    </tr>\n",
       "    <tr>\n",
       "      <th>PARK CENTER</th>\n",
       "      <td>75</td>\n",
       "    </tr>\n",
       "    <tr>\n",
       "      <th>ST. EDWARDS</th>\n",
       "      <td>1</td>\n",
       "    </tr>\n",
       "    <tr>\n",
       "      <th>STEINER LANDFILL</th>\n",
       "      <td>1</td>\n",
       "    </tr>\n",
       "    <tr>\n",
       "      <th>TDS - MRF</th>\n",
       "      <td>2948</td>\n",
       "    </tr>\n",
       "    <tr>\n",
       "      <th>TDS LANDFILL</th>\n",
       "      <td>10694</td>\n",
       "    </tr>\n",
       "    <tr>\n",
       "      <th>WESTFIELD</th>\n",
       "      <td>1</td>\n",
       "    </tr>\n",
       "    <tr>\n",
       "      <th>WILCAB</th>\n",
       "      <td>1</td>\n",
       "    </tr>\n",
       "  </tbody>\n",
       "</table>\n",
       "</div>"
      ],
      "text/plain": [
       "                       load_weight\n",
       "dropoff_site                      \n",
       "AUSTIN IRON AND METAL           50\n",
       "AUSTIN WOOD RECYCLING            2\n",
       "BALCONES RECYCLING            3837\n",
       "BALCONES WOODS                   1\n",
       "GREAT NORTHERN                  70\n",
       "HORNSBY BEND                  1655\n",
       "MRF                            168\n",
       "ON ROUTE HIGH DUMP              81\n",
       "ONION CREEK                    813\n",
       "ORGANICS BY GOSH              5755\n",
       "PARK BEND                        4\n",
       "PARK CENTER                     75\n",
       "ST. EDWARDS                      1\n",
       "STEINER LANDFILL                 1\n",
       "TDS - MRF                     2948\n",
       "TDS LANDFILL                 10694\n",
       "WESTFIELD                        1\n",
       "WILCAB                           1"
      ]
     },
     "execution_count": 85,
     "metadata": {},
     "output_type": "execute_result"
    }
   ],
   "source": [
    "df.groupby(['dropoff_site'])[['load_weight']].count() #grouping data antara dropoff_site dengan load_weight"
   ]
  },
  {
   "cell_type": "code",
   "execution_count": 86,
   "metadata": {},
   "outputs": [
    {
     "name": "stdout",
     "output_type": "stream",
     "text": [
      "['ONION CREEK' 'ORGANICS BY GOSH' 'TDS LANDFILL' 'MRF'\n",
      " 'BALCONES RECYCLING' 'TDS - MRF' 'HORNSBY BEND' 'AUSTIN IRON AND METAL'\n",
      " 'PARK CENTER' 'ON ROUTE HIGH DUMP' 'WILCAB' 'GREAT NORTHERN'\n",
      " 'AUSTIN WOOD RECYCLING' 'PARK BEND' 'BALCONES WOODS' 'STEINER LANDFILL'\n",
      " 'WESTFIELD' 'ST. EDWARDS']\n"
     ]
    },
    {
     "data": {
      "text/plain": [
       "18"
      ]
     },
     "execution_count": 86,
     "metadata": {},
     "output_type": "execute_result"
    }
   ],
   "source": [
    "print(df.dropoff_site.unique())            #melihat unique values pada dropoff_site\n",
    "df.dropoff_site.nunique()                  #melihat ada berapa unique values pada dropoff_site"
   ]
  },
  {
   "attachments": {},
   "cell_type": "markdown",
   "metadata": {},
   "source": [
    "dari sini terlihat bahwa ada 18 tempat pembuangan sampah"
   ]
  },
  {
   "attachments": {},
   "cell_type": "markdown",
   "metadata": {},
   "source": [
    "selanjutnya, kita akan melihat ada apa saja tipe sampah di austin. kita dapat memanggilnya dengan hal yang sama"
   ]
  },
  {
   "cell_type": "code",
   "execution_count": 87,
   "metadata": {},
   "outputs": [
    {
     "data": {
      "text/html": [
       "<div>\n",
       "<style scoped>\n",
       "    .dataframe tbody tr th:only-of-type {\n",
       "        vertical-align: middle;\n",
       "    }\n",
       "\n",
       "    .dataframe tbody tr th {\n",
       "        vertical-align: top;\n",
       "    }\n",
       "\n",
       "    .dataframe thead th {\n",
       "        text-align: right;\n",
       "    }\n",
       "</style>\n",
       "<table border=\"1\" class=\"dataframe\">\n",
       "  <thead>\n",
       "    <tr style=\"text-align: right;\">\n",
       "      <th></th>\n",
       "      <th>load_weight</th>\n",
       "    </tr>\n",
       "    <tr>\n",
       "      <th>load_type</th>\n",
       "      <th></th>\n",
       "    </tr>\n",
       "  </thead>\n",
       "  <tbody>\n",
       "    <tr>\n",
       "      <th>BRUSH</th>\n",
       "      <td>9473580.0</td>\n",
       "    </tr>\n",
       "    <tr>\n",
       "      <th>BULK</th>\n",
       "      <td>12940740.0</td>\n",
       "    </tr>\n",
       "    <tr>\n",
       "      <th>CONTAMINATED ORGANICS</th>\n",
       "      <td>25380.0</td>\n",
       "    </tr>\n",
       "    <tr>\n",
       "      <th>CONTAMINATED RECYCLING</th>\n",
       "      <td>5160.0</td>\n",
       "    </tr>\n",
       "    <tr>\n",
       "      <th>DEAD ANIMAL</th>\n",
       "      <td>24650.0</td>\n",
       "    </tr>\n",
       "    <tr>\n",
       "      <th>GARBAGE COLLECTIONS</th>\n",
       "      <td>145159143.0</td>\n",
       "    </tr>\n",
       "    <tr>\n",
       "      <th>LITTER</th>\n",
       "      <td>128680.0</td>\n",
       "    </tr>\n",
       "    <tr>\n",
       "      <th>MIXED LITTER</th>\n",
       "      <td>1051780.0</td>\n",
       "    </tr>\n",
       "    <tr>\n",
       "      <th>ORGANICS</th>\n",
       "      <td>68088566.0</td>\n",
       "    </tr>\n",
       "    <tr>\n",
       "      <th>RECYCLED METAL</th>\n",
       "      <td>85670.0</td>\n",
       "    </tr>\n",
       "    <tr>\n",
       "      <th>RECYCLING - SINGLE STREAM</th>\n",
       "      <td>64954430.0</td>\n",
       "    </tr>\n",
       "    <tr>\n",
       "      <th>SWEEPING</th>\n",
       "      <td>15101480.0</td>\n",
       "    </tr>\n",
       "    <tr>\n",
       "      <th>TIRES</th>\n",
       "      <td>309787.0</td>\n",
       "    </tr>\n",
       "    <tr>\n",
       "      <th>YARD TRIMMING</th>\n",
       "      <td>1504520.0</td>\n",
       "    </tr>\n",
       "  </tbody>\n",
       "</table>\n",
       "</div>"
      ],
      "text/plain": [
       "                           load_weight\n",
       "load_type                             \n",
       "BRUSH                        9473580.0\n",
       "BULK                        12940740.0\n",
       "CONTAMINATED ORGANICS          25380.0\n",
       "CONTAMINATED RECYCLING          5160.0\n",
       "DEAD ANIMAL                    24650.0\n",
       "GARBAGE COLLECTIONS        145159143.0\n",
       "LITTER                        128680.0\n",
       "MIXED LITTER                 1051780.0\n",
       "ORGANICS                    68088566.0\n",
       "RECYCLED METAL                 85670.0\n",
       "RECYCLING - SINGLE STREAM   64954430.0\n",
       "SWEEPING                    15101480.0\n",
       "TIRES                         309787.0\n",
       "YARD TRIMMING                1504520.0"
      ]
     },
     "execution_count": 87,
     "metadata": {},
     "output_type": "execute_result"
    }
   ],
   "source": [
    "df.groupby(['load_type'])[['load_weight']].sum().round(0) #grouping data antara dropoff_site dengan load_weight"
   ]
  },
  {
   "cell_type": "code",
   "execution_count": 88,
   "metadata": {},
   "outputs": [
    {
     "name": "stdout",
     "output_type": "stream",
     "text": [
      "['SWEEPING' 'ORGANICS' 'GARBAGE COLLECTIONS' 'TIRES'\n",
      " 'RECYCLING - SINGLE STREAM' 'DEAD ANIMAL' 'BULK' 'YARD TRIMMING'\n",
      " 'MIXED LITTER' 'BRUSH' 'RECYCLED METAL' 'LITTER' 'CONTAMINATED RECYCLING'\n",
      " 'CONTAMINATED ORGANICS']\n"
     ]
    },
    {
     "data": {
      "text/plain": [
       "14"
      ]
     },
     "execution_count": 88,
     "metadata": {},
     "output_type": "execute_result"
    }
   ],
   "source": [
    "print(df.load_type.unique())            #melihat unique values pada load_type\n",
    "df.load_type.nunique()                  #melihat ada berapa unique values pada load_type"
   ]
  },
  {
   "attachments": {},
   "cell_type": "markdown",
   "metadata": {},
   "source": [
    "sekarang kita lihat ada 14 tipe sampah di austin"
   ]
  },
  {
   "attachments": {},
   "cell_type": "markdown",
   "metadata": {},
   "source": [
    "### Central Tendency"
   ]
  },
  {
   "attachments": {},
   "cell_type": "markdown",
   "metadata": {},
   "source": [
    "sekarang kita akan melihat mean, median dan modus dari tabel berikut untuk melihat insight apa yang kita dapat"
   ]
  },
  {
   "cell_type": "code",
   "execution_count": 89,
   "metadata": {},
   "outputs": [
    {
     "name": "stdout",
     "output_type": "stream",
     "text": [
      "mean :  12189.989889490384\n",
      "meadian :  11300.0\n",
      "dropoff_site mode :  0    TDS LANDFILL\n",
      "Name: dropoff_site, dtype: object\n",
      "load_type mode :  0    GARBAGE COLLECTIONS\n",
      "Name: load_type, dtype: object\n"
     ]
    }
   ],
   "source": [
    "print('mean : ', df['load_weight'].mean())                  # menghitung mean dari semua data\n",
    "print('meadian : ', df['load_weight'].median())             # menghitung median dari semua data\n",
    "print('dropoff_site mode : ', df.dropoff_site.mode())       # melihat modus pada kolom dropoff_site\n",
    "print('load_type mode : ', df.load_type.mode())             # melihat modus pada kolom load_type"
   ]
  },
  {
   "attachments": {},
   "cell_type": "markdown",
   "metadata": {},
   "source": [
    "dapat dilihat bahwa dropoff_site terbanyak berada di TDS LANDFILL dan load_type terbanyak yaitu GARBAGE COLLECTION"
   ]
  },
  {
   "attachments": {},
   "cell_type": "markdown",
   "metadata": {},
   "source": [
    "Insight yang akan kita beri pada pemerintah kota bahwa sampah yang dihasilkan kota austin memiliki rata-rata 12.189KG dan tipe sampah yang dihasilkan adalah GARBAGE COLLECTION serta tempat pembuangan terbanyak berada di TDS LANDFILL"
   ]
  },
  {
   "attachments": {},
   "cell_type": "markdown",
   "metadata": {},
   "source": [
    "### memilih site yang paling menarik"
   ]
  },
  {
   "attachments": {},
   "cell_type": "markdown",
   "metadata": {},
   "source": [
    "setelah melakukan eksplorasi data, kita dapat melihat bahwa RECYCLING - SINGLE STREAM adalah data load_type yang menurut saya menarik karna termasuk sampah daur ulang dan menurut saya sampah tersebut sangat menarik bagi saya\n",
    "\n",
    "sekarang kita akan mengecek dimanakah RECYCLING - SINGLE STREAM paling bannyak dibuang"
   ]
  },
  {
   "cell_type": "code",
   "execution_count": 90,
   "metadata": {},
   "outputs": [
    {
     "data": {
      "text/plain": [
       "dropoff_site\n",
       "AUSTIN WOOD RECYCLING        8100.0\n",
       "BALCONES RECYCLING       36315870.0\n",
       "BALCONES WOODS               8460.0\n",
       "TDS - MRF                28614260.0\n",
       "TDS LANDFILL                 7740.0\n",
       "Name: load_weight, dtype: float64"
      ]
     },
     "execution_count": 90,
     "metadata": {},
     "output_type": "execute_result"
    }
   ],
   "source": [
    "type = df.loc[df['load_type']=='RECYCLING - SINGLE STREAM']                               # memanggil hanya GARBAGE COLLECTION saja\n",
    "site = type.groupby(by = 'dropoff_site', sort = True)['load_weight'].sum().round(0) # membuat groupping dengan dropoff_site untuk melihat tempat yang paling banyak load_weight\n",
    "site"
   ]
  },
  {
   "attachments": {},
   "cell_type": "markdown",
   "metadata": {},
   "source": [
    "terlihat RECYCLING - SINGLE STREAM dibuang dimana saja. yang terbanyak diantaranya adalah BALCONES RECYCLING. site tersebutlah yang akan kita eksplor lebih jauh"
   ]
  },
  {
   "attachments": {},
   "cell_type": "markdown",
   "metadata": {},
   "source": [
    "### Site BALCONES RECYCLING"
   ]
  },
  {
   "attachments": {},
   "cell_type": "markdown",
   "metadata": {},
   "source": [
    "akhirnya kita memilih site BALCONES RECYCLING. sekarang kita akan memfilter dataframe dengan menampilkan hanya dropoff_site BALCONES RECYCLING"
   ]
  },
  {
   "cell_type": "code",
   "execution_count": 91,
   "metadata": {},
   "outputs": [
    {
     "data": {
      "text/html": [
       "<div>\n",
       "<style scoped>\n",
       "    .dataframe tbody tr th:only-of-type {\n",
       "        vertical-align: middle;\n",
       "    }\n",
       "\n",
       "    .dataframe tbody tr th {\n",
       "        vertical-align: top;\n",
       "    }\n",
       "\n",
       "    .dataframe thead th {\n",
       "        text-align: right;\n",
       "    }\n",
       "</style>\n",
       "<table border=\"1\" class=\"dataframe\">\n",
       "  <thead>\n",
       "    <tr style=\"text-align: right;\">\n",
       "      <th></th>\n",
       "      <th>report_date</th>\n",
       "      <th>load_type</th>\n",
       "      <th>load_weight</th>\n",
       "      <th>dropoff_site</th>\n",
       "    </tr>\n",
       "  </thead>\n",
       "  <tbody>\n",
       "    <tr>\n",
       "      <th>24</th>\n",
       "      <td>2021-01-02</td>\n",
       "      <td>RECYCLING - SINGLE STREAM</td>\n",
       "      <td>6740.0</td>\n",
       "      <td>BALCONES RECYCLING</td>\n",
       "    </tr>\n",
       "    <tr>\n",
       "      <th>25</th>\n",
       "      <td>2021-01-02</td>\n",
       "      <td>RECYCLING - SINGLE STREAM</td>\n",
       "      <td>8660.0</td>\n",
       "      <td>BALCONES RECYCLING</td>\n",
       "    </tr>\n",
       "    <tr>\n",
       "      <th>26</th>\n",
       "      <td>2021-01-02</td>\n",
       "      <td>RECYCLING - SINGLE STREAM</td>\n",
       "      <td>4440.0</td>\n",
       "      <td>BALCONES RECYCLING</td>\n",
       "    </tr>\n",
       "    <tr>\n",
       "      <th>27</th>\n",
       "      <td>2021-01-02</td>\n",
       "      <td>RECYCLING - SINGLE STREAM</td>\n",
       "      <td>5020.0</td>\n",
       "      <td>BALCONES RECYCLING</td>\n",
       "    </tr>\n",
       "    <tr>\n",
       "      <th>28</th>\n",
       "      <td>2021-01-02</td>\n",
       "      <td>RECYCLING - SINGLE STREAM</td>\n",
       "      <td>8500.0</td>\n",
       "      <td>BALCONES RECYCLING</td>\n",
       "    </tr>\n",
       "    <tr>\n",
       "      <th>...</th>\n",
       "      <td>...</td>\n",
       "      <td>...</td>\n",
       "      <td>...</td>\n",
       "      <td>...</td>\n",
       "    </tr>\n",
       "    <tr>\n",
       "      <th>25958</th>\n",
       "      <td>2021-07-07</td>\n",
       "      <td>RECYCLING - SINGLE STREAM</td>\n",
       "      <td>4740.0</td>\n",
       "      <td>BALCONES RECYCLING</td>\n",
       "    </tr>\n",
       "    <tr>\n",
       "      <th>25964</th>\n",
       "      <td>2021-07-07</td>\n",
       "      <td>RECYCLING - SINGLE STREAM</td>\n",
       "      <td>8660.0</td>\n",
       "      <td>BALCONES RECYCLING</td>\n",
       "    </tr>\n",
       "    <tr>\n",
       "      <th>25966</th>\n",
       "      <td>2021-07-07</td>\n",
       "      <td>RECYCLING - SINGLE STREAM</td>\n",
       "      <td>4540.0</td>\n",
       "      <td>BALCONES RECYCLING</td>\n",
       "    </tr>\n",
       "    <tr>\n",
       "      <th>25967</th>\n",
       "      <td>2021-07-07</td>\n",
       "      <td>RECYCLING - SINGLE STREAM</td>\n",
       "      <td>9900.0</td>\n",
       "      <td>BALCONES RECYCLING</td>\n",
       "    </tr>\n",
       "    <tr>\n",
       "      <th>25968</th>\n",
       "      <td>2021-07-07</td>\n",
       "      <td>RECYCLING - SINGLE STREAM</td>\n",
       "      <td>11940.0</td>\n",
       "      <td>BALCONES RECYCLING</td>\n",
       "    </tr>\n",
       "  </tbody>\n",
       "</table>\n",
       "<p>3837 rows × 4 columns</p>\n",
       "</div>"
      ],
      "text/plain": [
       "      report_date                  load_type  load_weight        dropoff_site\n",
       "24     2021-01-02  RECYCLING - SINGLE STREAM       6740.0  BALCONES RECYCLING\n",
       "25     2021-01-02  RECYCLING - SINGLE STREAM       8660.0  BALCONES RECYCLING\n",
       "26     2021-01-02  RECYCLING - SINGLE STREAM       4440.0  BALCONES RECYCLING\n",
       "27     2021-01-02  RECYCLING - SINGLE STREAM       5020.0  BALCONES RECYCLING\n",
       "28     2021-01-02  RECYCLING - SINGLE STREAM       8500.0  BALCONES RECYCLING\n",
       "...           ...                        ...          ...                 ...\n",
       "25958  2021-07-07  RECYCLING - SINGLE STREAM       4740.0  BALCONES RECYCLING\n",
       "25964  2021-07-07  RECYCLING - SINGLE STREAM       8660.0  BALCONES RECYCLING\n",
       "25966  2021-07-07  RECYCLING - SINGLE STREAM       4540.0  BALCONES RECYCLING\n",
       "25967  2021-07-07  RECYCLING - SINGLE STREAM       9900.0  BALCONES RECYCLING\n",
       "25968  2021-07-07  RECYCLING - SINGLE STREAM      11940.0  BALCONES RECYCLING\n",
       "\n",
       "[3837 rows x 4 columns]"
      ]
     },
     "execution_count": 91,
     "metadata": {},
     "output_type": "execute_result"
    }
   ],
   "source": [
    "df1 = df.loc[df['dropoff_site']=='BALCONES RECYCLING']        # memuat hanya dropoff_site BALCONES RECYCLING\n",
    "df1"
   ]
  },
  {
   "attachments": {},
   "cell_type": "markdown",
   "metadata": {},
   "source": [
    "setelah kita memfilter data, kita akan membuat presentasenya dengan dropoff_site lain"
   ]
  },
  {
   "cell_type": "code",
   "execution_count": 92,
   "metadata": {},
   "outputs": [
    {
     "name": "stdout",
     "output_type": "stream",
     "text": [
      "11.39  %\n"
     ]
    }
   ],
   "source": [
    "# menghitung persentase sampah BALCONES RECYCLING dengan yang lain\n",
    "balcones_recycling = df1['load_weight'].sum().round(0)\n",
    "total_waste = df['load_weight'].sum().round(0)\n",
    "percent = (balcones_recycling/total_waste).round(4)\n",
    "print(percent*100, ' %')"
   ]
  },
  {
   "attachments": {},
   "cell_type": "markdown",
   "metadata": {},
   "source": [
    "dapat dilihat bahwa BALCONES RECYCLING dapat menampung kurang lebih 12% sampah di kota Austin\n",
    "\n",
    "selanjutnya kita akan melihat distribusi data dari BALCONES RECYCLING"
   ]
  },
  {
   "cell_type": "code",
   "execution_count": 93,
   "metadata": {},
   "outputs": [
    {
     "data": {
      "image/png": "[encoded data removed]",
      "text/plain": [
       "<Figure size 640x480 with 1 Axes>"
      ]
     },
     "metadata": {},
     "output_type": "display_data"
    }
   ],
   "source": [
    "# creating histogram for BALCONES RECYCLING waste load weight data\n",
    "df1.plot.hist(title='BALCONES RECYCLING', color='lightblue', bins=25)   \n",
    "plt.axvline(df1['load_weight'].mean(), color='red', linestyle='dashed', linewidth=3)\n",
    "plt.axvline(df1['load_weight'].median(), color='green', linestyle='dashed', linewidth=2)\n",
    "plt.show()"
   ]
  },
  {
   "attachments": {},
   "cell_type": "markdown",
   "metadata": {},
   "source": [
    "dapat dilihat bahwa data di BALCONES RECYCLING adalah fairly symmetrical. mari kita cari berapakah nilai skew BALCONES RECYCLING"
   ]
  },
  {
   "cell_type": "code",
   "execution_count": 94,
   "metadata": {},
   "outputs": [
    {
     "data": {
      "text/plain": [
       "0.10148179348246145"
      ]
     },
     "execution_count": 94,
     "metadata": {},
     "output_type": "execute_result"
    }
   ],
   "source": [
    "df1['load_weight'].skew()"
   ]
  },
  {
   "attachments": {},
   "cell_type": "markdown",
   "metadata": {},
   "source": [
    "dari hasil diatas dapat diartikan nilai skew yang kita miliki termasuk kedalam fairly symmetrical\n",
    "\n",
    "sekarang mari kita lihat apakah ada outliers dalam data yang kita miliki"
   ]
  },
  {
   "cell_type": "code",
   "execution_count": 95,
   "metadata": {},
   "outputs": [
    {
     "data": {
      "text/plain": [
       "<AxesSubplot:ylabel='load_weight'>"
      ]
     },
     "execution_count": 95,
     "metadata": {},
     "output_type": "execute_result"
    },
    {
     "data": {
      "image/png": "[encoded data removed]",
      "text/plain": [
       "<Figure size 640x480 with 1 Axes>"
      ]
     },
     "metadata": {},
     "output_type": "display_data"
    }
   ],
   "source": [
    "sns.boxplot(data=df1, y = 'load_weight')"
   ]
  },
  {
   "attachments": {},
   "cell_type": "markdown",
   "metadata": {},
   "source": [
    "hasil diatas dapat terlihat bahwa beberapa outliers berada tidak terlalu jauh dari batas atas\n",
    "\n",
    "dapat diartikan bahwa kita akan menghandle outliers menggunakan metode IQR. Namun, kita harus mencari dahulu nilai kuartil, jarak kuartil, batas atas dan bawah. setelah itu dapat terlihat apakah outliers yang kita miliki melebihi batas atas atau bawah\n",
    "\n",
    "langkah awal kita akan mencari nilai kuartil terlebih dahulu"
   ]
  },
  {
   "cell_type": "code",
   "execution_count": 96,
   "metadata": {},
   "outputs": [
    {
     "name": "stdout",
     "output_type": "stream",
     "text": [
      "Min: 140.000\n",
      "Q1: 6260.000\n",
      "Median: 9840.000\n",
      "Q3: 12080.000\n",
      "Max: 25780.000\n"
     ]
    }
   ],
   "source": [
    "quartiles = percentile(df1['load_weight'], [25, 50, 75])                    #menghitung kuartil\n",
    "\n",
    "fav_min, fav_max = df1['load_weight'].min(), df1['load_weight'].max()       #menghitung min dan max\n",
    "\n",
    "q1 = quartiles[0]\n",
    "q2 = quartiles[1]                                                           #menghitung median\n",
    "q3 = quartiles[2]\n",
    "\n",
    "print('Min: %.3f' % fav_min)\n",
    "print('Q1: %.3f' % q1)\n",
    "print('Median: %.3f' % q2)                                                  #memanggil rumus diatas\n",
    "print('Q3: %.3f' % q3)\n",
    "print('Max: %.3f' % fav_max)"
   ]
  },
  {
   "attachments": {},
   "cell_type": "markdown",
   "metadata": {},
   "source": [
    "selanjutnya kita menghitung IQR dan batas atas dan bawah"
   ]
  },
  {
   "cell_type": "code",
   "execution_count": 97,
   "metadata": {},
   "outputs": [
    {
     "name": "stdout",
     "output_type": "stream",
     "text": [
      "IQR =  5820.0\n",
      "Batas Atas =  20810.0\n",
      "Batas Bawah =  -2470.0\n"
     ]
    }
   ],
   "source": [
    "iqr = q3 - q1                           #rumus IQR\n",
    "   \n",
    "up_bound = q3 + 1.5*iqr                   #rumus batas atas\n",
    "\n",
    "lo_bound = q1 - 1.5*iqr                   #rumus batas bawah\n",
    "\n",
    "print('IQR = ', iqr)\n",
    "print('Batas Atas = ', up_bound)        #memanggil 3 rumus diatas\n",
    "print('Batas Bawah = ', lo_bound)"
   ]
  },
  {
   "attachments": {},
   "cell_type": "markdown",
   "metadata": {},
   "source": [
    "sekarang, kita mendapat apa yang kita inginkan. dikarenakan data yang kita miliki tidak mungkin bernilai minus, maka batas bawah kita ganti dengan nilai '0'. jadi kita hanya perlu mencari data yang melewati batas atas\n",
    "\n",
    "mari kita cari outliers yang melewati batas atas"
   ]
  },
  {
   "cell_type": "code",
   "execution_count": 98,
   "metadata": {},
   "outputs": [
    {
     "name": "stderr",
     "output_type": "stream",
     "text": [
      "C:\\Users\\Lenovo\\AppData\\Local\\Temp\\ipykernel_20080\\3744300750.py:1: UserWarning: Boolean Series key will be reindexed to match DataFrame index.\n",
      "  df1[(df['load_weight'] > 20810)]     #memanggil data yang melewati batas atas\n"
     ]
    },
    {
     "data": {
      "text/html": [
       "<div>\n",
       "<style scoped>\n",
       "    .dataframe tbody tr th:only-of-type {\n",
       "        vertical-align: middle;\n",
       "    }\n",
       "\n",
       "    .dataframe tbody tr th {\n",
       "        vertical-align: top;\n",
       "    }\n",
       "\n",
       "    .dataframe thead th {\n",
       "        text-align: right;\n",
       "    }\n",
       "</style>\n",
       "<table border=\"1\" class=\"dataframe\">\n",
       "  <thead>\n",
       "    <tr style=\"text-align: right;\">\n",
       "      <th></th>\n",
       "      <th>report_date</th>\n",
       "      <th>load_type</th>\n",
       "      <th>load_weight</th>\n",
       "      <th>dropoff_site</th>\n",
       "    </tr>\n",
       "  </thead>\n",
       "  <tbody>\n",
       "    <tr>\n",
       "      <th>136</th>\n",
       "      <td>2021-01-02</td>\n",
       "      <td>RECYCLING - SINGLE STREAM</td>\n",
       "      <td>20980.0</td>\n",
       "      <td>BALCONES RECYCLING</td>\n",
       "    </tr>\n",
       "    <tr>\n",
       "      <th>809</th>\n",
       "      <td>2021-01-07</td>\n",
       "      <td>RECYCLING - SINGLE STREAM</td>\n",
       "      <td>21400.0</td>\n",
       "      <td>BALCONES RECYCLING</td>\n",
       "    </tr>\n",
       "    <tr>\n",
       "      <th>818</th>\n",
       "      <td>2021-01-07</td>\n",
       "      <td>RECYCLING - SINGLE STREAM</td>\n",
       "      <td>21400.0</td>\n",
       "      <td>BALCONES RECYCLING</td>\n",
       "    </tr>\n",
       "    <tr>\n",
       "      <th>18243</th>\n",
       "      <td>2021-05-11</td>\n",
       "      <td>RECYCLING - SINGLE STREAM</td>\n",
       "      <td>21060.0</td>\n",
       "      <td>BALCONES RECYCLING</td>\n",
       "    </tr>\n",
       "    <tr>\n",
       "      <th>18413</th>\n",
       "      <td>2021-05-12</td>\n",
       "      <td>RECYCLING - SINGLE STREAM</td>\n",
       "      <td>23240.0</td>\n",
       "      <td>BALCONES RECYCLING</td>\n",
       "    </tr>\n",
       "    <tr>\n",
       "      <th>20447</th>\n",
       "      <td>2021-05-26</td>\n",
       "      <td>RECYCLING - SINGLE STREAM</td>\n",
       "      <td>21470.0</td>\n",
       "      <td>BALCONES RECYCLING</td>\n",
       "    </tr>\n",
       "    <tr>\n",
       "      <th>22239</th>\n",
       "      <td>2021-06-09</td>\n",
       "      <td>RECYCLING - SINGLE STREAM</td>\n",
       "      <td>25780.0</td>\n",
       "      <td>BALCONES RECYCLING</td>\n",
       "    </tr>\n",
       "    <tr>\n",
       "      <th>22246</th>\n",
       "      <td>2021-06-09</td>\n",
       "      <td>RECYCLING - SINGLE STREAM</td>\n",
       "      <td>22480.0</td>\n",
       "      <td>BALCONES RECYCLING</td>\n",
       "    </tr>\n",
       "  </tbody>\n",
       "</table>\n",
       "</div>"
      ],
      "text/plain": [
       "      report_date                  load_type  load_weight        dropoff_site\n",
       "136    2021-01-02  RECYCLING - SINGLE STREAM      20980.0  BALCONES RECYCLING\n",
       "809    2021-01-07  RECYCLING - SINGLE STREAM      21400.0  BALCONES RECYCLING\n",
       "818    2021-01-07  RECYCLING - SINGLE STREAM      21400.0  BALCONES RECYCLING\n",
       "18243  2021-05-11  RECYCLING - SINGLE STREAM      21060.0  BALCONES RECYCLING\n",
       "18413  2021-05-12  RECYCLING - SINGLE STREAM      23240.0  BALCONES RECYCLING\n",
       "20447  2021-05-26  RECYCLING - SINGLE STREAM      21470.0  BALCONES RECYCLING\n",
       "22239  2021-06-09  RECYCLING - SINGLE STREAM      25780.0  BALCONES RECYCLING\n",
       "22246  2021-06-09  RECYCLING - SINGLE STREAM      22480.0  BALCONES RECYCLING"
      ]
     },
     "execution_count": 98,
     "metadata": {},
     "output_type": "execute_result"
    }
   ],
   "source": [
    "df1[(df['load_weight'] > 20810)]     #memanggil data yang melewati batas atas"
   ]
  },
  {
   "attachments": {},
   "cell_type": "markdown",
   "metadata": {},
   "source": [
    "kita telah menemukan 8 data yang melebihi batas atas\n",
    "\n",
    "seekarang kita akan melihat persentase outliers BALCONES RECYCLING dan akan membandingkannya dengan seluruh data yang kita miliki"
   ]
  },
  {
   "cell_type": "code",
   "execution_count": 99,
   "metadata": {},
   "outputs": [
    {
     "name": "stdout",
     "output_type": "stream",
     "text": [
      "outliers BALCONES RECYCLING : Semua data=  0.030584547157548644 %\n",
      "outliers BALCONES RECYCLING =  0.20849622100599427 %\n"
     ]
    },
    {
     "name": "stderr",
     "output_type": "stream",
     "text": [
      "C:\\Users\\Lenovo\\AppData\\Local\\Temp\\ipykernel_20080\\2919090242.py:1: UserWarning: Boolean Series key will be reindexed to match DataFrame index.\n",
      "  out_all = df1[(df['load_weight'] >  20810)].value_counts().sum()/df.value_counts().sum() * 100\n",
      "C:\\Users\\Lenovo\\AppData\\Local\\Temp\\ipykernel_20080\\2919090242.py:2: UserWarning: Boolean Series key will be reindexed to match DataFrame index.\n",
      "  out_tds = df1[(df['load_weight'] >  20810)].value_counts().sum()/df1['load_weight'].value_counts().sum() * 100\n"
     ]
    }
   ],
   "source": [
    "out_all = df1[(df['load_weight'] >  20810)].value_counts().sum()/df.value_counts().sum() * 100 \n",
    "out_tds = df1[(df['load_weight'] >  20810)].value_counts().sum()/df1['load_weight'].value_counts().sum() * 100\n",
    "\n",
    "print('outliers BALCONES RECYCLING : Semua data= ', out_all,'%')\n",
    "print('outliers BALCONES RECYCLING = ', out_tds,'%')"
   ]
  },
  {
   "attachments": {},
   "cell_type": "markdown",
   "metadata": {},
   "source": [
    "sekarang kita dapat simpulkan bahwa outliers di TDS LANDFILL hanya 0,01% dari semua data yang kita milliki dan hanya 0,4% outliers di TDS LANDFILL\n",
    "\n",
    "dengan hasil tersebut kita akan membandingkan apakah ada pengaruh apabila tidak ada outliers"
   ]
  },
  {
   "cell_type": "code",
   "execution_count": 100,
   "metadata": {},
   "outputs": [
    {
     "name": "stderr",
     "output_type": "stream",
     "text": [
      "C:\\Users\\Lenovo\\AppData\\Local\\Temp\\ipykernel_20080\\4239082790.py:1: SettingWithCopyWarning: \n",
      "A value is trying to be set on a copy of a slice from a DataFrame\n",
      "\n",
      "See the caveats in the documentation: https://pandas.pydata.org/pandas-docs/stable/user_guide/indexing.html#returning-a-view-versus-a-copy\n",
      "  df1.drop(index = [136,809,818,18243,18413,20447,22239,22246], inplace = True)     # menghapus data outliers\n"
     ]
    }
   ],
   "source": [
    "df1.drop(index = [136,809,818,18243,18413,20447,22239,22246], inplace = True)     # menghapus data outliers"
   ]
  },
  {
   "attachments": {},
   "cell_type": "markdown",
   "metadata": {},
   "source": [
    "kita cek kembali apakah masih ada outliers"
   ]
  },
  {
   "cell_type": "code",
   "execution_count": 101,
   "metadata": {},
   "outputs": [
    {
     "data": {
      "text/html": [
       "<div>\n",
       "<style scoped>\n",
       "    .dataframe tbody tr th:only-of-type {\n",
       "        vertical-align: middle;\n",
       "    }\n",
       "\n",
       "    .dataframe tbody tr th {\n",
       "        vertical-align: top;\n",
       "    }\n",
       "\n",
       "    .dataframe thead th {\n",
       "        text-align: right;\n",
       "    }\n",
       "</style>\n",
       "<table border=\"1\" class=\"dataframe\">\n",
       "  <thead>\n",
       "    <tr style=\"text-align: right;\">\n",
       "      <th></th>\n",
       "      <th>report_date</th>\n",
       "      <th>load_type</th>\n",
       "      <th>load_weight</th>\n",
       "      <th>dropoff_site</th>\n",
       "    </tr>\n",
       "  </thead>\n",
       "  <tbody>\n",
       "  </tbody>\n",
       "</table>\n",
       "</div>"
      ],
      "text/plain": [
       "Empty DataFrame\n",
       "Columns: [report_date, load_type, load_weight, dropoff_site]\n",
       "Index: []"
      ]
     },
     "execution_count": 101,
     "metadata": {},
     "output_type": "execute_result"
    }
   ],
   "source": [
    "df1[(df1['load_weight'] > 20810)]       # checking if dropping outliers is successful"
   ]
  },
  {
   "attachments": {},
   "cell_type": "markdown",
   "metadata": {},
   "source": [
    "data yang melewati batas atas sudah tidak ada. kita akan cek kembali menggunakan boxplot"
   ]
  },
  {
   "cell_type": "code",
   "execution_count": 102,
   "metadata": {},
   "outputs": [
    {
     "data": {
      "text/plain": [
       "<AxesSubplot:ylabel='load_weight'>"
      ]
     },
     "execution_count": 102,
     "metadata": {},
     "output_type": "execute_result"
    },
    {
     "data": {
      "image/png": "[encoded data removed]",
      "text/plain": [
       "<Figure size 640x480 with 1 Axes>"
      ]
     },
     "metadata": {},
     "output_type": "display_data"
    }
   ],
   "source": [
    "sns.boxplot(data=df1, y = 'load_weight')"
   ]
  },
  {
   "attachments": {},
   "cell_type": "markdown",
   "metadata": {},
   "source": [
    "dari gambar diatas membuktikan bahwa titik hitam sudah berkurang"
   ]
  },
  {
   "cell_type": "code",
   "execution_count": 103,
   "metadata": {},
   "outputs": [
    {
     "data": {
      "image/png": "[encoded data removed]",
      "text/plain": [
       "<Figure size 640x480 with 1 Axes>"
      ]
     },
     "metadata": {},
     "output_type": "display_data"
    }
   ],
   "source": [
    "df1.plot.hist(title='BALCONES RECYCLING', color='cyan', bins=25)  \n",
    "plt.axvline(df1['load_weight'].mean(), color='yellow', linestyle='dashed', linewidth=3)\n",
    "plt.axvline(df1['load_weight'].median(), color='magenta', linestyle='dashed', linewidth=2)\n",
    "plt.show()"
   ]
  },
  {
   "attachments": {},
   "cell_type": "markdown",
   "metadata": {},
   "source": [
    "sekarang kita akan membandingkan central tendency dari TDS LANDFILL dengan atau tanpa outliers"
   ]
  },
  {
   "cell_type": "code",
   "execution_count": 104,
   "metadata": {},
   "outputs": [
    {
     "name": "stdout",
     "output_type": "stream",
     "text": [
      "mean dengan outliers =  9464.652071931196\n",
      "mean tanpa outliers =  9437.98903107861\n",
      " \n",
      "median dengan outliers =  9840.0\n",
      "median tanpa outliers =  9820.0\n",
      " \n",
      "mode dengan outliers =  0    11880.0\n",
      "Name: load_weight, dtype: float64\n",
      "mode tanppa outliers =  0    11880.0\n",
      "Name: load_weight, dtype: float64\n"
     ]
    }
   ],
   "source": [
    "print('mean dengan outliers = ', df.loc[df['dropoff_site']=='BALCONES RECYCLING']['load_weight'].mean())\n",
    "print('mean tanpa outliers = ',df1['load_weight'].mean())\n",
    "print(' ')\n",
    "print('median dengan outliers = ', df.loc[df['dropoff_site']=='BALCONES RECYCLING']['load_weight'].median())\n",
    "print('median tanpa outliers = ',df1['load_weight'].median())\n",
    "print(' ')\n",
    "print('mode dengan outliers = ', df.loc[df['dropoff_site']=='BALCONES RECYCLING']['load_weight'].mode())\n",
    "print('mode tanppa outliers = ',df1['load_weight'].mode())"
   ]
  },
  {
   "attachments": {},
   "cell_type": "markdown",
   "metadata": {},
   "source": [
    "dari perbandingan tersebut dapat diartikan bahwa tidak ada perbedaan yaang signifikan tanpa adanya outliers. bahkan media dan modus pada data tersebut tidak berubah karena hanya 8 dari 3837 yang kita hapus\n",
    "\n",
    "sekarang kita akan membandingkannya dengan semua data di austin"
   ]
  },
  {
   "cell_type": "code",
   "execution_count": 105,
   "metadata": {},
   "outputs": [
    {
     "name": "stdout",
     "output_type": "stream",
     "text": [
      "mean dengan BALCONES RECYCLING outliers =  12189.989889490384\n",
      "mean tanpa BALCONES RECYCLING outliers =  12186.919405690465\n",
      " \n",
      "median dengan BALCONES RECYCLING outliers =  11300.0\n",
      "median tanpa BALCONES RECYCLING outliers =  11300.0\n",
      " \n",
      "mode dengan BALCONES RECYCLING outliers =  0    11300.0\n",
      "Name: load_weight, dtype: float64\n",
      "mode tanpa BALCONES RECYCLING outliers =  0    11300.0\n",
      "Name: load_weight, dtype: float64\n"
     ]
    }
   ],
   "source": [
    "print('mean dengan BALCONES RECYCLING outliers = ', df['load_weight'].mean())\n",
    "print('mean tanpa BALCONES RECYCLING outliers = ', df['load_weight'].drop(index = [136,809,818,18243,18413,20447,22239,22246]).mean())\n",
    "print(' ')\n",
    "print('median dengan BALCONES RECYCLING outliers = ', df['load_weight'].median())\n",
    "print('median tanpa BALCONES RECYCLING outliers = ', df['load_weight'].drop(index = [136,809,818,18243,18413,20447,22239,22246]).median())\n",
    "print(' ')\n",
    "print('mode dengan BALCONES RECYCLING outliers = ', df['load_weight'].mode())\n",
    "print('mode tanpa BALCONES RECYCLING outliers = ', df['load_weight'].drop(index = [136,809,818,18243,18413,20447,22239,22246]).mode())"
   ]
  },
  {
   "attachments": {},
   "cell_type": "markdown",
   "metadata": {},
   "source": [
    "hasilnya seperti sebelumnya, tetap tidak ada perbedaan. hal tersebut dikarenakan hanya 8 data outliers dari 3837 data yang dihapus, jadi tidak ada perbedaan yang signifikan dari 2 perbandingan yang kita buat"
   ]
  },
  {
   "attachments": {},
   "cell_type": "markdown",
   "metadata": {},
   "source": [
    "### Eksplorasi Statistik"
   ]
  },
  {
   "attachments": {},
   "cell_type": "markdown",
   "metadata": {},
   "source": [
    "pada sesi ini, kita akan menghitung range, variance, dan standar deviasi dari BALCONES RECYCLING"
   ]
  },
  {
   "cell_type": "code",
   "execution_count": 106,
   "metadata": {},
   "outputs": [
    {
     "name": "stdout",
     "output_type": "stream",
     "text": [
      "Range =  20320.0\n",
      "Variance =  14602185.819106389\n",
      "Standar deviasi =  3821.2806517064914\n"
     ]
    }
   ],
   "source": [
    "df1_range = df1['load_weight'].max()- df1['load_weight'].min()  #rumus range\n",
    "\n",
    "df1_var = df1['load_weight'].var()                              #rumus variance\n",
    "\n",
    "df1_std = df1['load_weight'].std()                              #rumus standar deviasi\n",
    "\n",
    "print('Range = ', df1_range)\n",
    "print('Variance = ', df1_var)                                   #memanggil fungsi diatas\n",
    "print('Standar deviasi = ', df1_std)"
   ]
  },
  {
   "attachments": {},
   "cell_type": "markdown",
   "metadata": {},
   "source": [
    "kesimpulan dari hasil diatas BALCONES RECYCLING memiliki range 20.320 KG, karena kita tau batas bawah berada di 0 KG. kebanyakan data tersebut berada di sekitar 3821 KG. "
   ]
  },
  {
   "cell_type": "code",
   "execution_count": 107,
   "metadata": {},
   "outputs": [
    {
     "data": {
      "text/html": [
       "<div>\n",
       "<style scoped>\n",
       "    .dataframe tbody tr th:only-of-type {\n",
       "        vertical-align: middle;\n",
       "    }\n",
       "\n",
       "    .dataframe tbody tr th {\n",
       "        vertical-align: top;\n",
       "    }\n",
       "\n",
       "    .dataframe thead th {\n",
       "        text-align: right;\n",
       "    }\n",
       "</style>\n",
       "<table border=\"1\" class=\"dataframe\">\n",
       "  <thead>\n",
       "    <tr style=\"text-align: right;\">\n",
       "      <th></th>\n",
       "      <th>report_date</th>\n",
       "      <th>load_type</th>\n",
       "      <th>load_weight</th>\n",
       "      <th>dropoff_site</th>\n",
       "    </tr>\n",
       "  </thead>\n",
       "  <tbody>\n",
       "    <tr>\n",
       "      <th>12516</th>\n",
       "      <td>2021-03-31</td>\n",
       "      <td>RECYCLING - SINGLE STREAM</td>\n",
       "      <td>140.0</td>\n",
       "      <td>BALCONES RECYCLING</td>\n",
       "    </tr>\n",
       "    <tr>\n",
       "      <th>23572</th>\n",
       "      <td>2021-06-18</td>\n",
       "      <td>RECYCLING - SINGLE STREAM</td>\n",
       "      <td>500.0</td>\n",
       "      <td>BALCONES RECYCLING</td>\n",
       "    </tr>\n",
       "    <tr>\n",
       "      <th>11566</th>\n",
       "      <td>2021-03-25</td>\n",
       "      <td>RECYCLING - SINGLE STREAM</td>\n",
       "      <td>620.0</td>\n",
       "      <td>BALCONES RECYCLING</td>\n",
       "    </tr>\n",
       "    <tr>\n",
       "      <th>19596</th>\n",
       "      <td>2021-05-20</td>\n",
       "      <td>RECYCLING - SINGLE STREAM</td>\n",
       "      <td>640.0</td>\n",
       "      <td>BALCONES RECYCLING</td>\n",
       "    </tr>\n",
       "    <tr>\n",
       "      <th>25200</th>\n",
       "      <td>2021-07-01</td>\n",
       "      <td>RECYCLING - SINGLE STREAM</td>\n",
       "      <td>700.0</td>\n",
       "      <td>BALCONES RECYCLING</td>\n",
       "    </tr>\n",
       "  </tbody>\n",
       "</table>\n",
       "</div>"
      ],
      "text/plain": [
       "      report_date                  load_type  load_weight        dropoff_site\n",
       "12516  2021-03-31  RECYCLING - SINGLE STREAM        140.0  BALCONES RECYCLING\n",
       "23572  2021-06-18  RECYCLING - SINGLE STREAM        500.0  BALCONES RECYCLING\n",
       "11566  2021-03-25  RECYCLING - SINGLE STREAM        620.0  BALCONES RECYCLING\n",
       "19596  2021-05-20  RECYCLING - SINGLE STREAM        640.0  BALCONES RECYCLING\n",
       "25200  2021-07-01  RECYCLING - SINGLE STREAM        700.0  BALCONES RECYCLING"
      ]
     },
     "execution_count": 107,
     "metadata": {},
     "output_type": "execute_result"
    }
   ],
   "source": [
    "df1.sort_values(by=['load_weight']).head()"
   ]
  },
  {
   "cell_type": "code",
   "execution_count": 108,
   "metadata": {},
   "outputs": [
    {
     "data": {
      "text/html": [
       "<div>\n",
       "<style scoped>\n",
       "    .dataframe tbody tr th:only-of-type {\n",
       "        vertical-align: middle;\n",
       "    }\n",
       "\n",
       "    .dataframe tbody tr th {\n",
       "        vertical-align: top;\n",
       "    }\n",
       "\n",
       "    .dataframe thead th {\n",
       "        text-align: right;\n",
       "    }\n",
       "</style>\n",
       "<table border=\"1\" class=\"dataframe\">\n",
       "  <thead>\n",
       "    <tr style=\"text-align: right;\">\n",
       "      <th></th>\n",
       "      <th>report_date</th>\n",
       "      <th>load_type</th>\n",
       "      <th>load_weight</th>\n",
       "      <th>dropoff_site</th>\n",
       "    </tr>\n",
       "  </thead>\n",
       "  <tbody>\n",
       "    <tr>\n",
       "      <th>5608</th>\n",
       "      <td>2021-02-12</td>\n",
       "      <td>RECYCLING - SINGLE STREAM</td>\n",
       "      <td>20180.0</td>\n",
       "      <td>BALCONES RECYCLING</td>\n",
       "    </tr>\n",
       "    <tr>\n",
       "      <th>12517</th>\n",
       "      <td>2021-03-31</td>\n",
       "      <td>RECYCLING - SINGLE STREAM</td>\n",
       "      <td>20230.0</td>\n",
       "      <td>BALCONES RECYCLING</td>\n",
       "    </tr>\n",
       "    <tr>\n",
       "      <th>21292</th>\n",
       "      <td>2021-06-02</td>\n",
       "      <td>RECYCLING - SINGLE STREAM</td>\n",
       "      <td>20360.0</td>\n",
       "      <td>BALCONES RECYCLING</td>\n",
       "    </tr>\n",
       "    <tr>\n",
       "      <th>16721</th>\n",
       "      <td>2021-04-29</td>\n",
       "      <td>RECYCLING - SINGLE STREAM</td>\n",
       "      <td>20380.0</td>\n",
       "      <td>BALCONES RECYCLING</td>\n",
       "    </tr>\n",
       "    <tr>\n",
       "      <th>21663</th>\n",
       "      <td>2021-06-04</td>\n",
       "      <td>RECYCLING - SINGLE STREAM</td>\n",
       "      <td>20460.0</td>\n",
       "      <td>BALCONES RECYCLING</td>\n",
       "    </tr>\n",
       "  </tbody>\n",
       "</table>\n",
       "</div>"
      ],
      "text/plain": [
       "      report_date                  load_type  load_weight        dropoff_site\n",
       "5608   2021-02-12  RECYCLING - SINGLE STREAM      20180.0  BALCONES RECYCLING\n",
       "12517  2021-03-31  RECYCLING - SINGLE STREAM      20230.0  BALCONES RECYCLING\n",
       "21292  2021-06-02  RECYCLING - SINGLE STREAM      20360.0  BALCONES RECYCLING\n",
       "16721  2021-04-29  RECYCLING - SINGLE STREAM      20380.0  BALCONES RECYCLING\n",
       "21663  2021-06-04  RECYCLING - SINGLE STREAM      20460.0  BALCONES RECYCLING"
      ]
     },
     "execution_count": 108,
     "metadata": {},
     "output_type": "execute_result"
    }
   ],
   "source": [
    "df1.sort_values(by=['load_weight']).tail()"
   ]
  },
  {
   "attachments": {},
   "cell_type": "markdown",
   "metadata": {},
   "source": [
    "### Analisis Site Baru"
   ]
  },
  {
   "attachments": {},
   "cell_type": "markdown",
   "metadata": {},
   "source": [
    "Pemerintah ingin membuat Site baru di Austin. Beliau meminta kita untuk menganalisa dan memperkirakan kapasitas untuk Site baru. kita dapat mengerjakannya dengan menghitung Confidence Interval. Confidence Interval membantu kita memperkirakan kapasitas Site baru. Kita akan menggunakan hasil analisis kita di BALCONES RECYCLING untuk memberikan hasil perkiraan kita kepada Pemerintah. setelah kita mmenangani data sampah terbanyak di Austin, kita dapat memberikan perkiraan dari nilai maksimal untuk Site baru yang tidak akan lebih besar dari yang diperlukan"
   ]
  },
  {
   "attachments": {},
   "cell_type": "markdown",
   "metadata": {},
   "source": [
    "pertama kita harus membuat groupping data dari tanggal, jadi kita tau berapa banyak sampah pergi ke site per harinya."
   ]
  },
  {
   "cell_type": "code",
   "execution_count": 109,
   "metadata": {},
   "outputs": [
    {
     "data": {
      "text/plain": [
       "load_weight    384447.45\n",
       "dtype: float64"
      ]
     },
     "execution_count": 109,
     "metadata": {},
     "output_type": "execute_result"
    }
   ],
   "source": [
    "daily_input = df1[['report_date','load_weight']].groupby(df1['report_date']).sum().sort_values('report_date')\n",
    "daily_input.mean().round(2)"
   ]
  },
  {
   "attachments": {},
   "cell_type": "markdown",
   "metadata": {},
   "source": [
    "selanjutnya kita akan menghitung kapasitas site baru dengan Confidence Interval"
   ]
  },
  {
   "cell_type": "code",
   "execution_count": 110,
   "metadata": {},
   "outputs": [
    {
     "data": {
      "text/plain": [
       "(15977.401000624814, 752917.4926163964)"
      ]
     },
     "execution_count": 110,
     "metadata": {},
     "output_type": "execute_result"
    }
   ],
   "source": [
    "conf = stats.norm.interval(0.95, daily_input.load_weight.mean(), daily_input.load_weight.std())\n",
    "conf"
   ]
  },
  {
   "attachments": {},
   "cell_type": "markdown",
   "metadata": {},
   "source": [
    "karena kita dapat batas bawah dari confidence interval, kita dapat menyarankan pemerintah untuk kapasitas site baru antara 15.977 - 752.917 KG. jika mereka membuat lebih dari 752.917 KG, akan ada kemungkinan sampah akan terlalu besar dan tidak akan terpakai hingga kapasitas maksimal. akan aman apabila pemerintah membuat site baru dengan kapasitas dibawah 752.917 KG"
   ]
  },
  {
   "attachments": {},
   "cell_type": "markdown",
   "metadata": {},
   "source": [
    "### Hypothesis Testing"
   ]
  },
  {
   "cell_type": "code",
   "execution_count": 111,
   "metadata": {},
   "outputs": [
    {
     "data": {
      "text/plain": [
       "dropoff_site\n",
       "AUSTIN IRON AND METAL        22560.0\n",
       "AUSTIN WOOD RECYCLING         8100.0\n",
       "BALCONES RECYCLING        36315870.0\n",
       "BALCONES WOODS                8460.0\n",
       "GREAT NORTHERN              838120.0\n",
       "HORNSBY BEND              10984420.0\n",
       "MRF                         302397.0\n",
       "ON ROUTE HIGH DUMP          923880.0\n",
       "ONION CREEK                9186900.0\n",
       "ORGANICS BY GOSH          68008106.0\n",
       "PARK BEND                    53540.0\n",
       "PARK CENTER                 847500.0\n",
       "ST. EDWARDS                  11300.0\n",
       "STEINER LANDFILL               780.0\n",
       "TDS - MRF                 29104280.0\n",
       "TDS LANDFILL             162210033.0\n",
       "WESTFIELD                    16020.0\n",
       "WILCAB                       11300.0\n",
       "Name: load_weight, dtype: float64"
      ]
     },
     "execution_count": 111,
     "metadata": {},
     "output_type": "execute_result"
    }
   ],
   "source": [
    "df.groupby(by = 'dropoff_site', sort = True)['load_weight'].sum().round(0)"
   ]
  },
  {
   "attachments": {},
   "cell_type": "markdown",
   "metadata": {},
   "source": [
    "kali ini, kita akan melakukan test apakah jumlah sampah di TDS - MRF sama dengan BALCONES RECYCLING. kita harus menjabarkan H0 dan H1 terlebih dahulu baru kita dapat melakukan Hypothesis Testing"
   ]
  },
  {
   "attachments": {},
   "cell_type": "markdown",
   "metadata": {},
   "source": [
    "H0 = &mu; BALCONES RECYCLING load weight = &mu; TDS - MRF  load weight\n",
    "\n",
    "H1 = &mu; BALCONES RECYCLING load weight != &mu; TDS - MRF load weight\n"
   ]
  },
  {
   "cell_type": "code",
   "execution_count": 112,
   "metadata": {},
   "outputs": [
    {
     "data": {
      "text/html": [
       "<div>\n",
       "<style scoped>\n",
       "    .dataframe tbody tr th:only-of-type {\n",
       "        vertical-align: middle;\n",
       "    }\n",
       "\n",
       "    .dataframe tbody tr th {\n",
       "        vertical-align: top;\n",
       "    }\n",
       "\n",
       "    .dataframe thead th {\n",
       "        text-align: right;\n",
       "    }\n",
       "</style>\n",
       "<table border=\"1\" class=\"dataframe\">\n",
       "  <thead>\n",
       "    <tr style=\"text-align: right;\">\n",
       "      <th></th>\n",
       "      <th>count</th>\n",
       "      <th>mean</th>\n",
       "      <th>std</th>\n",
       "      <th>min</th>\n",
       "      <th>25%</th>\n",
       "      <th>50%</th>\n",
       "      <th>75%</th>\n",
       "      <th>max</th>\n",
       "    </tr>\n",
       "  </thead>\n",
       "  <tbody>\n",
       "    <tr>\n",
       "      <th>load_weight</th>\n",
       "      <td>3837.0</td>\n",
       "      <td>9464.652072</td>\n",
       "      <td>3862.243653</td>\n",
       "      <td>140.0</td>\n",
       "      <td>6260.0</td>\n",
       "      <td>9840.0</td>\n",
       "      <td>12080.0</td>\n",
       "      <td>25780.0</td>\n",
       "    </tr>\n",
       "  </tbody>\n",
       "</table>\n",
       "</div>"
      ],
      "text/plain": [
       "              count         mean          std    min     25%     50%      75%  \\\n",
       "load_weight  3837.0  9464.652072  3862.243653  140.0  6260.0  9840.0  12080.0   \n",
       "\n",
       "                 max  \n",
       "load_weight  25780.0  "
      ]
     },
     "execution_count": 112,
     "metadata": {},
     "output_type": "execute_result"
    }
   ],
   "source": [
    "#melakukan slicing pada BALCONES RECYCLING\n",
    "df1 = df.loc[df['dropoff_site']=='BALCONES RECYCLING']\n",
    "\n",
    "#statistik deskriptif untuk melihat Central of Tendency dari BALCONES RECYCLING\n",
    "df1.describe().T"
   ]
  },
  {
   "cell_type": "code",
   "execution_count": 113,
   "metadata": {},
   "outputs": [
    {
     "data": {
      "text/html": [
       "<div>\n",
       "<style scoped>\n",
       "    .dataframe tbody tr th:only-of-type {\n",
       "        vertical-align: middle;\n",
       "    }\n",
       "\n",
       "    .dataframe tbody tr th {\n",
       "        vertical-align: top;\n",
       "    }\n",
       "\n",
       "    .dataframe thead th {\n",
       "        text-align: right;\n",
       "    }\n",
       "</style>\n",
       "<table border=\"1\" class=\"dataframe\">\n",
       "  <thead>\n",
       "    <tr style=\"text-align: right;\">\n",
       "      <th></th>\n",
       "      <th>count</th>\n",
       "      <th>mean</th>\n",
       "      <th>std</th>\n",
       "      <th>min</th>\n",
       "      <th>25%</th>\n",
       "      <th>50%</th>\n",
       "      <th>75%</th>\n",
       "      <th>max</th>\n",
       "    </tr>\n",
       "  </thead>\n",
       "  <tbody>\n",
       "    <tr>\n",
       "      <th>load_weight</th>\n",
       "      <td>2948.0</td>\n",
       "      <td>9872.550882</td>\n",
       "      <td>4083.627968</td>\n",
       "      <td>40.0</td>\n",
       "      <td>6960.0</td>\n",
       "      <td>10330.0</td>\n",
       "      <td>12185.0</td>\n",
       "      <td>29940.0</td>\n",
       "    </tr>\n",
       "  </tbody>\n",
       "</table>\n",
       "</div>"
      ],
      "text/plain": [
       "              count         mean          std   min     25%      50%      75%  \\\n",
       "load_weight  2948.0  9872.550882  4083.627968  40.0  6960.0  10330.0  12185.0   \n",
       "\n",
       "                 max  \n",
       "load_weight  29940.0  "
      ]
     },
     "execution_count": 113,
     "metadata": {},
     "output_type": "execute_result"
    }
   ],
   "source": [
    "#melakukan slicing TDS - MRF\n",
    "mrf = df[(df['dropoff_site']=='TDS - MRF')]\n",
    "\n",
    "#statistik deskriptif untuk melihat Central of Tendency dari TDS - MRF\n",
    "mrf.describe().T"
   ]
  },
  {
   "attachments": {},
   "cell_type": "markdown",
   "metadata": {},
   "source": [
    "Load weight BALCONES RECYCLING:\n",
    "- mean = 9464.652072\n",
    "\n",
    "Load weight TDS - MRF:\n",
    "- mean = 9872.550882"
   ]
  },
  {
   "attachments": {},
   "cell_type": "markdown",
   "metadata": {},
   "source": [
    "Rata-rata perbedaan sampah kedua site berikut sekitar 400 KG. kita akan mencari tau apakah perbedaan tersebut signifikan menggunakan p-value"
   ]
  },
  {
   "cell_type": "code",
   "execution_count": 114,
   "metadata": {},
   "outputs": [
    {
     "name": "stdout",
     "output_type": "stream",
     "text": [
      "P-value: 2.6352072682751783e-05\n",
      "t-statistics: -4.205789786288578\n"
     ]
    }
   ],
   "source": [
    "t_stat, p_val = stats.ttest_ind(df1['load_weight'], mrf['load_weight'])        #t-test\n",
    "\n",
    "print('P-value:',p_val)                                                             #t-test adalah 2 tail, jadi tidak perlu dibagi 2\n",
    "print('t-statistics:',t_stat)"
   ]
  },
  {
   "cell_type": "code",
   "execution_count": 115,
   "metadata": {},
   "outputs": [
    {
     "name": "stderr",
     "output_type": "stream",
     "text": [
      "c:\\Users\\Lenovo\\anaconda3\\lib\\site-packages\\seaborn\\distributions.py:2619: FutureWarning: `distplot` is a deprecated function and will be removed in a future version. Please adapt your code to use either `displot` (a figure-level function with similar flexibility) or `histplot` (an axes-level function for histograms).\n",
      "  warnings.warn(msg, FutureWarning)\n",
      "c:\\Users\\Lenovo\\anaconda3\\lib\\site-packages\\seaborn\\distributions.py:2619: FutureWarning: `distplot` is a deprecated function and will be removed in a future version. Please adapt your code to use either `displot` (a figure-level function with similar flexibility) or `histplot` (an axes-level function for histograms).\n",
      "  warnings.warn(msg, FutureWarning)\n"
     ]
    },
    {
     "data": {
      "image/png": "[encoded data removed]",
      "text/plain": [
       "<Figure size 1300x500 with 1 Axes>"
      ]
     },
     "metadata": {},
     "output_type": "display_data"
    }
   ],
   "source": [
    "# simulation\n",
    "tds_pop = np.random.normal(df1['load_weight'].mean(),df1['load_weight'].std(),10000)\n",
    "organics_pop = np.random.normal(mrf['load_weight'].mean(),mrf['load_weight'].std(),10000)\n",
    "\n",
    "# confidence interval pada BALCONES RECYCLING\n",
    "# memakai cv = 0.05 since 2 tailed, we use 0.95 as it is. \n",
    "ci = stats.norm.interval(0.95, df1['load_weight'].mean(), df1['load_weight'].std())\n",
    "\n",
    "plt.figure(figsize=(13,5))\n",
    "sns.distplot(tds_pop, label='BALCONES RECYCLING load weight *Pop',color='blue')\n",
    "sns.distplot(organics_pop, label='TDS - MRF load weight *Pop',color='red')\n",
    "\n",
    "# mean\n",
    "plt.axvline(df1['load_weight'].mean(), color='blue', linewidth=2, label='BALCONES RECYCLING load weight mean')\n",
    "plt.axvline(mrf['load_weight'].mean(), color='red',  linewidth=2, label='TDS - MRF load weight mean')\n",
    "\n",
    "plt.axvline(ci[1], color='green', linestyle='dashed', linewidth=2, label='confidence threshold of 95%')\n",
    "plt.axvline(ci[0], color='green', linestyle='dashed', linewidth=2, label='confidence threshold of 95%')\n",
    "\n",
    "# alternative hypotesis\n",
    "plt.axvline(tds_pop.mean()+t_stat*tds_pop.std(), color='black', linestyle='dashed', linewidth=2, label = 'Alternative Hypothesis')\n",
    "\n",
    "plt.legend()\n",
    "plt.show()"
   ]
  },
  {
   "attachments": {},
   "cell_type": "markdown",
   "metadata": {},
   "source": [
    "dari hasil statistic diatas p-value hampir bernilai 0. maka dari itu, hasilnya adalah gagal menolak H0.\n",
    "\n",
    "insight yang akan diberikan kepada pemerintah adalah BALCONES RECYCLING sama dengan TDS - MRF. memacu dari informasi yang didapat dari 2 site, ide yang bagus untuk mendistribusikan sampah berdasarkan kategori agar pengolahan sampah dapat dilakukan dengan efisien dan mempercepat proses daur ulang dari setiap sampah. agar tidak tercampurnya sampah pada setiap kategori, hal tersebut perlu dilakukan karena mengingat setiap hari sampah meningkat setiap harinya."
   ]
  },
  {
   "attachments": {},
   "cell_type": "markdown",
   "metadata": {},
   "source": [
    "### pemahaman konsep statistik"
   ]
  },
  {
   "attachments": {},
   "cell_type": "markdown",
   "metadata": {},
   "source": [
    "Pertanyaan:\n",
    "\n",
    "1. Teknik apa yang kamu pilih untuk handling outlier? jelaskan alasannya!\n",
    "\n",
    "2. Apa konsep dibalik confidence interval sehingga kita dapat menggunakannya untuk menyelesaikan langkah pada nomor 7?\n",
    "\n",
    "3. Jelaskan jenis uji hipotesis apa yang kamu terapkan dan mengapa?"
   ]
  },
  {
   "attachments": {},
   "cell_type": "markdown",
   "metadata": {},
   "source": [
    "Jawaban:\n",
    "\n",
    "1. Teknik yang digunakan untuk handling outliers adalah IQR karena site BALCONES RECYCLING load_weight merupakan data yang termasuk fairly symmetrical. dengan nilai skew 0,10 yang menurut saya cocok untuk memakai metode IQR\n",
    "\n",
    "2. karena kita telah menganalisa salah satu site recycle terbesar di austin, jadi kita dapat membuat perkiraan bahwa data tersebut ada yang tidak komplit. ini merupakan hal yang baik dalam perkiraan untuk site baru.hal tersebut berdasarkan meas, standar deviasi tersebut berada dalam jarak perhitungan data. dan dengan menggunakan 95% confidence level, saya yakin bahwa dari 95% pasti termasuk upper dan lower values dari confidence interval\n",
    "\n",
    "3. saya menggunakan t-test 2 sample 2 tailed karna saya ingin menguji rata-rata data dari BALCONES RECYCLING dan TDS - MRF sama atau tidak. dari pembuktian hipotesi sudah terbukti bahwa rata-rata dari site tersebut tidak jauh berbeda"
   ]
  },
  {
   "attachments": {},
   "cell_type": "markdown",
   "metadata": {},
   "source": [
    "## Problem 2"
   ]
  },
  {
   "attachments": {},
   "cell_type": "markdown",
   "metadata": {},
   "source": [
    "### Eksplorasi data"
   ]
  },
  {
   "attachments": {},
   "cell_type": "markdown",
   "metadata": {},
   "source": [
    "pemerintah menginginkan kita untuk memprediksi berapa kg sampah di Austin. kita akan menggunakan rumus kecepatan\n",
    "\n",
    "W(besok) = W(hari ini) + V*Delta T\n",
    "\n",
    "kita akan berasumsi Delta T adalah 1 karena memperkirakan untuk besok"
   ]
  },
  {
   "attachments": {},
   "cell_type": "markdown",
   "metadata": {},
   "source": [
    "pertama kita akan melakukan groupping load_weight dengan report_date"
   ]
  },
  {
   "cell_type": "code",
   "execution_count": 116,
   "metadata": {},
   "outputs": [
    {
     "data": {
      "text/html": [
       "<div>\n",
       "<style scoped>\n",
       "    .dataframe tbody tr th:only-of-type {\n",
       "        vertical-align: middle;\n",
       "    }\n",
       "\n",
       "    .dataframe tbody tr th {\n",
       "        vertical-align: top;\n",
       "    }\n",
       "\n",
       "    .dataframe thead th {\n",
       "        text-align: right;\n",
       "    }\n",
       "</style>\n",
       "<table border=\"1\" class=\"dataframe\">\n",
       "  <thead>\n",
       "    <tr style=\"text-align: right;\">\n",
       "      <th></th>\n",
       "      <th>load_weight</th>\n",
       "    </tr>\n",
       "    <tr>\n",
       "      <th>report_date</th>\n",
       "      <th></th>\n",
       "    </tr>\n",
       "  </thead>\n",
       "  <tbody>\n",
       "    <tr>\n",
       "      <th>2021-01-01</th>\n",
       "      <td>45200.0</td>\n",
       "    </tr>\n",
       "    <tr>\n",
       "      <th>2021-01-02</th>\n",
       "      <td>2204030.0</td>\n",
       "    </tr>\n",
       "    <tr>\n",
       "      <th>2021-01-04</th>\n",
       "      <td>2920260.0</td>\n",
       "    </tr>\n",
       "    <tr>\n",
       "      <th>2021-01-05</th>\n",
       "      <td>2399840.0</td>\n",
       "    </tr>\n",
       "    <tr>\n",
       "      <th>2021-01-06</th>\n",
       "      <td>2453050.0</td>\n",
       "    </tr>\n",
       "    <tr>\n",
       "      <th>...</th>\n",
       "      <td>...</td>\n",
       "    </tr>\n",
       "    <tr>\n",
       "      <th>2021-07-05</th>\n",
       "      <td>1897290.0</td>\n",
       "    </tr>\n",
       "    <tr>\n",
       "      <th>2021-07-06</th>\n",
       "      <td>1989440.0</td>\n",
       "    </tr>\n",
       "    <tr>\n",
       "      <th>2021-07-07</th>\n",
       "      <td>1654780.0</td>\n",
       "    </tr>\n",
       "    <tr>\n",
       "      <th>2021-07-08</th>\n",
       "      <td>1541950.0</td>\n",
       "    </tr>\n",
       "    <tr>\n",
       "      <th>2021-07-09</th>\n",
       "      <td>176840.0</td>\n",
       "    </tr>\n",
       "  </tbody>\n",
       "</table>\n",
       "<p>166 rows × 1 columns</p>\n",
       "</div>"
      ],
      "text/plain": [
       "             load_weight\n",
       "report_date             \n",
       "2021-01-01       45200.0\n",
       "2021-01-02     2204030.0\n",
       "2021-01-04     2920260.0\n",
       "2021-01-05     2399840.0\n",
       "2021-01-06     2453050.0\n",
       "...                  ...\n",
       "2021-07-05     1897290.0\n",
       "2021-07-06     1989440.0\n",
       "2021-07-07     1654780.0\n",
       "2021-07-08     1541950.0\n",
       "2021-07-09      176840.0\n",
       "\n",
       "[166 rows x 1 columns]"
      ]
     },
     "execution_count": 116,
     "metadata": {},
     "output_type": "execute_result"
    }
   ],
   "source": [
    "rumus = df.groupby('report_date')['load_weight'].sum().to_frame()\n",
    "rumus"
   ]
  },
  {
   "attachments": {},
   "cell_type": "markdown",
   "metadata": {},
   "source": [
    "selanjutnya kita akan membuat variabel untuk menghitung diferensial data kita dan membaginya dengan diferensial range data"
   ]
  },
  {
   "cell_type": "code",
   "execution_count": 117,
   "metadata": {},
   "outputs": [],
   "source": [
    "v = np.diff(rumus['load_weight'])/np.diff(range(166))"
   ]
  },
  {
   "attachments": {},
   "cell_type": "markdown",
   "metadata": {},
   "source": [
    "kemudian kita akan menghitung sampah besok dengan rumus yang sudah ada"
   ]
  },
  {
   "cell_type": "code",
   "execution_count": 118,
   "metadata": {},
   "outputs": [
    {
     "data": {
      "text/plain": [
       "1188270.0"
      ]
     },
     "execution_count": 118,
     "metadata": {},
     "output_type": "execute_result"
    }
   ],
   "source": [
    "w_besok = rumus['load_weight'][-1] + v[-1] * 1\n",
    "abs(w_besok)"
   ]
  },
  {
   "attachments": {},
   "cell_type": "markdown",
   "metadata": {},
   "source": [
    "dari perhitungan diatas, kita dapat perkirakan bahwa besok total berat sampah adalah 1.189.197 KG"
   ]
  },
  {
   "attachments": {},
   "cell_type": "markdown",
   "metadata": {},
   "source": [
    "#### Pemahaman Konsep Matematika"
   ]
  },
  {
   "attachments": {},
   "cell_type": "markdown",
   "metadata": {},
   "source": [
    "Pertanyaan:\n",
    "\n",
    "1. Untuk menghitung turunan pertama dapat digunakan metode simbolik dan numerik, untuk kasus ini, teknik apa yang kamu gunakan?\n",
    "\n",
    "2. Apakah kamu membutuhkan fungsi matematis untuk menghitung turunannya? (ya/tidak) berikan alasanmu!\n",
    "\n",
    "3. Berapa load weight yang kamu perkirakan di hari esok (10 Juli 2021)?"
   ]
  },
  {
   "attachments": {},
   "cell_type": "markdown",
   "metadata": {},
   "source": [
    "Jawaban:\n",
    "\n",
    "1. pada problem ini, saya menggunakan metode numerik diterapkan pada fungsi .diff() dari library numpy\n",
    "\n",
    "2. Ya, memang dibutuhkan. karena menghitung diferensial dari data membutuhkan fungsi matematika untuk memperkirakan berat sampah besok\n",
    "\n",
    "3. perkiraan berat sampah untuk besok adalah 1.188.270 KG"
   ]
  },
  {
   "attachments": {},
   "cell_type": "markdown",
   "metadata": {},
   "source": [
    "# Kesimpulan"
   ]
  },
  {
   "attachments": {},
   "cell_type": "markdown",
   "metadata": {},
   "source": [
    "Dari challenge diatas, kita berawal dari query data dari google cloud platform untuk mengambil data yang ingin dianalisa. sesudah itu, kita cleaning data menggunakan pandas. lalu kita melakukan eksplorasi data menggunakan data tersebut.\n",
    "\n",
    "dari analisa yang kita selesaikan, sampah di kota Austin tidak terdistribusi dengan baik. beberapa site memiliki kapasitas lebih besar dari yang lain. salah satunya yang telah kita analisis, BALCONES RECYCLING memiliki total berat 36.315.870 KG yang menjadi sampah ketiga terbesar di kota Austin. hal ini akan lebih baik jika sampah terdistribusi bahkan jika perlu sampah harus dipisahkan berdasarkan kategori untuk mempercepat proses daur ulang dari setiap sampah agar tidak semakin lama karena sudah tercampur dengan kategori sampah yang lain\n",
    "\n",
    "kita juga dapat memprediksi load weight untuk keesokan harinya. berdasarkan perhitungan kita menggunakan diferensial, hasil perkiraan kita merupakan 1.188.270 KG"
   ]
  }
 ],
 "metadata": {
  "kernelspec": {
   "display_name": "Python 3.9.13 ('base')",
   "language": "python",
   "name": "python3"
  },
  "language_info": {
   "codemirror_mode": {
    "name": "ipython",
    "version": 3
   },
   "file_extension": ".py",
   "mimetype": "text/x-python",
   "name": "python",
   "nbconvert_exporter": "python",
   "pygments_lexer": "ipython3",
   "version": "3.9.13"
  },
  "orig_nbformat": 4,
  "vscode": {
   "interpreter": {
    "hash": "20a9e06a1eee47c4abbed4ec8225ad91d78d9800d202b71b6b0a6e47016c6abd"
   }
  }
 },
 "nbformat": 4,
 "nbformat_minor": 2
}
